{
  "cells": [
    {
      "cell_type": "markdown",
      "metadata": {
        "id": "view-in-github",
        "colab_type": "text"
      },
      "source": [
        "<a href=\"https://colab.research.google.com/github/sifatk/machine_learning/blob/main/US_accident.ipynb\" target=\"_parent\"><img src=\"https://colab.research.google.com/assets/colab-badge.svg\" alt=\"Open In Colab\"/></a>"
      ]
    },
    {
      "cell_type": "code",
      "execution_count": 1,
      "metadata": {
        "colab": {
          "base_uri": "https://localhost:8080/"
        },
        "id": "m0Fy0reDcs8e",
        "outputId": "5a4769ba-523e-45eb-aab8-901a987d6c1a"
      },
      "outputs": [
        {
          "output_type": "stream",
          "name": "stdout",
          "text": [
            "/\n",
            "Mounted at /content/gdrive\n"
          ]
        }
      ],
      "source": [
        "%cd ..\n",
        "from google.colab import drive\n",
        "drive.mount('/content/gdrive')"
      ]
    },
    {
      "cell_type": "code",
      "execution_count": 2,
      "metadata": {
        "id": "CQ3KXIkOc6BM"
      },
      "outputs": [],
      "source": [
        "!ln -s /content/gdrive/My\\ Drive/ /mydrive"
      ]
    },
    {
      "cell_type": "code",
      "execution_count": 3,
      "metadata": {
        "id": "Tw2G067adMJl"
      },
      "outputs": [],
      "source": [
        "import os\n",
        "os.makedirs(\"/content/dataset\")"
      ]
    },
    {
      "cell_type": "code",
      "execution_count": 4,
      "metadata": {
        "colab": {
          "base_uri": "https://localhost:8080/"
        },
        "id": "jLoYaATidV_l",
        "outputId": "5f9fbe6e-25a9-4426-9f7c-9eeb611636bc"
      },
      "outputs": [
        {
          "output_type": "stream",
          "name": "stdout",
          "text": [
            "'/mydrive/Dataset/us_accident.zip' -> '/content/dataset/us_accident.zip'\n"
          ]
        }
      ],
      "source": [
        "! sudo cp -v -r \"/mydrive/Dataset/us_accident.zip\" \"/content/dataset\"\n"
      ]
    },
    {
      "cell_type": "code",
      "execution_count": 5,
      "metadata": {
        "colab": {
          "base_uri": "https://localhost:8080/"
        },
        "id": "Hpi6CzB9d4M6",
        "outputId": "ce1feff5-dfdc-4bd0-b0ce-e3aa34277440"
      },
      "outputs": [
        {
          "output_type": "stream",
          "name": "stdout",
          "text": [
            "Archive:  /content/dataset/us_accident.zip\n",
            "  inflating: /content/dataset/US_Accidents_Dec21_updated.csv  \n"
          ]
        }
      ],
      "source": [
        "! unzip /content/dataset/us_accident.zip  -d /content/dataset/\n"
      ]
    },
    {
      "cell_type": "code",
      "execution_count": 6,
      "metadata": {
        "id": "xFOrI25VeD2k"
      },
      "outputs": [],
      "source": [
        "import torch\n",
        "import os\n",
        "from random import choice\n",
        "import shutil\n",
        "\n",
        "from matplotlib import pyplot as plt\n",
        "import numpy as np\n",
        "import seaborn as sns\n",
        "import pandas as pd\n",
        "import cv2\n",
        "\n",
        "from sklearn.preprocessing import StandardScaler\n",
        "from sklearn import preprocessing\n",
        "from sklearn.model_selection import train_test_split,GridSearchCV\n",
        "from keras.models import Sequential\n",
        "from keras.layers import Dense, LSTM\n",
        "from keras.callbacks import EarlyStopping\n",
        "\n",
        "\n",
        "\n",
        "from sklearn.metrics import classification_report, confusion_matrix, accuracy_score, f1_score, roc_curve\n",
        "from sklearn.naive_bayes import CategoricalNB, BernoulliNB, MultinomialNB, GaussianNB\n",
        "from sklearn import svm\n",
        "from sklearn.ensemble import AdaBoostClassifier\n",
        "from sklearn.datasets import make_classification\n",
        "from sklearn.neighbors import KNeighborsClassifier \n",
        "from sklearn.ensemble import RandomForestClassifier\n",
        "from sklearn.tree import DecisionTreeClassifier, plot_tree\n",
        "from sklearn.linear_model import LogisticRegression\n",
        "from sklearn.preprocessing import MinMaxScaler\n",
        "from sklearn.metrics import average_precision_score\n",
        "from sklearn.preprocessing import label_binarize\n",
        "import sklearn.metrics as metrics\n",
        "from sklearn.ensemble import VotingClassifier\n",
        "from imblearn.over_sampling import SMOTE\n",
        "\n",
        "\n",
        "import tensorflow as tf\n",
        "from keras.layers import Dense, LSTM, Dropout, GRU, Bidirectional\n",
        "\n",
        "\n",
        "%matplotlib inline\n"
      ]
    },
    {
      "cell_type": "code",
      "execution_count": 7,
      "metadata": {
        "id": "vsiZB0A4Gsin"
      },
      "outputs": [],
      "source": [
        "df = pd.read_csv(\"/content/dataset/US_Accidents_Dec21_updated.csv\")"
      ]
    },
    {
      "cell_type": "code",
      "execution_count": null,
      "metadata": {
        "colab": {
          "base_uri": "https://localhost:8080/"
        },
        "id": "BlmQ0YHrIMNX",
        "outputId": "34ffaa72-184b-4678-b4f8-96cc80454e24"
      },
      "outputs": [
        {
          "name": "stdout",
          "output_type": "stream",
          "text": [
            "<class 'pandas.core.frame.DataFrame'>\n",
            "RangeIndex: 2845342 entries, 0 to 2845341\n",
            "Data columns (total 47 columns):\n",
            " #   Column                 Dtype  \n",
            "---  ------                 -----  \n",
            " 0   ID                     object \n",
            " 1   Severity               int64  \n",
            " 2   Start_Time             object \n",
            " 3   End_Time               object \n",
            " 4   Start_Lat              float64\n",
            " 5   Start_Lng              float64\n",
            " 6   End_Lat                float64\n",
            " 7   End_Lng                float64\n",
            " 8   Distance(mi)           float64\n",
            " 9   Description            object \n",
            " 10  Number                 float64\n",
            " 11  Street                 object \n",
            " 12  Side                   object \n",
            " 13  City                   object \n",
            " 14  County                 object \n",
            " 15  State                  object \n",
            " 16  Zipcode                object \n",
            " 17  Country                object \n",
            " 18  Timezone               object \n",
            " 19  Airport_Code           object \n",
            " 20  Weather_Timestamp      object \n",
            " 21  Temperature(F)         float64\n",
            " 22  Wind_Chill(F)          float64\n",
            " 23  Humidity(%)            float64\n",
            " 24  Pressure(in)           float64\n",
            " 25  Visibility(mi)         float64\n",
            " 26  Wind_Direction         object \n",
            " 27  Wind_Speed(mph)        float64\n",
            " 28  Precipitation(in)      float64\n",
            " 29  Weather_Condition      object \n",
            " 30  Amenity                bool   \n",
            " 31  Bump                   bool   \n",
            " 32  Crossing               bool   \n",
            " 33  Give_Way               bool   \n",
            " 34  Junction               bool   \n",
            " 35  No_Exit                bool   \n",
            " 36  Railway                bool   \n",
            " 37  Roundabout             bool   \n",
            " 38  Station                bool   \n",
            " 39  Stop                   bool   \n",
            " 40  Traffic_Calming        bool   \n",
            " 41  Traffic_Signal         bool   \n",
            " 42  Turning_Loop           bool   \n",
            " 43  Sunrise_Sunset         object \n",
            " 44  Civil_Twilight         object \n",
            " 45  Nautical_Twilight      object \n",
            " 46  Astronomical_Twilight  object \n",
            "dtypes: bool(13), float64(13), int64(1), object(20)\n",
            "memory usage: 773.4+ MB\n"
          ]
        }
      ],
      "source": [
        "df.info()"
      ]
    },
    {
      "cell_type": "code",
      "execution_count": 8,
      "metadata": {
        "colab": {
          "base_uri": "https://localhost:8080/"
        },
        "id": "h3GReaZtIPyd",
        "outputId": "02c0d178-f1b3-49e8-c1bb-de67cb4c527a"
      },
      "outputs": [
        {
          "output_type": "execute_result",
          "data": {
            "text/plain": [
              "<bound method NDFrame.describe of                 ID  Severity           Start_Time             End_Time  \\\n",
              "0              A-1         3  2016-02-08 00:37:08  2016-02-08 06:37:08   \n",
              "1              A-2         2  2016-02-08 05:56:20  2016-02-08 11:56:20   \n",
              "2              A-3         2  2016-02-08 06:15:39  2016-02-08 12:15:39   \n",
              "3              A-4         2  2016-02-08 06:51:45  2016-02-08 12:51:45   \n",
              "4              A-5         3  2016-02-08 07:53:43  2016-02-08 13:53:43   \n",
              "...            ...       ...                  ...                  ...   \n",
              "2845337  A-2845338         2  2019-08-23 18:03:25  2019-08-23 18:32:01   \n",
              "2845338  A-2845339         2  2019-08-23 19:11:30  2019-08-23 19:38:23   \n",
              "2845339  A-2845340         2  2019-08-23 19:00:21  2019-08-23 19:28:49   \n",
              "2845340  A-2845341         2  2019-08-23 19:00:21  2019-08-23 19:29:42   \n",
              "2845341  A-2845342         2  2019-08-23 18:52:06  2019-08-23 19:21:31   \n",
              "\n",
              "         Start_Lat   Start_Lng    End_Lat     End_Lng  Distance(mi)  \\\n",
              "0        40.108910  -83.092860  40.112060  -83.031870         3.230   \n",
              "1        39.865420  -84.062800  39.865010  -84.048730         0.747   \n",
              "2        39.102660  -84.524680  39.102090  -84.523960         0.055   \n",
              "3        41.062130  -81.537840  41.062170  -81.535470         0.123   \n",
              "4        39.172393  -84.492792  39.170476  -84.501798         0.500   \n",
              "...            ...         ...        ...         ...           ...   \n",
              "2845337  34.002480 -117.379360  33.998880 -117.370940         0.543   \n",
              "2845338  32.766960 -117.148060  32.765550 -117.153630         0.338   \n",
              "2845339  33.775450 -117.847790  33.777400 -117.857270         0.561   \n",
              "2845340  33.992460 -118.403020  33.983110 -118.395650         0.772   \n",
              "2845341  34.133930 -117.230920  34.137360 -117.239340         0.537   \n",
              "\n",
              "                                               Description  ...  Roundabout  \\\n",
              "0        Between Sawmill Rd/Exit 20 and OH-315/Olentang...  ...       False   \n",
              "1                       At OH-4/OH-235/Exit 41 - Accident.  ...       False   \n",
              "2                         At I-71/US-50/Exit 1 - Accident.  ...       False   \n",
              "3                          At Dart Ave/Exit 21 - Accident.  ...       False   \n",
              "4                       At Mitchell Ave/Exit 6 - Accident.  ...       False   \n",
              "...                                                    ...  ...         ...   \n",
              "2845337                           At Market St - Accident.  ...       False   \n",
              "2845338    At Camino Del Rio/Mission Center Rd - Accident.  ...       False   \n",
              "2845339  At Glassell St/Grand Ave - Accident. in the ri...  ...       False   \n",
              "2845340     At CA-90/Marina Fwy/Jefferson Blvd - Accident.  ...       False   \n",
              "2845341              At Highland Ave/Arden Ave - Accident.  ...       False   \n",
              "\n",
              "        Station   Stop Traffic_Calming Traffic_Signal Turning_Loop  \\\n",
              "0         False  False           False          False        False   \n",
              "1         False  False           False          False        False   \n",
              "2         False  False           False          False        False   \n",
              "3         False  False           False          False        False   \n",
              "4         False  False           False          False        False   \n",
              "...         ...    ...             ...            ...          ...   \n",
              "2845337   False  False           False          False        False   \n",
              "2845338   False  False           False          False        False   \n",
              "2845339   False  False           False          False        False   \n",
              "2845340   False  False           False          False        False   \n",
              "2845341   False  False           False          False        False   \n",
              "\n",
              "        Sunrise_Sunset Civil_Twilight Nautical_Twilight Astronomical_Twilight  \n",
              "0                Night          Night             Night                 Night  \n",
              "1                Night          Night             Night                 Night  \n",
              "2                Night          Night             Night                   Day  \n",
              "3                Night          Night               Day                   Day  \n",
              "4                  Day            Day               Day                   Day  \n",
              "...                ...            ...               ...                   ...  \n",
              "2845337            Day            Day               Day                   Day  \n",
              "2845338            Day            Day               Day                   Day  \n",
              "2845339            Day            Day               Day                   Day  \n",
              "2845340            Day            Day               Day                   Day  \n",
              "2845341            Day            Day               Day                   Day  \n",
              "\n",
              "[2845342 rows x 47 columns]>"
            ]
          },
          "metadata": {},
          "execution_count": 8
        }
      ],
      "source": [
        "df.describe"
      ]
    },
    {
      "cell_type": "code",
      "execution_count": null,
      "metadata": {
        "colab": {
          "base_uri": "https://localhost:8080/",
          "height": 508
        },
        "id": "UUmtEiSkISiE",
        "outputId": "ab0b51eb-9470-4c90-a40a-3ee79afa2db4"
      },
      "outputs": [
        {
          "data": {
            "text/html": [
              "\n",
              "  <div id=\"df-ac782cc5-810a-445e-9e16-dfbc6ca0e106\">\n",
              "    <div class=\"colab-df-container\">\n",
              "      <div>\n",
              "<style scoped>\n",
              "    .dataframe tbody tr th:only-of-type {\n",
              "        vertical-align: middle;\n",
              "    }\n",
              "\n",
              "    .dataframe tbody tr th {\n",
              "        vertical-align: top;\n",
              "    }\n",
              "\n",
              "    .dataframe thead th {\n",
              "        text-align: right;\n",
              "    }\n",
              "</style>\n",
              "<table border=\"1\" class=\"dataframe\">\n",
              "  <thead>\n",
              "    <tr style=\"text-align: right;\">\n",
              "      <th></th>\n",
              "      <th>ID</th>\n",
              "      <th>Severity</th>\n",
              "      <th>Start_Time</th>\n",
              "      <th>End_Time</th>\n",
              "      <th>Start_Lat</th>\n",
              "      <th>Start_Lng</th>\n",
              "      <th>End_Lat</th>\n",
              "      <th>End_Lng</th>\n",
              "      <th>Distance(mi)</th>\n",
              "      <th>Description</th>\n",
              "      <th>...</th>\n",
              "      <th>Roundabout</th>\n",
              "      <th>Station</th>\n",
              "      <th>Stop</th>\n",
              "      <th>Traffic_Calming</th>\n",
              "      <th>Traffic_Signal</th>\n",
              "      <th>Turning_Loop</th>\n",
              "      <th>Sunrise_Sunset</th>\n",
              "      <th>Civil_Twilight</th>\n",
              "      <th>Nautical_Twilight</th>\n",
              "      <th>Astronomical_Twilight</th>\n",
              "    </tr>\n",
              "  </thead>\n",
              "  <tbody>\n",
              "    <tr>\n",
              "      <th>0</th>\n",
              "      <td>A-1</td>\n",
              "      <td>3</td>\n",
              "      <td>2016-02-08 00:37:08</td>\n",
              "      <td>2016-02-08 06:37:08</td>\n",
              "      <td>40.108910</td>\n",
              "      <td>-83.092860</td>\n",
              "      <td>40.112060</td>\n",
              "      <td>-83.031870</td>\n",
              "      <td>3.230</td>\n",
              "      <td>Between Sawmill Rd/Exit 20 and OH-315/Olentang...</td>\n",
              "      <td>...</td>\n",
              "      <td>False</td>\n",
              "      <td>False</td>\n",
              "      <td>False</td>\n",
              "      <td>False</td>\n",
              "      <td>False</td>\n",
              "      <td>False</td>\n",
              "      <td>Night</td>\n",
              "      <td>Night</td>\n",
              "      <td>Night</td>\n",
              "      <td>Night</td>\n",
              "    </tr>\n",
              "    <tr>\n",
              "      <th>1</th>\n",
              "      <td>A-2</td>\n",
              "      <td>2</td>\n",
              "      <td>2016-02-08 05:56:20</td>\n",
              "      <td>2016-02-08 11:56:20</td>\n",
              "      <td>39.865420</td>\n",
              "      <td>-84.062800</td>\n",
              "      <td>39.865010</td>\n",
              "      <td>-84.048730</td>\n",
              "      <td>0.747</td>\n",
              "      <td>At OH-4/OH-235/Exit 41 - Accident.</td>\n",
              "      <td>...</td>\n",
              "      <td>False</td>\n",
              "      <td>False</td>\n",
              "      <td>False</td>\n",
              "      <td>False</td>\n",
              "      <td>False</td>\n",
              "      <td>False</td>\n",
              "      <td>Night</td>\n",
              "      <td>Night</td>\n",
              "      <td>Night</td>\n",
              "      <td>Night</td>\n",
              "    </tr>\n",
              "    <tr>\n",
              "      <th>2</th>\n",
              "      <td>A-3</td>\n",
              "      <td>2</td>\n",
              "      <td>2016-02-08 06:15:39</td>\n",
              "      <td>2016-02-08 12:15:39</td>\n",
              "      <td>39.102660</td>\n",
              "      <td>-84.524680</td>\n",
              "      <td>39.102090</td>\n",
              "      <td>-84.523960</td>\n",
              "      <td>0.055</td>\n",
              "      <td>At I-71/US-50/Exit 1 - Accident.</td>\n",
              "      <td>...</td>\n",
              "      <td>False</td>\n",
              "      <td>False</td>\n",
              "      <td>False</td>\n",
              "      <td>False</td>\n",
              "      <td>False</td>\n",
              "      <td>False</td>\n",
              "      <td>Night</td>\n",
              "      <td>Night</td>\n",
              "      <td>Night</td>\n",
              "      <td>Day</td>\n",
              "    </tr>\n",
              "    <tr>\n",
              "      <th>3</th>\n",
              "      <td>A-4</td>\n",
              "      <td>2</td>\n",
              "      <td>2016-02-08 06:51:45</td>\n",
              "      <td>2016-02-08 12:51:45</td>\n",
              "      <td>41.062130</td>\n",
              "      <td>-81.537840</td>\n",
              "      <td>41.062170</td>\n",
              "      <td>-81.535470</td>\n",
              "      <td>0.123</td>\n",
              "      <td>At Dart Ave/Exit 21 - Accident.</td>\n",
              "      <td>...</td>\n",
              "      <td>False</td>\n",
              "      <td>False</td>\n",
              "      <td>False</td>\n",
              "      <td>False</td>\n",
              "      <td>False</td>\n",
              "      <td>False</td>\n",
              "      <td>Night</td>\n",
              "      <td>Night</td>\n",
              "      <td>Day</td>\n",
              "      <td>Day</td>\n",
              "    </tr>\n",
              "    <tr>\n",
              "      <th>4</th>\n",
              "      <td>A-5</td>\n",
              "      <td>3</td>\n",
              "      <td>2016-02-08 07:53:43</td>\n",
              "      <td>2016-02-08 13:53:43</td>\n",
              "      <td>39.172393</td>\n",
              "      <td>-84.492792</td>\n",
              "      <td>39.170476</td>\n",
              "      <td>-84.501798</td>\n",
              "      <td>0.500</td>\n",
              "      <td>At Mitchell Ave/Exit 6 - Accident.</td>\n",
              "      <td>...</td>\n",
              "      <td>False</td>\n",
              "      <td>False</td>\n",
              "      <td>False</td>\n",
              "      <td>False</td>\n",
              "      <td>False</td>\n",
              "      <td>False</td>\n",
              "      <td>Day</td>\n",
              "      <td>Day</td>\n",
              "      <td>Day</td>\n",
              "      <td>Day</td>\n",
              "    </tr>\n",
              "  </tbody>\n",
              "</table>\n",
              "<p>5 rows × 47 columns</p>\n",
              "</div>\n",
              "      <button class=\"colab-df-convert\" onclick=\"convertToInteractive('df-ac782cc5-810a-445e-9e16-dfbc6ca0e106')\"\n",
              "              title=\"Convert this dataframe to an interactive table.\"\n",
              "              style=\"display:none;\">\n",
              "        \n",
              "  <svg xmlns=\"http://www.w3.org/2000/svg\" height=\"24px\"viewBox=\"0 0 24 24\"\n",
              "       width=\"24px\">\n",
              "    <path d=\"M0 0h24v24H0V0z\" fill=\"none\"/>\n",
              "    <path d=\"M18.56 5.44l.94 2.06.94-2.06 2.06-.94-2.06-.94-.94-2.06-.94 2.06-2.06.94zm-11 1L8.5 8.5l.94-2.06 2.06-.94-2.06-.94L8.5 2.5l-.94 2.06-2.06.94zm10 10l.94 2.06.94-2.06 2.06-.94-2.06-.94-.94-2.06-.94 2.06-2.06.94z\"/><path d=\"M17.41 7.96l-1.37-1.37c-.4-.4-.92-.59-1.43-.59-.52 0-1.04.2-1.43.59L10.3 9.45l-7.72 7.72c-.78.78-.78 2.05 0 2.83L4 21.41c.39.39.9.59 1.41.59.51 0 1.02-.2 1.41-.59l7.78-7.78 2.81-2.81c.8-.78.8-2.07 0-2.86zM5.41 20L4 18.59l7.72-7.72 1.47 1.35L5.41 20z\"/>\n",
              "  </svg>\n",
              "      </button>\n",
              "      \n",
              "  <style>\n",
              "    .colab-df-container {\n",
              "      display:flex;\n",
              "      flex-wrap:wrap;\n",
              "      gap: 12px;\n",
              "    }\n",
              "\n",
              "    .colab-df-convert {\n",
              "      background-color: #E8F0FE;\n",
              "      border: none;\n",
              "      border-radius: 50%;\n",
              "      cursor: pointer;\n",
              "      display: none;\n",
              "      fill: #1967D2;\n",
              "      height: 32px;\n",
              "      padding: 0 0 0 0;\n",
              "      width: 32px;\n",
              "    }\n",
              "\n",
              "    .colab-df-convert:hover {\n",
              "      background-color: #E2EBFA;\n",
              "      box-shadow: 0px 1px 2px rgba(60, 64, 67, 0.3), 0px 1px 3px 1px rgba(60, 64, 67, 0.15);\n",
              "      fill: #174EA6;\n",
              "    }\n",
              "\n",
              "    [theme=dark] .colab-df-convert {\n",
              "      background-color: #3B4455;\n",
              "      fill: #D2E3FC;\n",
              "    }\n",
              "\n",
              "    [theme=dark] .colab-df-convert:hover {\n",
              "      background-color: #434B5C;\n",
              "      box-shadow: 0px 1px 3px 1px rgba(0, 0, 0, 0.15);\n",
              "      filter: drop-shadow(0px 1px 2px rgba(0, 0, 0, 0.3));\n",
              "      fill: #FFFFFF;\n",
              "    }\n",
              "  </style>\n",
              "\n",
              "      <script>\n",
              "        const buttonEl =\n",
              "          document.querySelector('#df-ac782cc5-810a-445e-9e16-dfbc6ca0e106 button.colab-df-convert');\n",
              "        buttonEl.style.display =\n",
              "          google.colab.kernel.accessAllowed ? 'block' : 'none';\n",
              "\n",
              "        async function convertToInteractive(key) {\n",
              "          const element = document.querySelector('#df-ac782cc5-810a-445e-9e16-dfbc6ca0e106');\n",
              "          const dataTable =\n",
              "            await google.colab.kernel.invokeFunction('convertToInteractive',\n",
              "                                                     [key], {});\n",
              "          if (!dataTable) return;\n",
              "\n",
              "          const docLinkHtml = 'Like what you see? Visit the ' +\n",
              "            '<a target=\"_blank\" href=https://colab.research.google.com/notebooks/data_table.ipynb>data table notebook</a>'\n",
              "            + ' to learn more about interactive tables.';\n",
              "          element.innerHTML = '';\n",
              "          dataTable['output_type'] = 'display_data';\n",
              "          await google.colab.output.renderOutput(dataTable, element);\n",
              "          const docLink = document.createElement('div');\n",
              "          docLink.innerHTML = docLinkHtml;\n",
              "          element.appendChild(docLink);\n",
              "        }\n",
              "      </script>\n",
              "    </div>\n",
              "  </div>\n",
              "  "
            ],
            "text/plain": [
              "    ID  Severity           Start_Time             End_Time  Start_Lat  \\\n",
              "0  A-1         3  2016-02-08 00:37:08  2016-02-08 06:37:08  40.108910   \n",
              "1  A-2         2  2016-02-08 05:56:20  2016-02-08 11:56:20  39.865420   \n",
              "2  A-3         2  2016-02-08 06:15:39  2016-02-08 12:15:39  39.102660   \n",
              "3  A-4         2  2016-02-08 06:51:45  2016-02-08 12:51:45  41.062130   \n",
              "4  A-5         3  2016-02-08 07:53:43  2016-02-08 13:53:43  39.172393   \n",
              "\n",
              "   Start_Lng    End_Lat    End_Lng  Distance(mi)  \\\n",
              "0 -83.092860  40.112060 -83.031870         3.230   \n",
              "1 -84.062800  39.865010 -84.048730         0.747   \n",
              "2 -84.524680  39.102090 -84.523960         0.055   \n",
              "3 -81.537840  41.062170 -81.535470         0.123   \n",
              "4 -84.492792  39.170476 -84.501798         0.500   \n",
              "\n",
              "                                         Description  ...  Roundabout Station  \\\n",
              "0  Between Sawmill Rd/Exit 20 and OH-315/Olentang...  ...       False   False   \n",
              "1                 At OH-4/OH-235/Exit 41 - Accident.  ...       False   False   \n",
              "2                   At I-71/US-50/Exit 1 - Accident.  ...       False   False   \n",
              "3                    At Dart Ave/Exit 21 - Accident.  ...       False   False   \n",
              "4                 At Mitchell Ave/Exit 6 - Accident.  ...       False   False   \n",
              "\n",
              "    Stop Traffic_Calming Traffic_Signal Turning_Loop Sunrise_Sunset  \\\n",
              "0  False           False          False        False          Night   \n",
              "1  False           False          False        False          Night   \n",
              "2  False           False          False        False          Night   \n",
              "3  False           False          False        False          Night   \n",
              "4  False           False          False        False            Day   \n",
              "\n",
              "  Civil_Twilight Nautical_Twilight Astronomical_Twilight  \n",
              "0          Night             Night                 Night  \n",
              "1          Night             Night                 Night  \n",
              "2          Night             Night                   Day  \n",
              "3          Night               Day                   Day  \n",
              "4            Day               Day                   Day  \n",
              "\n",
              "[5 rows x 47 columns]"
            ]
          },
          "execution_count": 8,
          "metadata": {},
          "output_type": "execute_result"
        }
      ],
      "source": [
        "df.head()"
      ]
    },
    {
      "cell_type": "code",
      "execution_count": null,
      "metadata": {
        "colab": {
          "base_uri": "https://localhost:8080/"
        },
        "id": "v9oq812u-6OJ",
        "outputId": "f460968b-c924-4cb8-9b09-c3b19c62dc7c"
      },
      "outputs": [
        {
          "output_type": "execute_result",
          "data": {
            "text/plain": [
              "ID                             0\n",
              "Severity                       0\n",
              "Start_Time                     0\n",
              "End_Time                       0\n",
              "Start_Lat                      0\n",
              "Start_Lng                      0\n",
              "End_Lat                        0\n",
              "End_Lng                        0\n",
              "Distance(mi)                   0\n",
              "Description                    0\n",
              "Number                   1743911\n",
              "Street                         2\n",
              "Side                           0\n",
              "City                         137\n",
              "County                         0\n",
              "State                          0\n",
              "Zipcode                     1319\n",
              "Country                        0\n",
              "Timezone                    3659\n",
              "Airport_Code                9549\n",
              "Weather_Timestamp          50736\n",
              "Temperature(F)             69274\n",
              "Wind_Chill(F)             469643\n",
              "Humidity(%)                73092\n",
              "Pressure(in)               59200\n",
              "Visibility(mi)             70546\n",
              "Wind_Direction             73775\n",
              "Wind_Speed(mph)           157944\n",
              "Precipitation(in)         549458\n",
              "Weather_Condition          70636\n",
              "Amenity                        0\n",
              "Bump                           0\n",
              "Crossing                       0\n",
              "Give_Way                       0\n",
              "Junction                       0\n",
              "No_Exit                        0\n",
              "Railway                        0\n",
              "Roundabout                     0\n",
              "Station                        0\n",
              "Stop                           0\n",
              "Traffic_Calming                0\n",
              "Traffic_Signal                 0\n",
              "Turning_Loop                   0\n",
              "Sunrise_Sunset              2867\n",
              "Civil_Twilight              2867\n",
              "Nautical_Twilight           2867\n",
              "Astronomical_Twilight       2867\n",
              "dtype: int64"
            ]
          },
          "metadata": {},
          "execution_count": 8
        }
      ],
      "source": [
        "df.isna().sum()"
      ]
    },
    {
      "cell_type": "code",
      "execution_count": 9,
      "metadata": {
        "id": "1coS1owJmcpo"
      },
      "outputs": [],
      "source": [
        "unneeded_columns = ['ID', 'Description', 'Street', 'City', 'Zipcode', 'Country']\n",
        "\n",
        "df = df.drop(unneeded_columns, axis=1)"
      ]
    },
    {
      "cell_type": "code",
      "execution_count": 10,
      "metadata": {
        "colab": {
          "base_uri": "https://localhost:8080/"
        },
        "id": "9u4qjlwjApmO",
        "outputId": "63c426ab-d9a3-4949-c17b-3eda31218208"
      },
      "outputs": [
        {
          "output_type": "stream",
          "name": "stdout",
          "text": [
            "Total missing values: Severity                       0\n",
            "Start_Time                     0\n",
            "End_Time                       0\n",
            "Start_Lat                      0\n",
            "Start_Lng                      0\n",
            "End_Lat                        0\n",
            "End_Lng                        0\n",
            "Distance(mi)                   0\n",
            "Number                   1743911\n",
            "Side                           0\n",
            "County                         0\n",
            "State                          0\n",
            "Timezone                    3659\n",
            "Airport_Code                9549\n",
            "Weather_Timestamp          50736\n",
            "Temperature(F)             69274\n",
            "Wind_Chill(F)             469643\n",
            "Humidity(%)                73092\n",
            "Pressure(in)               59200\n",
            "Visibility(mi)             70546\n",
            "Wind_Direction             73775\n",
            "Wind_Speed(mph)           157944\n",
            "Precipitation(in)         549458\n",
            "Weather_Condition          70636\n",
            "Amenity                        0\n",
            "Bump                           0\n",
            "Crossing                       0\n",
            "Give_Way                       0\n",
            "Junction                       0\n",
            "No_Exit                        0\n",
            "Railway                        0\n",
            "Roundabout                     0\n",
            "Station                        0\n",
            "Stop                           0\n",
            "Traffic_Calming                0\n",
            "Traffic_Signal                 0\n",
            "Turning_Loop                   0\n",
            "Sunrise_Sunset              2867\n",
            "Civil_Twilight              2867\n",
            "Nautical_Twilight           2867\n",
            "Astronomical_Twilight       2867\n",
            "dtype: int64\n"
          ]
        }
      ],
      "source": [
        "print(\"Total missing values:\", df.isna().sum())\n"
      ]
    },
    {
      "cell_type": "code",
      "execution_count": 11,
      "metadata": {
        "id": "oaEo5tW5AnOc"
      },
      "outputs": [],
      "source": [
        "df = df.dropna(axis=0).reset_index(drop=True)"
      ]
    },
    {
      "cell_type": "code",
      "execution_count": 12,
      "metadata": {
        "colab": {
          "base_uri": "https://localhost:8080/"
        },
        "id": "alfjX45G6W_9",
        "outputId": "853f6d96-c962-4525-8b2f-8c8a2ddf125c"
      },
      "outputs": [
        {
          "output_type": "execute_result",
          "data": {
            "text/plain": [
              "Severity                 0\n",
              "Start_Time               0\n",
              "End_Time                 0\n",
              "Start_Lat                0\n",
              "Start_Lng                0\n",
              "End_Lat                  0\n",
              "End_Lng                  0\n",
              "Distance(mi)             0\n",
              "Number                   0\n",
              "Side                     0\n",
              "County                   0\n",
              "State                    0\n",
              "Timezone                 0\n",
              "Airport_Code             0\n",
              "Weather_Timestamp        0\n",
              "Temperature(F)           0\n",
              "Wind_Chill(F)            0\n",
              "Humidity(%)              0\n",
              "Pressure(in)             0\n",
              "Visibility(mi)           0\n",
              "Wind_Direction           0\n",
              "Wind_Speed(mph)          0\n",
              "Precipitation(in)        0\n",
              "Weather_Condition        0\n",
              "Amenity                  0\n",
              "Bump                     0\n",
              "Crossing                 0\n",
              "Give_Way                 0\n",
              "Junction                 0\n",
              "No_Exit                  0\n",
              "Railway                  0\n",
              "Roundabout               0\n",
              "Station                  0\n",
              "Stop                     0\n",
              "Traffic_Calming          0\n",
              "Traffic_Signal           0\n",
              "Turning_Loop             0\n",
              "Sunrise_Sunset           0\n",
              "Civil_Twilight           0\n",
              "Nautical_Twilight        0\n",
              "Astronomical_Twilight    0\n",
              "dtype: int64"
            ]
          },
          "metadata": {},
          "execution_count": 12
        }
      ],
      "source": [
        "df.isna().sum()"
      ]
    },
    {
      "cell_type": "code",
      "execution_count": 13,
      "metadata": {
        "id": "xVRNE9x229Sy"
      },
      "outputs": [],
      "source": [
        "# Cast Start_Time to datetime\n",
        "df[\"Start_Time\"] = pd.to_datetime(df[\"Start_Time\"])\n",
        "\n",
        "# Extract year, month, weekday and day\n",
        "df[\"Year\"] = df[\"Start_Time\"].dt.year\n",
        "df[\"Month\"] = df[\"Start_Time\"].dt.month\n",
        "df[\"Weekday\"] = df[\"Start_Time\"].dt.weekday\n",
        "df[\"Day\"] = df[\"Start_Time\"].dt.day\n",
        "\n",
        "# Extract hour and minute\n",
        "df[\"Hour\"] = df[\"Start_Time\"].dt.hour\n",
        "df[\"Minute\"] = df[\"Start_Time\"].dt.minute"
      ]
    },
    {
      "cell_type": "code",
      "execution_count": 14,
      "metadata": {
        "id": "DCsOzerVnDjH"
      },
      "outputs": [],
      "source": [
        "df = df.drop(['Start_Time', 'End_Time', 'Weather_Timestamp'], axis=1)"
      ]
    },
    {
      "cell_type": "code",
      "execution_count": null,
      "metadata": {
        "colab": {
          "base_uri": "https://localhost:8080/",
          "height": 424
        },
        "id": "i3MWolPrnnid",
        "outputId": "3e885c08-aabf-4a14-95f6-bf06635f101f"
      },
      "outputs": [
        {
          "output_type": "execute_result",
          "data": {
            "text/plain": [
              "        Severity  Start_Lat   Start_Lng    End_Lat     End_Lng  Distance(mi)  \\\n",
              "0              4  40.451120  -85.150480  40.354290  -85.149930         6.690   \n",
              "1              4  40.354290  -85.149930  40.451120  -85.150480         6.690   \n",
              "2              4  40.728130  -84.789650  40.745590  -84.789620         1.206   \n",
              "3              2  41.831930  -80.101430  41.841490  -80.110990         0.824   \n",
              "4              2  41.483390  -81.662970  41.476920  -81.660750         0.462   \n",
              "...          ...        ...         ...        ...         ...           ...   \n",
              "943314         3  37.609816 -122.493720  37.608821 -122.495261         0.109   \n",
              "943315         4  38.995930 -121.672020  39.003170 -121.662679         0.708   \n",
              "943316         4  39.003170 -121.662679  38.995930 -121.672020         0.708   \n",
              "943317         3  34.121320 -117.254540  34.121320 -117.254540         0.000   \n",
              "943318         3  34.485189 -120.229276  34.482530 -120.230510         0.197   \n",
              "\n",
              "         Number Side          County State  ... Sunrise_Sunset Civil_Twilight  \\\n",
              "0        9001.0    R             Jay    IN  ...          Night            Day   \n",
              "1         473.0    R             Jay    IN  ...          Night            Day   \n",
              "2       12998.0    R        Van Wert    OH  ...          Night          Night   \n",
              "3       25529.0    L        Crawford    PA  ...            Day            Day   \n",
              "4        3937.0    L        Cuyahoga    OH  ...            Day            Day   \n",
              "...         ...  ...             ...   ...  ...            ...            ...   \n",
              "943314    895.0    R       San Mateo    CA  ...            Day            Day   \n",
              "943315   3044.0    R          Sutter    CA  ...            Day            Day   \n",
              "943316   2500.0    R          Sutter    CA  ...            Day            Day   \n",
              "943317   1498.0    L  San Bernardino    CA  ...          Night          Night   \n",
              "943318  18000.0    R   Santa Barbara    CA  ...            Day            Day   \n",
              "\n",
              "        Nautical_Twilight  Astronomical_Twilight  Year  Month  Weekday Day  \\\n",
              "0                     Day                    Day  2016      2        1   9   \n",
              "1                     Day                    Day  2016      2        1   9   \n",
              "2                   Night                    Day  2016      2        2  10   \n",
              "3                     Day                    Day  2016      2        2  10   \n",
              "4                     Day                    Day  2016      2        2  10   \n",
              "...                   ...                    ...   ...    ...      ...  ..   \n",
              "943314                Day                    Day  2019      8        4  23   \n",
              "943315                Day                    Day  2019      8        4  23   \n",
              "943316                Day                    Day  2019      8        4  23   \n",
              "943317              Night                  Night  2019      8        4  23   \n",
              "943318                Day                    Day  2019      8        4  23   \n",
              "\n",
              "        Hour  Minute  \n",
              "0         18      20  \n",
              "1         18      20  \n",
              "2          6      18  \n",
              "3          8      35  \n",
              "4         12      54  \n",
              "...      ...     ...  \n",
              "943314    16      19  \n",
              "943315    17      25  \n",
              "943316    17      25  \n",
              "943317     1      16  \n",
              "943318    10      32  \n",
              "\n",
              "[943319 rows x 44 columns]"
            ],
            "text/html": [
              "\n",
              "  <div id=\"df-d40897f2-16b0-4603-a7f7-c5547bd13f2a\">\n",
              "    <div class=\"colab-df-container\">\n",
              "      <div>\n",
              "<style scoped>\n",
              "    .dataframe tbody tr th:only-of-type {\n",
              "        vertical-align: middle;\n",
              "    }\n",
              "\n",
              "    .dataframe tbody tr th {\n",
              "        vertical-align: top;\n",
              "    }\n",
              "\n",
              "    .dataframe thead th {\n",
              "        text-align: right;\n",
              "    }\n",
              "</style>\n",
              "<table border=\"1\" class=\"dataframe\">\n",
              "  <thead>\n",
              "    <tr style=\"text-align: right;\">\n",
              "      <th></th>\n",
              "      <th>Severity</th>\n",
              "      <th>Start_Lat</th>\n",
              "      <th>Start_Lng</th>\n",
              "      <th>End_Lat</th>\n",
              "      <th>End_Lng</th>\n",
              "      <th>Distance(mi)</th>\n",
              "      <th>Number</th>\n",
              "      <th>Side</th>\n",
              "      <th>County</th>\n",
              "      <th>State</th>\n",
              "      <th>...</th>\n",
              "      <th>Sunrise_Sunset</th>\n",
              "      <th>Civil_Twilight</th>\n",
              "      <th>Nautical_Twilight</th>\n",
              "      <th>Astronomical_Twilight</th>\n",
              "      <th>Year</th>\n",
              "      <th>Month</th>\n",
              "      <th>Weekday</th>\n",
              "      <th>Day</th>\n",
              "      <th>Hour</th>\n",
              "      <th>Minute</th>\n",
              "    </tr>\n",
              "  </thead>\n",
              "  <tbody>\n",
              "    <tr>\n",
              "      <th>0</th>\n",
              "      <td>4</td>\n",
              "      <td>40.451120</td>\n",
              "      <td>-85.150480</td>\n",
              "      <td>40.354290</td>\n",
              "      <td>-85.149930</td>\n",
              "      <td>6.690</td>\n",
              "      <td>9001.0</td>\n",
              "      <td>R</td>\n",
              "      <td>Jay</td>\n",
              "      <td>IN</td>\n",
              "      <td>...</td>\n",
              "      <td>Night</td>\n",
              "      <td>Day</td>\n",
              "      <td>Day</td>\n",
              "      <td>Day</td>\n",
              "      <td>2016</td>\n",
              "      <td>2</td>\n",
              "      <td>1</td>\n",
              "      <td>9</td>\n",
              "      <td>18</td>\n",
              "      <td>20</td>\n",
              "    </tr>\n",
              "    <tr>\n",
              "      <th>1</th>\n",
              "      <td>4</td>\n",
              "      <td>40.354290</td>\n",
              "      <td>-85.149930</td>\n",
              "      <td>40.451120</td>\n",
              "      <td>-85.150480</td>\n",
              "      <td>6.690</td>\n",
              "      <td>473.0</td>\n",
              "      <td>R</td>\n",
              "      <td>Jay</td>\n",
              "      <td>IN</td>\n",
              "      <td>...</td>\n",
              "      <td>Night</td>\n",
              "      <td>Day</td>\n",
              "      <td>Day</td>\n",
              "      <td>Day</td>\n",
              "      <td>2016</td>\n",
              "      <td>2</td>\n",
              "      <td>1</td>\n",
              "      <td>9</td>\n",
              "      <td>18</td>\n",
              "      <td>20</td>\n",
              "    </tr>\n",
              "    <tr>\n",
              "      <th>2</th>\n",
              "      <td>4</td>\n",
              "      <td>40.728130</td>\n",
              "      <td>-84.789650</td>\n",
              "      <td>40.745590</td>\n",
              "      <td>-84.789620</td>\n",
              "      <td>1.206</td>\n",
              "      <td>12998.0</td>\n",
              "      <td>R</td>\n",
              "      <td>Van Wert</td>\n",
              "      <td>OH</td>\n",
              "      <td>...</td>\n",
              "      <td>Night</td>\n",
              "      <td>Night</td>\n",
              "      <td>Night</td>\n",
              "      <td>Day</td>\n",
              "      <td>2016</td>\n",
              "      <td>2</td>\n",
              "      <td>2</td>\n",
              "      <td>10</td>\n",
              "      <td>6</td>\n",
              "      <td>18</td>\n",
              "    </tr>\n",
              "    <tr>\n",
              "      <th>3</th>\n",
              "      <td>2</td>\n",
              "      <td>41.831930</td>\n",
              "      <td>-80.101430</td>\n",
              "      <td>41.841490</td>\n",
              "      <td>-80.110990</td>\n",
              "      <td>0.824</td>\n",
              "      <td>25529.0</td>\n",
              "      <td>L</td>\n",
              "      <td>Crawford</td>\n",
              "      <td>PA</td>\n",
              "      <td>...</td>\n",
              "      <td>Day</td>\n",
              "      <td>Day</td>\n",
              "      <td>Day</td>\n",
              "      <td>Day</td>\n",
              "      <td>2016</td>\n",
              "      <td>2</td>\n",
              "      <td>2</td>\n",
              "      <td>10</td>\n",
              "      <td>8</td>\n",
              "      <td>35</td>\n",
              "    </tr>\n",
              "    <tr>\n",
              "      <th>4</th>\n",
              "      <td>2</td>\n",
              "      <td>41.483390</td>\n",
              "      <td>-81.662970</td>\n",
              "      <td>41.476920</td>\n",
              "      <td>-81.660750</td>\n",
              "      <td>0.462</td>\n",
              "      <td>3937.0</td>\n",
              "      <td>L</td>\n",
              "      <td>Cuyahoga</td>\n",
              "      <td>OH</td>\n",
              "      <td>...</td>\n",
              "      <td>Day</td>\n",
              "      <td>Day</td>\n",
              "      <td>Day</td>\n",
              "      <td>Day</td>\n",
              "      <td>2016</td>\n",
              "      <td>2</td>\n",
              "      <td>2</td>\n",
              "      <td>10</td>\n",
              "      <td>12</td>\n",
              "      <td>54</td>\n",
              "    </tr>\n",
              "    <tr>\n",
              "      <th>...</th>\n",
              "      <td>...</td>\n",
              "      <td>...</td>\n",
              "      <td>...</td>\n",
              "      <td>...</td>\n",
              "      <td>...</td>\n",
              "      <td>...</td>\n",
              "      <td>...</td>\n",
              "      <td>...</td>\n",
              "      <td>...</td>\n",
              "      <td>...</td>\n",
              "      <td>...</td>\n",
              "      <td>...</td>\n",
              "      <td>...</td>\n",
              "      <td>...</td>\n",
              "      <td>...</td>\n",
              "      <td>...</td>\n",
              "      <td>...</td>\n",
              "      <td>...</td>\n",
              "      <td>...</td>\n",
              "      <td>...</td>\n",
              "      <td>...</td>\n",
              "    </tr>\n",
              "    <tr>\n",
              "      <th>943314</th>\n",
              "      <td>3</td>\n",
              "      <td>37.609816</td>\n",
              "      <td>-122.493720</td>\n",
              "      <td>37.608821</td>\n",
              "      <td>-122.495261</td>\n",
              "      <td>0.109</td>\n",
              "      <td>895.0</td>\n",
              "      <td>R</td>\n",
              "      <td>San Mateo</td>\n",
              "      <td>CA</td>\n",
              "      <td>...</td>\n",
              "      <td>Day</td>\n",
              "      <td>Day</td>\n",
              "      <td>Day</td>\n",
              "      <td>Day</td>\n",
              "      <td>2019</td>\n",
              "      <td>8</td>\n",
              "      <td>4</td>\n",
              "      <td>23</td>\n",
              "      <td>16</td>\n",
              "      <td>19</td>\n",
              "    </tr>\n",
              "    <tr>\n",
              "      <th>943315</th>\n",
              "      <td>4</td>\n",
              "      <td>38.995930</td>\n",
              "      <td>-121.672020</td>\n",
              "      <td>39.003170</td>\n",
              "      <td>-121.662679</td>\n",
              "      <td>0.708</td>\n",
              "      <td>3044.0</td>\n",
              "      <td>R</td>\n",
              "      <td>Sutter</td>\n",
              "      <td>CA</td>\n",
              "      <td>...</td>\n",
              "      <td>Day</td>\n",
              "      <td>Day</td>\n",
              "      <td>Day</td>\n",
              "      <td>Day</td>\n",
              "      <td>2019</td>\n",
              "      <td>8</td>\n",
              "      <td>4</td>\n",
              "      <td>23</td>\n",
              "      <td>17</td>\n",
              "      <td>25</td>\n",
              "    </tr>\n",
              "    <tr>\n",
              "      <th>943316</th>\n",
              "      <td>4</td>\n",
              "      <td>39.003170</td>\n",
              "      <td>-121.662679</td>\n",
              "      <td>38.995930</td>\n",
              "      <td>-121.672020</td>\n",
              "      <td>0.708</td>\n",
              "      <td>2500.0</td>\n",
              "      <td>R</td>\n",
              "      <td>Sutter</td>\n",
              "      <td>CA</td>\n",
              "      <td>...</td>\n",
              "      <td>Day</td>\n",
              "      <td>Day</td>\n",
              "      <td>Day</td>\n",
              "      <td>Day</td>\n",
              "      <td>2019</td>\n",
              "      <td>8</td>\n",
              "      <td>4</td>\n",
              "      <td>23</td>\n",
              "      <td>17</td>\n",
              "      <td>25</td>\n",
              "    </tr>\n",
              "    <tr>\n",
              "      <th>943317</th>\n",
              "      <td>3</td>\n",
              "      <td>34.121320</td>\n",
              "      <td>-117.254540</td>\n",
              "      <td>34.121320</td>\n",
              "      <td>-117.254540</td>\n",
              "      <td>0.000</td>\n",
              "      <td>1498.0</td>\n",
              "      <td>L</td>\n",
              "      <td>San Bernardino</td>\n",
              "      <td>CA</td>\n",
              "      <td>...</td>\n",
              "      <td>Night</td>\n",
              "      <td>Night</td>\n",
              "      <td>Night</td>\n",
              "      <td>Night</td>\n",
              "      <td>2019</td>\n",
              "      <td>8</td>\n",
              "      <td>4</td>\n",
              "      <td>23</td>\n",
              "      <td>1</td>\n",
              "      <td>16</td>\n",
              "    </tr>\n",
              "    <tr>\n",
              "      <th>943318</th>\n",
              "      <td>3</td>\n",
              "      <td>34.485189</td>\n",
              "      <td>-120.229276</td>\n",
              "      <td>34.482530</td>\n",
              "      <td>-120.230510</td>\n",
              "      <td>0.197</td>\n",
              "      <td>18000.0</td>\n",
              "      <td>R</td>\n",
              "      <td>Santa Barbara</td>\n",
              "      <td>CA</td>\n",
              "      <td>...</td>\n",
              "      <td>Day</td>\n",
              "      <td>Day</td>\n",
              "      <td>Day</td>\n",
              "      <td>Day</td>\n",
              "      <td>2019</td>\n",
              "      <td>8</td>\n",
              "      <td>4</td>\n",
              "      <td>23</td>\n",
              "      <td>10</td>\n",
              "      <td>32</td>\n",
              "    </tr>\n",
              "  </tbody>\n",
              "</table>\n",
              "<p>943319 rows × 44 columns</p>\n",
              "</div>\n",
              "      <button class=\"colab-df-convert\" onclick=\"convertToInteractive('df-d40897f2-16b0-4603-a7f7-c5547bd13f2a')\"\n",
              "              title=\"Convert this dataframe to an interactive table.\"\n",
              "              style=\"display:none;\">\n",
              "        \n",
              "  <svg xmlns=\"http://www.w3.org/2000/svg\" height=\"24px\"viewBox=\"0 0 24 24\"\n",
              "       width=\"24px\">\n",
              "    <path d=\"M0 0h24v24H0V0z\" fill=\"none\"/>\n",
              "    <path d=\"M18.56 5.44l.94 2.06.94-2.06 2.06-.94-2.06-.94-.94-2.06-.94 2.06-2.06.94zm-11 1L8.5 8.5l.94-2.06 2.06-.94-2.06-.94L8.5 2.5l-.94 2.06-2.06.94zm10 10l.94 2.06.94-2.06 2.06-.94-2.06-.94-.94-2.06-.94 2.06-2.06.94z\"/><path d=\"M17.41 7.96l-1.37-1.37c-.4-.4-.92-.59-1.43-.59-.52 0-1.04.2-1.43.59L10.3 9.45l-7.72 7.72c-.78.78-.78 2.05 0 2.83L4 21.41c.39.39.9.59 1.41.59.51 0 1.02-.2 1.41-.59l7.78-7.78 2.81-2.81c.8-.78.8-2.07 0-2.86zM5.41 20L4 18.59l7.72-7.72 1.47 1.35L5.41 20z\"/>\n",
              "  </svg>\n",
              "      </button>\n",
              "      \n",
              "  <style>\n",
              "    .colab-df-container {\n",
              "      display:flex;\n",
              "      flex-wrap:wrap;\n",
              "      gap: 12px;\n",
              "    }\n",
              "\n",
              "    .colab-df-convert {\n",
              "      background-color: #E8F0FE;\n",
              "      border: none;\n",
              "      border-radius: 50%;\n",
              "      cursor: pointer;\n",
              "      display: none;\n",
              "      fill: #1967D2;\n",
              "      height: 32px;\n",
              "      padding: 0 0 0 0;\n",
              "      width: 32px;\n",
              "    }\n",
              "\n",
              "    .colab-df-convert:hover {\n",
              "      background-color: #E2EBFA;\n",
              "      box-shadow: 0px 1px 2px rgba(60, 64, 67, 0.3), 0px 1px 3px 1px rgba(60, 64, 67, 0.15);\n",
              "      fill: #174EA6;\n",
              "    }\n",
              "\n",
              "    [theme=dark] .colab-df-convert {\n",
              "      background-color: #3B4455;\n",
              "      fill: #D2E3FC;\n",
              "    }\n",
              "\n",
              "    [theme=dark] .colab-df-convert:hover {\n",
              "      background-color: #434B5C;\n",
              "      box-shadow: 0px 1px 3px 1px rgba(0, 0, 0, 0.15);\n",
              "      filter: drop-shadow(0px 1px 2px rgba(0, 0, 0, 0.3));\n",
              "      fill: #FFFFFF;\n",
              "    }\n",
              "  </style>\n",
              "\n",
              "      <script>\n",
              "        const buttonEl =\n",
              "          document.querySelector('#df-d40897f2-16b0-4603-a7f7-c5547bd13f2a button.colab-df-convert');\n",
              "        buttonEl.style.display =\n",
              "          google.colab.kernel.accessAllowed ? 'block' : 'none';\n",
              "\n",
              "        async function convertToInteractive(key) {\n",
              "          const element = document.querySelector('#df-d40897f2-16b0-4603-a7f7-c5547bd13f2a');\n",
              "          const dataTable =\n",
              "            await google.colab.kernel.invokeFunction('convertToInteractive',\n",
              "                                                     [key], {});\n",
              "          if (!dataTable) return;\n",
              "\n",
              "          const docLinkHtml = 'Like what you see? Visit the ' +\n",
              "            '<a target=\"_blank\" href=https://colab.research.google.com/notebooks/data_table.ipynb>data table notebook</a>'\n",
              "            + ' to learn more about interactive tables.';\n",
              "          element.innerHTML = '';\n",
              "          dataTable['output_type'] = 'display_data';\n",
              "          await google.colab.output.renderOutput(dataTable, element);\n",
              "          const docLink = document.createElement('div');\n",
              "          docLink.innerHTML = docLinkHtml;\n",
              "          element.appendChild(docLink);\n",
              "        }\n",
              "      </script>\n",
              "    </div>\n",
              "  </div>\n",
              "  "
            ]
          },
          "metadata": {},
          "execution_count": 14
        }
      ],
      "source": [
        "df"
      ]
    },
    {
      "cell_type": "code",
      "execution_count": 15,
      "metadata": {
        "colab": {
          "base_uri": "https://localhost:8080/"
        },
        "id": "r0PugQAY5BxM",
        "outputId": "b79c2394-6498-4f9c-f5d4-6802a43b1808"
      },
      "outputs": [
        {
          "output_type": "stream",
          "name": "stdout",
          "text": [
            "91\n",
            "['Light Snow' 'Mostly Cloudy' 'Partly Cloudy' 'Overcast' 'Snow' 'Fair'\n",
            " 'Cloudy' 'Light Freezing Drizzle' 'Light Rain' 'Light Freezing Rain'\n",
            " 'Clear' 'Light Rain with Thunder' 'Fog' 'Light Drizzle' 'Heavy Rain'\n",
            " 'Rain' 'Blowing Snow' 'Light Ice Pellets' 'Haze' 'Thunderstorms and Rain'\n",
            " 'Drizzle' 'T-Storm' 'Rain / Windy' 'Partly Cloudy / Windy'\n",
            " 'Thunder in the Vicinity' 'Scattered Clouds' 'Fair / Windy' 'Heavy Snow'\n",
            " 'Light Rain / Windy' 'Smoke' 'Light Freezing Fog' 'Mostly Cloudy / Windy'\n",
            " 'Heavy Thunderstorms and Rain' 'Heavy T-Storm / Windy' 'Cloudy / Windy'\n",
            " 'Thunder' 'N/A Precipitation' 'Heavy T-Storm' 'Shallow Fog' 'Mist'\n",
            " 'Snow / Windy' 'Light Snow / Windy' 'Light Snow and Sleet'\n",
            " 'T-Storm / Windy' 'Showers in the Vicinity' 'Patches of Fog' 'Wintry Mix'\n",
            " 'Heavy Rain / Windy' 'Haze / Windy' 'Snow and Sleet' 'Thunder / Windy'\n",
            " 'Heavy Drizzle' 'Light Rain Shower' 'Blowing Dust / Windy'\n",
            " 'Drizzle and Fog' 'Fog / Windy' 'Heavy Snow / Windy' 'Light Snow Shower'\n",
            " 'Light Sleet / Windy' 'Blowing Dust' 'Widespread Dust / Windy' 'Squalls'\n",
            " 'Drizzle / Windy' 'Wintry Mix / Windy' 'Smoke / Windy' 'Squalls / Windy'\n",
            " 'Light Drizzle / Windy' 'Sand / Dust Whirlwinds' 'Sand / Windy'\n",
            " 'Rain Shower' 'Light Snow and Sleet / Windy' 'Heavy Rain Shower / Windy'\n",
            " 'Sand / Dust Whirlwinds / Windy' 'Widespread Dust'\n",
            " 'Light Rain Shower / Windy' 'Thunder and Hail'\n",
            " 'Light Freezing Rain / Windy' 'Freezing Rain' 'Sleet' 'Freezing Drizzle'\n",
            " 'Heavy Sleet' 'Blowing Snow / Windy' 'Hail' 'Small Hail' 'Light Sleet'\n",
            " 'Thunder / Wintry Mix' 'Snow and Sleet / Windy'\n",
            " 'Thunder / Wintry Mix / Windy' 'Ice Pellets' 'Light Blowing Snow'\n",
            " 'Light Thunderstorms and Rain']\n"
          ]
        }
      ],
      "source": [
        "unique_weather = df[\"Weather_Condition\"].unique()\n",
        "\n",
        "print(len(unique_weather))\n",
        "print(unique_weather)"
      ]
    },
    {
      "cell_type": "code",
      "execution_count": 16,
      "metadata": {
        "colab": {
          "base_uri": "https://localhost:8080/"
        },
        "id": "qY8gcCSG5GII",
        "outputId": "64322e82-87a0-48e1-f869-70426c73d955"
      },
      "outputs": [
        {
          "output_type": "stream",
          "name": "stdout",
          "text": [
            "['Snow' 'Cloudy' 'Clear' 'Rain' 'Thunderstorm' 'Fog' 'Hail' 'Windy'\n",
            " 'Smoke' nan 'Sand']\n"
          ]
        }
      ],
      "source": [
        "df.loc[df[\"Weather_Condition\"].str.contains(\"Thunder|T-Storm\", na=False), \"Weather_Condition\"] = \"Thunderstorm\"\n",
        "df.loc[df[\"Weather_Condition\"].str.contains(\"Snow|Sleet|Wintry\", na=False), \"Weather_Condition\"] = \"Snow\"\n",
        "df.loc[df[\"Weather_Condition\"].str.contains(\"Rain|Drizzle|Shower\", na=False), \"Weather_Condition\"] = \"Rain\"\n",
        "df.loc[df[\"Weather_Condition\"].str.contains(\"Wind|Squalls\", na=False), \"Weather_Condition\"] = \"Windy\"\n",
        "df.loc[df[\"Weather_Condition\"].str.contains(\"Hail|Pellets\", na=False), \"Weather_Condition\"] = \"Hail\"\n",
        "df.loc[df[\"Weather_Condition\"].str.contains(\"Fair\", na=False), \"Weather_Condition\"] = \"Clear\"\n",
        "df.loc[df[\"Weather_Condition\"].str.contains(\"Cloud|Overcast\", na=False), \"Weather_Condition\"] = \"Cloudy\"\n",
        "df.loc[df[\"Weather_Condition\"].str.contains(\"Mist|Haze|Fog\", na=False), \"Weather_Condition\"] = \"Fog\"\n",
        "df.loc[df[\"Weather_Condition\"].str.contains(\"Sand|Dust\", na=False), \"Weather_Condition\"] = \"Sand\"\n",
        "df.loc[df[\"Weather_Condition\"].str.contains(\"Smoke|Volcanic Ash\", na=False), \"Weather_Condition\"] = \"Smoke\"\n",
        "df.loc[df[\"Weather_Condition\"].str.contains(\"N/A Precipitation\", na=False), \"Weather_Condition\"] = np.nan\n",
        "\n",
        "print(df[\"Weather_Condition\"].unique())"
      ]
    },
    {
      "cell_type": "code",
      "execution_count": 17,
      "metadata": {
        "colab": {
          "base_uri": "https://localhost:8080/"
        },
        "id": "EpK8jltZ5nZ2",
        "outputId": "f03d2bce-c0c4-43e9-afff-afb12f851f91"
      },
      "outputs": [
        {
          "output_type": "execute_result",
          "data": {
            "text/plain": [
              "array(['NW', 'W', 'SW', 'N', 'NE', 'SE', 'S', 'Variable', 'Calm', 'E'],\n",
              "      dtype=object)"
            ]
          },
          "metadata": {},
          "execution_count": 17
        }
      ],
      "source": [
        "df.loc[df[\"Wind_Direction\"] == \"CALM\", \"Wind_Direction\"] = \"Calm\"\n",
        "df.loc[df[\"Wind_Direction\"] == \"VAR\", \"Wind_Direction\"] = \"Variable\"\n",
        "df.loc[df[\"Wind_Direction\"] == \"East\", \"Wind_Direction\"] = \"E\"\n",
        "df.loc[df[\"Wind_Direction\"] == \"North\", \"Wind_Direction\"] = \"N\"\n",
        "df.loc[df[\"Wind_Direction\"] == \"South\", \"Wind_Direction\"] = \"S\"\n",
        "df.loc[df[\"Wind_Direction\"] == \"West\", \"Wind_Direction\"] = \"W\"\n",
        "\n",
        "df[\"Wind_Direction\"] = df[\"Wind_Direction\"].map(lambda x : x if len(x) != 3 else x[1:], na_action=\"ignore\")\n",
        "\n",
        "df[\"Wind_Direction\"].unique()"
      ]
    },
    {
      "cell_type": "code",
      "execution_count": null,
      "metadata": {
        "colab": {
          "base_uri": "https://localhost:8080/",
          "height": 468
        },
        "id": "ORpsdJWz6W1P",
        "outputId": "ac54c5ed-5792-4cb7-9058-988cbb83ea0f"
      },
      "outputs": [
        {
          "data": {
            "text/html": [
              "\n",
              "  <div id=\"df-0127ab71-ba66-4f4f-97f1-1f27b68edcfa\">\n",
              "    <div class=\"colab-df-container\">\n",
              "      <div>\n",
              "<style scoped>\n",
              "    .dataframe tbody tr th:only-of-type {\n",
              "        vertical-align: middle;\n",
              "    }\n",
              "\n",
              "    .dataframe tbody tr th {\n",
              "        vertical-align: top;\n",
              "    }\n",
              "\n",
              "    .dataframe thead th {\n",
              "        text-align: right;\n",
              "    }\n",
              "</style>\n",
              "<table border=\"1\" class=\"dataframe\">\n",
              "  <thead>\n",
              "    <tr style=\"text-align: right;\">\n",
              "      <th></th>\n",
              "      <th>Severity</th>\n",
              "      <th>Start_Lat</th>\n",
              "      <th>Start_Lng</th>\n",
              "      <th>End_Lat</th>\n",
              "      <th>End_Lng</th>\n",
              "      <th>Distance(mi)</th>\n",
              "      <th>Number</th>\n",
              "      <th>Side</th>\n",
              "      <th>County</th>\n",
              "      <th>State</th>\n",
              "      <th>...</th>\n",
              "      <th>Sunrise_Sunset</th>\n",
              "      <th>Civil_Twilight</th>\n",
              "      <th>Nautical_Twilight</th>\n",
              "      <th>Astronomical_Twilight</th>\n",
              "      <th>Year</th>\n",
              "      <th>Month</th>\n",
              "      <th>Weekday</th>\n",
              "      <th>Day</th>\n",
              "      <th>Hour</th>\n",
              "      <th>Minute</th>\n",
              "    </tr>\n",
              "  </thead>\n",
              "  <tbody>\n",
              "    <tr>\n",
              "      <th>0</th>\n",
              "      <td>4</td>\n",
              "      <td>40.451120</td>\n",
              "      <td>-85.150480</td>\n",
              "      <td>40.354290</td>\n",
              "      <td>-85.149930</td>\n",
              "      <td>6.690</td>\n",
              "      <td>9001.0</td>\n",
              "      <td>R</td>\n",
              "      <td>Jay</td>\n",
              "      <td>IN</td>\n",
              "      <td>...</td>\n",
              "      <td>Night</td>\n",
              "      <td>Day</td>\n",
              "      <td>Day</td>\n",
              "      <td>Day</td>\n",
              "      <td>2016</td>\n",
              "      <td>2</td>\n",
              "      <td>1</td>\n",
              "      <td>9</td>\n",
              "      <td>18</td>\n",
              "      <td>20</td>\n",
              "    </tr>\n",
              "    <tr>\n",
              "      <th>1</th>\n",
              "      <td>4</td>\n",
              "      <td>40.354290</td>\n",
              "      <td>-85.149930</td>\n",
              "      <td>40.451120</td>\n",
              "      <td>-85.150480</td>\n",
              "      <td>6.690</td>\n",
              "      <td>473.0</td>\n",
              "      <td>R</td>\n",
              "      <td>Jay</td>\n",
              "      <td>IN</td>\n",
              "      <td>...</td>\n",
              "      <td>Night</td>\n",
              "      <td>Day</td>\n",
              "      <td>Day</td>\n",
              "      <td>Day</td>\n",
              "      <td>2016</td>\n",
              "      <td>2</td>\n",
              "      <td>1</td>\n",
              "      <td>9</td>\n",
              "      <td>18</td>\n",
              "      <td>20</td>\n",
              "    </tr>\n",
              "    <tr>\n",
              "      <th>2</th>\n",
              "      <td>4</td>\n",
              "      <td>40.728130</td>\n",
              "      <td>-84.789650</td>\n",
              "      <td>40.745590</td>\n",
              "      <td>-84.789620</td>\n",
              "      <td>1.206</td>\n",
              "      <td>12998.0</td>\n",
              "      <td>R</td>\n",
              "      <td>Van Wert</td>\n",
              "      <td>OH</td>\n",
              "      <td>...</td>\n",
              "      <td>Night</td>\n",
              "      <td>Night</td>\n",
              "      <td>Night</td>\n",
              "      <td>Day</td>\n",
              "      <td>2016</td>\n",
              "      <td>2</td>\n",
              "      <td>2</td>\n",
              "      <td>10</td>\n",
              "      <td>6</td>\n",
              "      <td>18</td>\n",
              "    </tr>\n",
              "    <tr>\n",
              "      <th>3</th>\n",
              "      <td>2</td>\n",
              "      <td>41.831930</td>\n",
              "      <td>-80.101430</td>\n",
              "      <td>41.841490</td>\n",
              "      <td>-80.110990</td>\n",
              "      <td>0.824</td>\n",
              "      <td>25529.0</td>\n",
              "      <td>L</td>\n",
              "      <td>Crawford</td>\n",
              "      <td>PA</td>\n",
              "      <td>...</td>\n",
              "      <td>Day</td>\n",
              "      <td>Day</td>\n",
              "      <td>Day</td>\n",
              "      <td>Day</td>\n",
              "      <td>2016</td>\n",
              "      <td>2</td>\n",
              "      <td>2</td>\n",
              "      <td>10</td>\n",
              "      <td>8</td>\n",
              "      <td>35</td>\n",
              "    </tr>\n",
              "    <tr>\n",
              "      <th>4</th>\n",
              "      <td>2</td>\n",
              "      <td>41.483390</td>\n",
              "      <td>-81.662970</td>\n",
              "      <td>41.476920</td>\n",
              "      <td>-81.660750</td>\n",
              "      <td>0.462</td>\n",
              "      <td>3937.0</td>\n",
              "      <td>L</td>\n",
              "      <td>Cuyahoga</td>\n",
              "      <td>OH</td>\n",
              "      <td>...</td>\n",
              "      <td>Day</td>\n",
              "      <td>Day</td>\n",
              "      <td>Day</td>\n",
              "      <td>Day</td>\n",
              "      <td>2016</td>\n",
              "      <td>2</td>\n",
              "      <td>2</td>\n",
              "      <td>10</td>\n",
              "      <td>12</td>\n",
              "      <td>54</td>\n",
              "    </tr>\n",
              "    <tr>\n",
              "      <th>...</th>\n",
              "      <td>...</td>\n",
              "      <td>...</td>\n",
              "      <td>...</td>\n",
              "      <td>...</td>\n",
              "      <td>...</td>\n",
              "      <td>...</td>\n",
              "      <td>...</td>\n",
              "      <td>...</td>\n",
              "      <td>...</td>\n",
              "      <td>...</td>\n",
              "      <td>...</td>\n",
              "      <td>...</td>\n",
              "      <td>...</td>\n",
              "      <td>...</td>\n",
              "      <td>...</td>\n",
              "      <td>...</td>\n",
              "      <td>...</td>\n",
              "      <td>...</td>\n",
              "      <td>...</td>\n",
              "      <td>...</td>\n",
              "      <td>...</td>\n",
              "    </tr>\n",
              "    <tr>\n",
              "      <th>943314</th>\n",
              "      <td>3</td>\n",
              "      <td>37.609816</td>\n",
              "      <td>-122.493720</td>\n",
              "      <td>37.608821</td>\n",
              "      <td>-122.495261</td>\n",
              "      <td>0.109</td>\n",
              "      <td>895.0</td>\n",
              "      <td>R</td>\n",
              "      <td>San Mateo</td>\n",
              "      <td>CA</td>\n",
              "      <td>...</td>\n",
              "      <td>Day</td>\n",
              "      <td>Day</td>\n",
              "      <td>Day</td>\n",
              "      <td>Day</td>\n",
              "      <td>2019</td>\n",
              "      <td>8</td>\n",
              "      <td>4</td>\n",
              "      <td>23</td>\n",
              "      <td>16</td>\n",
              "      <td>19</td>\n",
              "    </tr>\n",
              "    <tr>\n",
              "      <th>943315</th>\n",
              "      <td>4</td>\n",
              "      <td>38.995930</td>\n",
              "      <td>-121.672020</td>\n",
              "      <td>39.003170</td>\n",
              "      <td>-121.662679</td>\n",
              "      <td>0.708</td>\n",
              "      <td>3044.0</td>\n",
              "      <td>R</td>\n",
              "      <td>Sutter</td>\n",
              "      <td>CA</td>\n",
              "      <td>...</td>\n",
              "      <td>Day</td>\n",
              "      <td>Day</td>\n",
              "      <td>Day</td>\n",
              "      <td>Day</td>\n",
              "      <td>2019</td>\n",
              "      <td>8</td>\n",
              "      <td>4</td>\n",
              "      <td>23</td>\n",
              "      <td>17</td>\n",
              "      <td>25</td>\n",
              "    </tr>\n",
              "    <tr>\n",
              "      <th>943316</th>\n",
              "      <td>4</td>\n",
              "      <td>39.003170</td>\n",
              "      <td>-121.662679</td>\n",
              "      <td>38.995930</td>\n",
              "      <td>-121.672020</td>\n",
              "      <td>0.708</td>\n",
              "      <td>2500.0</td>\n",
              "      <td>R</td>\n",
              "      <td>Sutter</td>\n",
              "      <td>CA</td>\n",
              "      <td>...</td>\n",
              "      <td>Day</td>\n",
              "      <td>Day</td>\n",
              "      <td>Day</td>\n",
              "      <td>Day</td>\n",
              "      <td>2019</td>\n",
              "      <td>8</td>\n",
              "      <td>4</td>\n",
              "      <td>23</td>\n",
              "      <td>17</td>\n",
              "      <td>25</td>\n",
              "    </tr>\n",
              "    <tr>\n",
              "      <th>943317</th>\n",
              "      <td>3</td>\n",
              "      <td>34.121320</td>\n",
              "      <td>-117.254540</td>\n",
              "      <td>34.121320</td>\n",
              "      <td>-117.254540</td>\n",
              "      <td>0.000</td>\n",
              "      <td>1498.0</td>\n",
              "      <td>L</td>\n",
              "      <td>San Bernardino</td>\n",
              "      <td>CA</td>\n",
              "      <td>...</td>\n",
              "      <td>Night</td>\n",
              "      <td>Night</td>\n",
              "      <td>Night</td>\n",
              "      <td>Night</td>\n",
              "      <td>2019</td>\n",
              "      <td>8</td>\n",
              "      <td>4</td>\n",
              "      <td>23</td>\n",
              "      <td>1</td>\n",
              "      <td>16</td>\n",
              "    </tr>\n",
              "    <tr>\n",
              "      <th>943318</th>\n",
              "      <td>3</td>\n",
              "      <td>34.485189</td>\n",
              "      <td>-120.229276</td>\n",
              "      <td>34.482530</td>\n",
              "      <td>-120.230510</td>\n",
              "      <td>0.197</td>\n",
              "      <td>18000.0</td>\n",
              "      <td>R</td>\n",
              "      <td>Santa Barbara</td>\n",
              "      <td>CA</td>\n",
              "      <td>...</td>\n",
              "      <td>Day</td>\n",
              "      <td>Day</td>\n",
              "      <td>Day</td>\n",
              "      <td>Day</td>\n",
              "      <td>2019</td>\n",
              "      <td>8</td>\n",
              "      <td>4</td>\n",
              "      <td>23</td>\n",
              "      <td>10</td>\n",
              "      <td>32</td>\n",
              "    </tr>\n",
              "  </tbody>\n",
              "</table>\n",
              "<p>943319 rows × 44 columns</p>\n",
              "</div>\n",
              "      <button class=\"colab-df-convert\" onclick=\"convertToInteractive('df-0127ab71-ba66-4f4f-97f1-1f27b68edcfa')\"\n",
              "              title=\"Convert this dataframe to an interactive table.\"\n",
              "              style=\"display:none;\">\n",
              "        \n",
              "  <svg xmlns=\"http://www.w3.org/2000/svg\" height=\"24px\"viewBox=\"0 0 24 24\"\n",
              "       width=\"24px\">\n",
              "    <path d=\"M0 0h24v24H0V0z\" fill=\"none\"/>\n",
              "    <path d=\"M18.56 5.44l.94 2.06.94-2.06 2.06-.94-2.06-.94-.94-2.06-.94 2.06-2.06.94zm-11 1L8.5 8.5l.94-2.06 2.06-.94-2.06-.94L8.5 2.5l-.94 2.06-2.06.94zm10 10l.94 2.06.94-2.06 2.06-.94-2.06-.94-.94-2.06-.94 2.06-2.06.94z\"/><path d=\"M17.41 7.96l-1.37-1.37c-.4-.4-.92-.59-1.43-.59-.52 0-1.04.2-1.43.59L10.3 9.45l-7.72 7.72c-.78.78-.78 2.05 0 2.83L4 21.41c.39.39.9.59 1.41.59.51 0 1.02-.2 1.41-.59l7.78-7.78 2.81-2.81c.8-.78.8-2.07 0-2.86zM5.41 20L4 18.59l7.72-7.72 1.47 1.35L5.41 20z\"/>\n",
              "  </svg>\n",
              "      </button>\n",
              "      \n",
              "  <style>\n",
              "    .colab-df-container {\n",
              "      display:flex;\n",
              "      flex-wrap:wrap;\n",
              "      gap: 12px;\n",
              "    }\n",
              "\n",
              "    .colab-df-convert {\n",
              "      background-color: #E8F0FE;\n",
              "      border: none;\n",
              "      border-radius: 50%;\n",
              "      cursor: pointer;\n",
              "      display: none;\n",
              "      fill: #1967D2;\n",
              "      height: 32px;\n",
              "      padding: 0 0 0 0;\n",
              "      width: 32px;\n",
              "    }\n",
              "\n",
              "    .colab-df-convert:hover {\n",
              "      background-color: #E2EBFA;\n",
              "      box-shadow: 0px 1px 2px rgba(60, 64, 67, 0.3), 0px 1px 3px 1px rgba(60, 64, 67, 0.15);\n",
              "      fill: #174EA6;\n",
              "    }\n",
              "\n",
              "    [theme=dark] .colab-df-convert {\n",
              "      background-color: #3B4455;\n",
              "      fill: #D2E3FC;\n",
              "    }\n",
              "\n",
              "    [theme=dark] .colab-df-convert:hover {\n",
              "      background-color: #434B5C;\n",
              "      box-shadow: 0px 1px 3px 1px rgba(0, 0, 0, 0.15);\n",
              "      filter: drop-shadow(0px 1px 2px rgba(0, 0, 0, 0.3));\n",
              "      fill: #FFFFFF;\n",
              "    }\n",
              "  </style>\n",
              "\n",
              "      <script>\n",
              "        const buttonEl =\n",
              "          document.querySelector('#df-0127ab71-ba66-4f4f-97f1-1f27b68edcfa button.colab-df-convert');\n",
              "        buttonEl.style.display =\n",
              "          google.colab.kernel.accessAllowed ? 'block' : 'none';\n",
              "\n",
              "        async function convertToInteractive(key) {\n",
              "          const element = document.querySelector('#df-0127ab71-ba66-4f4f-97f1-1f27b68edcfa');\n",
              "          const dataTable =\n",
              "            await google.colab.kernel.invokeFunction('convertToInteractive',\n",
              "                                                     [key], {});\n",
              "          if (!dataTable) return;\n",
              "\n",
              "          const docLinkHtml = 'Like what you see? Visit the ' +\n",
              "            '<a target=\"_blank\" href=https://colab.research.google.com/notebooks/data_table.ipynb>data table notebook</a>'\n",
              "            + ' to learn more about interactive tables.';\n",
              "          element.innerHTML = '';\n",
              "          dataTable['output_type'] = 'display_data';\n",
              "          await google.colab.output.renderOutput(dataTable, element);\n",
              "          const docLink = document.createElement('div');\n",
              "          docLink.innerHTML = docLinkHtml;\n",
              "          element.appendChild(docLink);\n",
              "        }\n",
              "      </script>\n",
              "    </div>\n",
              "  </div>\n",
              "  "
            ],
            "text/plain": [
              "        Severity  Start_Lat   Start_Lng    End_Lat     End_Lng  Distance(mi)  \\\n",
              "0              4  40.451120  -85.150480  40.354290  -85.149930         6.690   \n",
              "1              4  40.354290  -85.149930  40.451120  -85.150480         6.690   \n",
              "2              4  40.728130  -84.789650  40.745590  -84.789620         1.206   \n",
              "3              2  41.831930  -80.101430  41.841490  -80.110990         0.824   \n",
              "4              2  41.483390  -81.662970  41.476920  -81.660750         0.462   \n",
              "...          ...        ...         ...        ...         ...           ...   \n",
              "943314         3  37.609816 -122.493720  37.608821 -122.495261         0.109   \n",
              "943315         4  38.995930 -121.672020  39.003170 -121.662679         0.708   \n",
              "943316         4  39.003170 -121.662679  38.995930 -121.672020         0.708   \n",
              "943317         3  34.121320 -117.254540  34.121320 -117.254540         0.000   \n",
              "943318         3  34.485189 -120.229276  34.482530 -120.230510         0.197   \n",
              "\n",
              "         Number Side          County State  ... Sunrise_Sunset Civil_Twilight  \\\n",
              "0        9001.0    R             Jay    IN  ...          Night            Day   \n",
              "1         473.0    R             Jay    IN  ...          Night            Day   \n",
              "2       12998.0    R        Van Wert    OH  ...          Night          Night   \n",
              "3       25529.0    L        Crawford    PA  ...            Day            Day   \n",
              "4        3937.0    L        Cuyahoga    OH  ...            Day            Day   \n",
              "...         ...  ...             ...   ...  ...            ...            ...   \n",
              "943314    895.0    R       San Mateo    CA  ...            Day            Day   \n",
              "943315   3044.0    R          Sutter    CA  ...            Day            Day   \n",
              "943316   2500.0    R          Sutter    CA  ...            Day            Day   \n",
              "943317   1498.0    L  San Bernardino    CA  ...          Night          Night   \n",
              "943318  18000.0    R   Santa Barbara    CA  ...            Day            Day   \n",
              "\n",
              "        Nautical_Twilight  Astronomical_Twilight  Year  Month  Weekday Day  \\\n",
              "0                     Day                    Day  2016      2        1   9   \n",
              "1                     Day                    Day  2016      2        1   9   \n",
              "2                   Night                    Day  2016      2        2  10   \n",
              "3                     Day                    Day  2016      2        2  10   \n",
              "4                     Day                    Day  2016      2        2  10   \n",
              "...                   ...                    ...   ...    ...      ...  ..   \n",
              "943314                Day                    Day  2019      8        4  23   \n",
              "943315                Day                    Day  2019      8        4  23   \n",
              "943316                Day                    Day  2019      8        4  23   \n",
              "943317              Night                  Night  2019      8        4  23   \n",
              "943318                Day                    Day  2019      8        4  23   \n",
              "\n",
              "        Hour  Minute  \n",
              "0         18      20  \n",
              "1         18      20  \n",
              "2          6      18  \n",
              "3          8      35  \n",
              "4         12      54  \n",
              "...      ...     ...  \n",
              "943314    16      19  \n",
              "943315    17      25  \n",
              "943316    17      25  \n",
              "943317     1      16  \n",
              "943318    10      32  \n",
              "\n",
              "[943319 rows x 44 columns]"
            ]
          },
          "execution_count": 11,
          "metadata": {},
          "output_type": "execute_result"
        }
      ],
      "source": [
        "df "
      ]
    },
    {
      "cell_type": "code",
      "execution_count": 18,
      "metadata": {
        "colab": {
          "base_uri": "https://localhost:8080/"
        },
        "id": "pidNtXCAXxNl",
        "outputId": "b9c8dd0a-c8c3-472b-9e7c-fbdc1caa0ef6"
      },
      "outputs": [
        {
          "output_type": "execute_result",
          "data": {
            "text/plain": [
              "Severity                   0\n",
              "Start_Lat                  0\n",
              "Start_Lng                  0\n",
              "End_Lat                    0\n",
              "End_Lng                    0\n",
              "Distance(mi)               0\n",
              "Number                     0\n",
              "Side                       0\n",
              "County                     0\n",
              "State                      0\n",
              "Timezone                   0\n",
              "Airport_Code               0\n",
              "Temperature(F)             0\n",
              "Wind_Chill(F)              0\n",
              "Humidity(%)                0\n",
              "Pressure(in)               0\n",
              "Visibility(mi)             0\n",
              "Wind_Direction             0\n",
              "Wind_Speed(mph)            0\n",
              "Precipitation(in)          0\n",
              "Weather_Condition        284\n",
              "Amenity                    0\n",
              "Bump                       0\n",
              "Crossing                   0\n",
              "Give_Way                   0\n",
              "Junction                   0\n",
              "No_Exit                    0\n",
              "Railway                    0\n",
              "Roundabout                 0\n",
              "Station                    0\n",
              "Stop                       0\n",
              "Traffic_Calming            0\n",
              "Traffic_Signal             0\n",
              "Turning_Loop               0\n",
              "Sunrise_Sunset             0\n",
              "Civil_Twilight             0\n",
              "Nautical_Twilight          0\n",
              "Astronomical_Twilight      0\n",
              "Year                       0\n",
              "Month                      0\n",
              "Weekday                    0\n",
              "Day                        0\n",
              "Hour                       0\n",
              "Minute                     0\n",
              "dtype: int64"
            ]
          },
          "metadata": {},
          "execution_count": 18
        }
      ],
      "source": [
        "df.isna().sum()"
      ]
    },
    {
      "cell_type": "code",
      "execution_count": 19,
      "metadata": {
        "id": "_cREIgRsT8Cs"
      },
      "outputs": [],
      "source": [
        "df = df.dropna(axis=0).reset_index(drop=True)"
      ]
    },
    {
      "cell_type": "code",
      "execution_count": null,
      "metadata": {
        "colab": {
          "base_uri": "https://localhost:8080/"
        },
        "id": "bNwacOxoUJMb",
        "outputId": "a2f48b3f-67c9-4d26-e5a1-e071d67789e5"
      },
      "outputs": [
        {
          "data": {
            "text/plain": [
              "0         4\n",
              "1         4\n",
              "2         4\n",
              "3         2\n",
              "4         2\n",
              "         ..\n",
              "943030    3\n",
              "943031    4\n",
              "943032    4\n",
              "943033    3\n",
              "943034    3\n",
              "Name: Severity, Length: 943035, dtype: int64"
            ]
          },
          "execution_count": 20,
          "metadata": {},
          "output_type": "execute_result"
        }
      ],
      "source": [
        "df['Severity']"
      ]
    },
    {
      "cell_type": "markdown",
      "metadata": {
        "id": "JnLZrBsNpqwS"
      },
      "source": [
        "# Encoding"
      ]
    },
    {
      "cell_type": "code",
      "execution_count": 20,
      "metadata": {
        "colab": {
          "base_uri": "https://localhost:8080/"
        },
        "id": "MbkXYpxznzou",
        "outputId": "fd66c147-a989-4cf3-94b6-a25dae5c1bdf"
      },
      "outputs": [
        {
          "output_type": "execute_result",
          "data": {
            "text/plain": [
              "Index(['Side', 'County', 'State', 'Timezone', 'Airport_Code', 'Wind_Direction',\n",
              "       'Weather_Condition', 'Amenity', 'Bump', 'Crossing', 'Give_Way',\n",
              "       'Junction', 'No_Exit', 'Railway', 'Roundabout', 'Station', 'Stop',\n",
              "       'Traffic_Calming', 'Traffic_Signal', 'Turning_Loop', 'Sunrise_Sunset',\n",
              "       'Civil_Twilight', 'Nautical_Twilight', 'Astronomical_Twilight'],\n",
              "      dtype='object')"
            ]
          },
          "metadata": {},
          "execution_count": 20
        }
      ],
      "source": [
        "categorical_columns = df.select_dtypes(include=['object','bool']).columns\n",
        "categorical_columns"
      ]
    },
    {
      "cell_type": "code",
      "execution_count": 21,
      "metadata": {
        "colab": {
          "base_uri": "https://localhost:8080/"
        },
        "id": "C7Su0Wgip_hy",
        "outputId": "db644ed8-e4ca-40d5-ae4b-b2b9d54500c2"
      },
      "outputs": [
        {
          "output_type": "execute_result",
          "data": {
            "text/plain": [
              "{'Side': 2,\n",
              " 'County': 1411,\n",
              " 'State': 49,\n",
              " 'Timezone': 4,\n",
              " 'Airport_Code': 1678,\n",
              " 'Wind_Direction': 10,\n",
              " 'Weather_Condition': 10,\n",
              " 'Sunrise_Sunset': 2,\n",
              " 'Civil_Twilight': 2,\n",
              " 'Nautical_Twilight': 2,\n",
              " 'Astronomical_Twilight': 2}"
            ]
          },
          "metadata": {},
          "execution_count": 21
        }
      ],
      "source": [
        "{column: len(df[column].unique()) for column in df.columns if df.dtypes[column] == 'object'}"
      ]
    },
    {
      "cell_type": "code",
      "execution_count": 22,
      "metadata": {
        "id": "VN5k-ZzRtVOR"
      },
      "outputs": [],
      "source": [
        "for i in categorical_columns:\n",
        "    en = preprocessing.LabelEncoder()\n",
        "    df[i]= en.fit_transform(df[i])"
      ]
    },
    {
      "cell_type": "code",
      "execution_count": 23,
      "metadata": {
        "colab": {
          "base_uri": "https://localhost:8080/"
        },
        "id": "a9wnTZN370ru",
        "outputId": "9a7a5c3d-d1ff-48a7-f9a5-1de1432583ce"
      },
      "outputs": [
        {
          "output_type": "stream",
          "name": "stdout",
          "text": [
            "<class 'pandas.core.frame.DataFrame'>\n",
            "RangeIndex: 943035 entries, 0 to 943034\n",
            "Data columns (total 44 columns):\n",
            " #   Column                 Non-Null Count   Dtype  \n",
            "---  ------                 --------------   -----  \n",
            " 0   Severity               943035 non-null  int64  \n",
            " 1   Start_Lat              943035 non-null  float64\n",
            " 2   Start_Lng              943035 non-null  float64\n",
            " 3   End_Lat                943035 non-null  float64\n",
            " 4   End_Lng                943035 non-null  float64\n",
            " 5   Distance(mi)           943035 non-null  float64\n",
            " 6   Number                 943035 non-null  float64\n",
            " 7   Side                   943035 non-null  int64  \n",
            " 8   County                 943035 non-null  int64  \n",
            " 9   State                  943035 non-null  int64  \n",
            " 10  Timezone               943035 non-null  int64  \n",
            " 11  Airport_Code           943035 non-null  int64  \n",
            " 12  Temperature(F)         943035 non-null  float64\n",
            " 13  Wind_Chill(F)          943035 non-null  float64\n",
            " 14  Humidity(%)            943035 non-null  float64\n",
            " 15  Pressure(in)           943035 non-null  float64\n",
            " 16  Visibility(mi)         943035 non-null  float64\n",
            " 17  Wind_Direction         943035 non-null  int64  \n",
            " 18  Wind_Speed(mph)        943035 non-null  float64\n",
            " 19  Precipitation(in)      943035 non-null  float64\n",
            " 20  Weather_Condition      943035 non-null  int64  \n",
            " 21  Amenity                943035 non-null  int64  \n",
            " 22  Bump                   943035 non-null  int64  \n",
            " 23  Crossing               943035 non-null  int64  \n",
            " 24  Give_Way               943035 non-null  int64  \n",
            " 25  Junction               943035 non-null  int64  \n",
            " 26  No_Exit                943035 non-null  int64  \n",
            " 27  Railway                943035 non-null  int64  \n",
            " 28  Roundabout             943035 non-null  int64  \n",
            " 29  Station                943035 non-null  int64  \n",
            " 30  Stop                   943035 non-null  int64  \n",
            " 31  Traffic_Calming        943035 non-null  int64  \n",
            " 32  Traffic_Signal         943035 non-null  int64  \n",
            " 33  Turning_Loop           943035 non-null  int64  \n",
            " 34  Sunrise_Sunset         943035 non-null  int64  \n",
            " 35  Civil_Twilight         943035 non-null  int64  \n",
            " 36  Nautical_Twilight      943035 non-null  int64  \n",
            " 37  Astronomical_Twilight  943035 non-null  int64  \n",
            " 38  Year                   943035 non-null  int64  \n",
            " 39  Month                  943035 non-null  int64  \n",
            " 40  Weekday                943035 non-null  int64  \n",
            " 41  Day                    943035 non-null  int64  \n",
            " 42  Hour                   943035 non-null  int64  \n",
            " 43  Minute                 943035 non-null  int64  \n",
            "dtypes: float64(13), int64(31)\n",
            "memory usage: 316.6 MB\n"
          ]
        }
      ],
      "source": [
        "df.info()"
      ]
    },
    {
      "cell_type": "code",
      "execution_count": 24,
      "metadata": {
        "colab": {
          "base_uri": "https://localhost:8080/",
          "height": 0
        },
        "id": "F5qieyjVPc2r",
        "outputId": "a834efac-be09-4371-eb23-e7e07360ba87"
      },
      "outputs": [
        {
          "output_type": "execute_result",
          "data": {
            "text/plain": [
              "        Severity  Start_Lat   Start_Lng    End_Lat     End_Lng  Distance(mi)  \\\n",
              "0              4  40.451120  -85.150480  40.354290  -85.149930         6.690   \n",
              "1              4  40.354290  -85.149930  40.451120  -85.150480         6.690   \n",
              "2              4  40.728130  -84.789650  40.745590  -84.789620         1.206   \n",
              "3              2  41.831930  -80.101430  41.841490  -80.110990         0.824   \n",
              "4              2  41.483390  -81.662970  41.476920  -81.660750         0.462   \n",
              "...          ...        ...         ...        ...         ...           ...   \n",
              "943030         3  37.609816 -122.493720  37.608821 -122.495261         0.109   \n",
              "943031         4  38.995930 -121.672020  39.003170 -121.662679         0.708   \n",
              "943032         4  39.003170 -121.662679  38.995930 -121.672020         0.708   \n",
              "943033         3  34.121320 -117.254540  34.121320 -117.254540         0.000   \n",
              "943034         3  34.485189 -120.229276  34.482530 -120.230510         0.197   \n",
              "\n",
              "         Number  Side  County  State  ...  Sunrise_Sunset  Civil_Twilight  \\\n",
              "0        9001.0     1     632     13  ...               1               0   \n",
              "1         473.0     1     632     13  ...               1               0   \n",
              "2       12998.0     1    1304     33  ...               1               1   \n",
              "3       25529.0     0     316     36  ...               0               0   \n",
              "4        3937.0     0     333     33  ...               0               0   \n",
              "...         ...   ...     ...    ...  ...             ...             ...   \n",
              "943030    895.0     1    1121      3  ...               0               0   \n",
              "943031   3044.0     1    1235      3  ...               0               0   \n",
              "943032   2500.0     1    1235      3  ...               0               0   \n",
              "943033   1498.0     0    1115      3  ...               1               1   \n",
              "943034  18000.0     1    1127      3  ...               0               0   \n",
              "\n",
              "        Nautical_Twilight  Astronomical_Twilight  Year  Month  Weekday  Day  \\\n",
              "0                       0                      0  2016      2        1    9   \n",
              "1                       0                      0  2016      2        1    9   \n",
              "2                       1                      0  2016      2        2   10   \n",
              "3                       0                      0  2016      2        2   10   \n",
              "4                       0                      0  2016      2        2   10   \n",
              "...                   ...                    ...   ...    ...      ...  ...   \n",
              "943030                  0                      0  2019      8        4   23   \n",
              "943031                  0                      0  2019      8        4   23   \n",
              "943032                  0                      0  2019      8        4   23   \n",
              "943033                  1                      1  2019      8        4   23   \n",
              "943034                  0                      0  2019      8        4   23   \n",
              "\n",
              "        Hour  Minute  \n",
              "0         18      20  \n",
              "1         18      20  \n",
              "2          6      18  \n",
              "3          8      35  \n",
              "4         12      54  \n",
              "...      ...     ...  \n",
              "943030    16      19  \n",
              "943031    17      25  \n",
              "943032    17      25  \n",
              "943033     1      16  \n",
              "943034    10      32  \n",
              "\n",
              "[943035 rows x 44 columns]"
            ],
            "text/html": [
              "\n",
              "  <div id=\"df-09af6189-9e2c-43e9-8dd5-8b3e241eae70\">\n",
              "    <div class=\"colab-df-container\">\n",
              "      <div>\n",
              "<style scoped>\n",
              "    .dataframe tbody tr th:only-of-type {\n",
              "        vertical-align: middle;\n",
              "    }\n",
              "\n",
              "    .dataframe tbody tr th {\n",
              "        vertical-align: top;\n",
              "    }\n",
              "\n",
              "    .dataframe thead th {\n",
              "        text-align: right;\n",
              "    }\n",
              "</style>\n",
              "<table border=\"1\" class=\"dataframe\">\n",
              "  <thead>\n",
              "    <tr style=\"text-align: right;\">\n",
              "      <th></th>\n",
              "      <th>Severity</th>\n",
              "      <th>Start_Lat</th>\n",
              "      <th>Start_Lng</th>\n",
              "      <th>End_Lat</th>\n",
              "      <th>End_Lng</th>\n",
              "      <th>Distance(mi)</th>\n",
              "      <th>Number</th>\n",
              "      <th>Side</th>\n",
              "      <th>County</th>\n",
              "      <th>State</th>\n",
              "      <th>...</th>\n",
              "      <th>Sunrise_Sunset</th>\n",
              "      <th>Civil_Twilight</th>\n",
              "      <th>Nautical_Twilight</th>\n",
              "      <th>Astronomical_Twilight</th>\n",
              "      <th>Year</th>\n",
              "      <th>Month</th>\n",
              "      <th>Weekday</th>\n",
              "      <th>Day</th>\n",
              "      <th>Hour</th>\n",
              "      <th>Minute</th>\n",
              "    </tr>\n",
              "  </thead>\n",
              "  <tbody>\n",
              "    <tr>\n",
              "      <th>0</th>\n",
              "      <td>4</td>\n",
              "      <td>40.451120</td>\n",
              "      <td>-85.150480</td>\n",
              "      <td>40.354290</td>\n",
              "      <td>-85.149930</td>\n",
              "      <td>6.690</td>\n",
              "      <td>9001.0</td>\n",
              "      <td>1</td>\n",
              "      <td>632</td>\n",
              "      <td>13</td>\n",
              "      <td>...</td>\n",
              "      <td>1</td>\n",
              "      <td>0</td>\n",
              "      <td>0</td>\n",
              "      <td>0</td>\n",
              "      <td>2016</td>\n",
              "      <td>2</td>\n",
              "      <td>1</td>\n",
              "      <td>9</td>\n",
              "      <td>18</td>\n",
              "      <td>20</td>\n",
              "    </tr>\n",
              "    <tr>\n",
              "      <th>1</th>\n",
              "      <td>4</td>\n",
              "      <td>40.354290</td>\n",
              "      <td>-85.149930</td>\n",
              "      <td>40.451120</td>\n",
              "      <td>-85.150480</td>\n",
              "      <td>6.690</td>\n",
              "      <td>473.0</td>\n",
              "      <td>1</td>\n",
              "      <td>632</td>\n",
              "      <td>13</td>\n",
              "      <td>...</td>\n",
              "      <td>1</td>\n",
              "      <td>0</td>\n",
              "      <td>0</td>\n",
              "      <td>0</td>\n",
              "      <td>2016</td>\n",
              "      <td>2</td>\n",
              "      <td>1</td>\n",
              "      <td>9</td>\n",
              "      <td>18</td>\n",
              "      <td>20</td>\n",
              "    </tr>\n",
              "    <tr>\n",
              "      <th>2</th>\n",
              "      <td>4</td>\n",
              "      <td>40.728130</td>\n",
              "      <td>-84.789650</td>\n",
              "      <td>40.745590</td>\n",
              "      <td>-84.789620</td>\n",
              "      <td>1.206</td>\n",
              "      <td>12998.0</td>\n",
              "      <td>1</td>\n",
              "      <td>1304</td>\n",
              "      <td>33</td>\n",
              "      <td>...</td>\n",
              "      <td>1</td>\n",
              "      <td>1</td>\n",
              "      <td>1</td>\n",
              "      <td>0</td>\n",
              "      <td>2016</td>\n",
              "      <td>2</td>\n",
              "      <td>2</td>\n",
              "      <td>10</td>\n",
              "      <td>6</td>\n",
              "      <td>18</td>\n",
              "    </tr>\n",
              "    <tr>\n",
              "      <th>3</th>\n",
              "      <td>2</td>\n",
              "      <td>41.831930</td>\n",
              "      <td>-80.101430</td>\n",
              "      <td>41.841490</td>\n",
              "      <td>-80.110990</td>\n",
              "      <td>0.824</td>\n",
              "      <td>25529.0</td>\n",
              "      <td>0</td>\n",
              "      <td>316</td>\n",
              "      <td>36</td>\n",
              "      <td>...</td>\n",
              "      <td>0</td>\n",
              "      <td>0</td>\n",
              "      <td>0</td>\n",
              "      <td>0</td>\n",
              "      <td>2016</td>\n",
              "      <td>2</td>\n",
              "      <td>2</td>\n",
              "      <td>10</td>\n",
              "      <td>8</td>\n",
              "      <td>35</td>\n",
              "    </tr>\n",
              "    <tr>\n",
              "      <th>4</th>\n",
              "      <td>2</td>\n",
              "      <td>41.483390</td>\n",
              "      <td>-81.662970</td>\n",
              "      <td>41.476920</td>\n",
              "      <td>-81.660750</td>\n",
              "      <td>0.462</td>\n",
              "      <td>3937.0</td>\n",
              "      <td>0</td>\n",
              "      <td>333</td>\n",
              "      <td>33</td>\n",
              "      <td>...</td>\n",
              "      <td>0</td>\n",
              "      <td>0</td>\n",
              "      <td>0</td>\n",
              "      <td>0</td>\n",
              "      <td>2016</td>\n",
              "      <td>2</td>\n",
              "      <td>2</td>\n",
              "      <td>10</td>\n",
              "      <td>12</td>\n",
              "      <td>54</td>\n",
              "    </tr>\n",
              "    <tr>\n",
              "      <th>...</th>\n",
              "      <td>...</td>\n",
              "      <td>...</td>\n",
              "      <td>...</td>\n",
              "      <td>...</td>\n",
              "      <td>...</td>\n",
              "      <td>...</td>\n",
              "      <td>...</td>\n",
              "      <td>...</td>\n",
              "      <td>...</td>\n",
              "      <td>...</td>\n",
              "      <td>...</td>\n",
              "      <td>...</td>\n",
              "      <td>...</td>\n",
              "      <td>...</td>\n",
              "      <td>...</td>\n",
              "      <td>...</td>\n",
              "      <td>...</td>\n",
              "      <td>...</td>\n",
              "      <td>...</td>\n",
              "      <td>...</td>\n",
              "      <td>...</td>\n",
              "    </tr>\n",
              "    <tr>\n",
              "      <th>943030</th>\n",
              "      <td>3</td>\n",
              "      <td>37.609816</td>\n",
              "      <td>-122.493720</td>\n",
              "      <td>37.608821</td>\n",
              "      <td>-122.495261</td>\n",
              "      <td>0.109</td>\n",
              "      <td>895.0</td>\n",
              "      <td>1</td>\n",
              "      <td>1121</td>\n",
              "      <td>3</td>\n",
              "      <td>...</td>\n",
              "      <td>0</td>\n",
              "      <td>0</td>\n",
              "      <td>0</td>\n",
              "      <td>0</td>\n",
              "      <td>2019</td>\n",
              "      <td>8</td>\n",
              "      <td>4</td>\n",
              "      <td>23</td>\n",
              "      <td>16</td>\n",
              "      <td>19</td>\n",
              "    </tr>\n",
              "    <tr>\n",
              "      <th>943031</th>\n",
              "      <td>4</td>\n",
              "      <td>38.995930</td>\n",
              "      <td>-121.672020</td>\n",
              "      <td>39.003170</td>\n",
              "      <td>-121.662679</td>\n",
              "      <td>0.708</td>\n",
              "      <td>3044.0</td>\n",
              "      <td>1</td>\n",
              "      <td>1235</td>\n",
              "      <td>3</td>\n",
              "      <td>...</td>\n",
              "      <td>0</td>\n",
              "      <td>0</td>\n",
              "      <td>0</td>\n",
              "      <td>0</td>\n",
              "      <td>2019</td>\n",
              "      <td>8</td>\n",
              "      <td>4</td>\n",
              "      <td>23</td>\n",
              "      <td>17</td>\n",
              "      <td>25</td>\n",
              "    </tr>\n",
              "    <tr>\n",
              "      <th>943032</th>\n",
              "      <td>4</td>\n",
              "      <td>39.003170</td>\n",
              "      <td>-121.662679</td>\n",
              "      <td>38.995930</td>\n",
              "      <td>-121.672020</td>\n",
              "      <td>0.708</td>\n",
              "      <td>2500.0</td>\n",
              "      <td>1</td>\n",
              "      <td>1235</td>\n",
              "      <td>3</td>\n",
              "      <td>...</td>\n",
              "      <td>0</td>\n",
              "      <td>0</td>\n",
              "      <td>0</td>\n",
              "      <td>0</td>\n",
              "      <td>2019</td>\n",
              "      <td>8</td>\n",
              "      <td>4</td>\n",
              "      <td>23</td>\n",
              "      <td>17</td>\n",
              "      <td>25</td>\n",
              "    </tr>\n",
              "    <tr>\n",
              "      <th>943033</th>\n",
              "      <td>3</td>\n",
              "      <td>34.121320</td>\n",
              "      <td>-117.254540</td>\n",
              "      <td>34.121320</td>\n",
              "      <td>-117.254540</td>\n",
              "      <td>0.000</td>\n",
              "      <td>1498.0</td>\n",
              "      <td>0</td>\n",
              "      <td>1115</td>\n",
              "      <td>3</td>\n",
              "      <td>...</td>\n",
              "      <td>1</td>\n",
              "      <td>1</td>\n",
              "      <td>1</td>\n",
              "      <td>1</td>\n",
              "      <td>2019</td>\n",
              "      <td>8</td>\n",
              "      <td>4</td>\n",
              "      <td>23</td>\n",
              "      <td>1</td>\n",
              "      <td>16</td>\n",
              "    </tr>\n",
              "    <tr>\n",
              "      <th>943034</th>\n",
              "      <td>3</td>\n",
              "      <td>34.485189</td>\n",
              "      <td>-120.229276</td>\n",
              "      <td>34.482530</td>\n",
              "      <td>-120.230510</td>\n",
              "      <td>0.197</td>\n",
              "      <td>18000.0</td>\n",
              "      <td>1</td>\n",
              "      <td>1127</td>\n",
              "      <td>3</td>\n",
              "      <td>...</td>\n",
              "      <td>0</td>\n",
              "      <td>0</td>\n",
              "      <td>0</td>\n",
              "      <td>0</td>\n",
              "      <td>2019</td>\n",
              "      <td>8</td>\n",
              "      <td>4</td>\n",
              "      <td>23</td>\n",
              "      <td>10</td>\n",
              "      <td>32</td>\n",
              "    </tr>\n",
              "  </tbody>\n",
              "</table>\n",
              "<p>943035 rows × 44 columns</p>\n",
              "</div>\n",
              "      <button class=\"colab-df-convert\" onclick=\"convertToInteractive('df-09af6189-9e2c-43e9-8dd5-8b3e241eae70')\"\n",
              "              title=\"Convert this dataframe to an interactive table.\"\n",
              "              style=\"display:none;\">\n",
              "        \n",
              "  <svg xmlns=\"http://www.w3.org/2000/svg\" height=\"24px\"viewBox=\"0 0 24 24\"\n",
              "       width=\"24px\">\n",
              "    <path d=\"M0 0h24v24H0V0z\" fill=\"none\"/>\n",
              "    <path d=\"M18.56 5.44l.94 2.06.94-2.06 2.06-.94-2.06-.94-.94-2.06-.94 2.06-2.06.94zm-11 1L8.5 8.5l.94-2.06 2.06-.94-2.06-.94L8.5 2.5l-.94 2.06-2.06.94zm10 10l.94 2.06.94-2.06 2.06-.94-2.06-.94-.94-2.06-.94 2.06-2.06.94z\"/><path d=\"M17.41 7.96l-1.37-1.37c-.4-.4-.92-.59-1.43-.59-.52 0-1.04.2-1.43.59L10.3 9.45l-7.72 7.72c-.78.78-.78 2.05 0 2.83L4 21.41c.39.39.9.59 1.41.59.51 0 1.02-.2 1.41-.59l7.78-7.78 2.81-2.81c.8-.78.8-2.07 0-2.86zM5.41 20L4 18.59l7.72-7.72 1.47 1.35L5.41 20z\"/>\n",
              "  </svg>\n",
              "      </button>\n",
              "      \n",
              "  <style>\n",
              "    .colab-df-container {\n",
              "      display:flex;\n",
              "      flex-wrap:wrap;\n",
              "      gap: 12px;\n",
              "    }\n",
              "\n",
              "    .colab-df-convert {\n",
              "      background-color: #E8F0FE;\n",
              "      border: none;\n",
              "      border-radius: 50%;\n",
              "      cursor: pointer;\n",
              "      display: none;\n",
              "      fill: #1967D2;\n",
              "      height: 32px;\n",
              "      padding: 0 0 0 0;\n",
              "      width: 32px;\n",
              "    }\n",
              "\n",
              "    .colab-df-convert:hover {\n",
              "      background-color: #E2EBFA;\n",
              "      box-shadow: 0px 1px 2px rgba(60, 64, 67, 0.3), 0px 1px 3px 1px rgba(60, 64, 67, 0.15);\n",
              "      fill: #174EA6;\n",
              "    }\n",
              "\n",
              "    [theme=dark] .colab-df-convert {\n",
              "      background-color: #3B4455;\n",
              "      fill: #D2E3FC;\n",
              "    }\n",
              "\n",
              "    [theme=dark] .colab-df-convert:hover {\n",
              "      background-color: #434B5C;\n",
              "      box-shadow: 0px 1px 3px 1px rgba(0, 0, 0, 0.15);\n",
              "      filter: drop-shadow(0px 1px 2px rgba(0, 0, 0, 0.3));\n",
              "      fill: #FFFFFF;\n",
              "    }\n",
              "  </style>\n",
              "\n",
              "      <script>\n",
              "        const buttonEl =\n",
              "          document.querySelector('#df-09af6189-9e2c-43e9-8dd5-8b3e241eae70 button.colab-df-convert');\n",
              "        buttonEl.style.display =\n",
              "          google.colab.kernel.accessAllowed ? 'block' : 'none';\n",
              "\n",
              "        async function convertToInteractive(key) {\n",
              "          const element = document.querySelector('#df-09af6189-9e2c-43e9-8dd5-8b3e241eae70');\n",
              "          const dataTable =\n",
              "            await google.colab.kernel.invokeFunction('convertToInteractive',\n",
              "                                                     [key], {});\n",
              "          if (!dataTable) return;\n",
              "\n",
              "          const docLinkHtml = 'Like what you see? Visit the ' +\n",
              "            '<a target=\"_blank\" href=https://colab.research.google.com/notebooks/data_table.ipynb>data table notebook</a>'\n",
              "            + ' to learn more about interactive tables.';\n",
              "          element.innerHTML = '';\n",
              "          dataTable['output_type'] = 'display_data';\n",
              "          await google.colab.output.renderOutput(dataTable, element);\n",
              "          const docLink = document.createElement('div');\n",
              "          docLink.innerHTML = docLinkHtml;\n",
              "          element.appendChild(docLink);\n",
              "        }\n",
              "      </script>\n",
              "    </div>\n",
              "  </div>\n",
              "  "
            ]
          },
          "metadata": {},
          "execution_count": 24
        }
      ],
      "source": [
        "df"
      ]
    },
    {
      "cell_type": "code",
      "execution_count": 25,
      "metadata": {
        "colab": {
          "base_uri": "https://localhost:8080/",
          "height": 0
        },
        "id": "2kUQb1IKYPMG",
        "outputId": "5c5dbcde-b660-4937-cc3e-45d20bef7cd0"
      },
      "outputs": [
        {
          "output_type": "stream",
          "name": "stderr",
          "text": [
            "/usr/local/lib/python3.8/dist-packages/seaborn/_decorators.py:36: FutureWarning: Pass the following variables as keyword args: x, y. From version 0.12, the only valid positional argument will be `data`, and passing other arguments without an explicit keyword will result in an error or misinterpretation.\n",
            "  warnings.warn(\n"
          ]
        },
        {
          "output_type": "display_data",
          "data": {
            "text/plain": [
              "<Figure size 720x576 with 1 Axes>"
            ],
            "image/png": "[encoded data removed]"
          },
          "metadata": {
            "needs_background": "light"
          }
        }
      ],
      "source": [
        "severity_counts = df[\"Severity\"].value_counts()\n",
        "plt.figure(figsize=(10, 8))\n",
        "plt.title(\"Histogram for the severity\")\n",
        "sns.barplot(severity_counts.index, severity_counts.values)\n",
        "plt.xlabel(\"Severity\")\n",
        "plt.ylabel(\"Value\")\n",
        "plt.show()"
      ]
    },
    {
      "cell_type": "markdown",
      "metadata": {
        "id": "7TKT4RdL14L5"
      },
      "source": [
        "# OutLier"
      ]
    },
    {
      "cell_type": "code",
      "execution_count": 26,
      "metadata": {
        "id": "BLc9u3Op16kf"
      },
      "outputs": [],
      "source": [
        "cols_with_outliers = ['Distance(mi)','Wind_Chill(F)','Humidity(%)','Pressure(in)','Visibility(mi)','Wind_Speed(mph)','Precipitation(in)']"
      ]
    },
    {
      "cell_type": "code",
      "execution_count": 27,
      "metadata": {
        "id": "kjPho9PN2EGI"
      },
      "outputs": [],
      "source": [
        "def remove_outliers(column):\n",
        "    Q1 = column.quantile(.25)\n",
        "    Q3 = column.quantile(.75)\n",
        "    IQR = Q3 - Q1\n",
        "    column = column[((Q1 - 1.5 * IQR) <= column) & (column  <= (Q3 + 1.5 * IQR))]\n",
        "    return column"
      ]
    },
    {
      "cell_type": "code",
      "execution_count": 28,
      "metadata": {
        "id": "m0ciseZc2IZG"
      },
      "outputs": [],
      "source": [
        "for col in cols_with_outliers:\n",
        "    df[col] = remove_outliers(df[col])"
      ]
    },
    {
      "cell_type": "code",
      "execution_count": 29,
      "metadata": {
        "colab": {
          "base_uri": "https://localhost:8080/"
        },
        "id": "PoQyVc00tG5l",
        "outputId": "5c090f99-49e8-4bd0-aac5-c329c0d9505f"
      },
      "outputs": [
        {
          "output_type": "execute_result",
          "data": {
            "text/plain": [
              "Severity                      0\n",
              "Start_Lat                     0\n",
              "Start_Lng                     0\n",
              "End_Lat                       0\n",
              "End_Lng                       0\n",
              "Distance(mi)              96897\n",
              "Number                        0\n",
              "Side                          0\n",
              "County                        0\n",
              "State                         0\n",
              "Timezone                      0\n",
              "Airport_Code                  0\n",
              "Temperature(F)                0\n",
              "Wind_Chill(F)             10797\n",
              "Humidity(%)                   0\n",
              "Pressure(in)              77309\n",
              "Visibility(mi)           161577\n",
              "Wind_Direction                0\n",
              "Wind_Speed(mph)           16540\n",
              "Precipitation(in)         55400\n",
              "Weather_Condition             0\n",
              "Amenity                       0\n",
              "Bump                          0\n",
              "Crossing                      0\n",
              "Give_Way                      0\n",
              "Junction                      0\n",
              "No_Exit                       0\n",
              "Railway                       0\n",
              "Roundabout                    0\n",
              "Station                       0\n",
              "Stop                          0\n",
              "Traffic_Calming               0\n",
              "Traffic_Signal                0\n",
              "Turning_Loop                  0\n",
              "Sunrise_Sunset                0\n",
              "Civil_Twilight                0\n",
              "Nautical_Twilight             0\n",
              "Astronomical_Twilight         0\n",
              "Year                          0\n",
              "Month                         0\n",
              "Weekday                       0\n",
              "Day                           0\n",
              "Hour                          0\n",
              "Minute                        0\n",
              "dtype: int64"
            ]
          },
          "metadata": {},
          "execution_count": 29
        }
      ],
      "source": [
        "df.isna().sum()"
      ]
    },
    {
      "cell_type": "code",
      "execution_count": 30,
      "metadata": {
        "id": "Quv4R_PRtL5J"
      },
      "outputs": [],
      "source": [
        "df = df.dropna(axis=0).reset_index(drop=True)"
      ]
    },
    {
      "cell_type": "markdown",
      "metadata": {
        "id": "0v1EL-PgA8ty"
      },
      "source": [
        "# Feature Scaling"
      ]
    },
    {
      "cell_type": "code",
      "execution_count": 31,
      "metadata": {
        "id": "KMmFOSbYAjwp"
      },
      "outputs": [],
      "source": [
        "y = df['Severity'].copy()\n",
        "X = df.drop('Severity', axis=1)"
      ]
    },
    {
      "cell_type": "code",
      "execution_count": 32,
      "metadata": {
        "colab": {
          "base_uri": "https://localhost:8080/"
        },
        "id": "nvZrwekeA71d",
        "outputId": "6cc88b46-b733-4927-b2d1-c85417083e65"
      },
      "outputs": [
        {
          "output_type": "execute_result",
          "data": {
            "text/plain": [
              "array([2, 4, 3, 1])"
            ]
          },
          "metadata": {},
          "execution_count": 32
        }
      ],
      "source": [
        "y.unique()\n"
      ]
    },
    {
      "cell_type": "code",
      "execution_count": 33,
      "metadata": {
        "id": "2RBeNnIIBFO9"
      },
      "outputs": [],
      "source": [
        "y=y-1"
      ]
    },
    {
      "cell_type": "code",
      "execution_count": 34,
      "metadata": {
        "colab": {
          "base_uri": "https://localhost:8080/"
        },
        "id": "2H9C55toBncF",
        "outputId": "c8cc8b1f-d7ab-44cb-bc09-e953c0240c2b"
      },
      "outputs": [
        {
          "output_type": "stream",
          "name": "stderr",
          "text": [
            "<ipython-input-34-33fba77a450b>:1: DeprecationWarning: `np.float` is a deprecated alias for the builtin `float`. To silence this warning, use `float` by itself. Doing this will not modify any behavior and is safe. If you specifically wanted the numpy scalar type, use `np.float64` here.\n",
            "Deprecated in NumPy 1.20; for more details and guidance: https://numpy.org/devdocs/release/1.20.0-notes.html#deprecations\n",
            "  X = X.astype(np.float)\n"
          ]
        }
      ],
      "source": [
        "X = X.astype(np.float)"
      ]
    },
    {
      "cell_type": "code",
      "execution_count": 35,
      "metadata": {
        "id": "i8gw5J4xIJc1"
      },
      "outputs": [],
      "source": [
        "scaler = StandardScaler()\n",
        "\n",
        "X = scaler.fit_transform(X)"
      ]
    },
    {
      "cell_type": "code",
      "execution_count": 36,
      "metadata": {
        "colab": {
          "base_uri": "https://localhost:8080/",
          "height": 0
        },
        "id": "bKrnfV4VINLr",
        "outputId": "1d5a37f9-a8c9-4df7-eda5-a48b04fae69c"
      },
      "outputs": [
        {
          "output_type": "stream",
          "name": "stderr",
          "text": [
            "/usr/local/lib/python3.8/dist-packages/seaborn/_decorators.py:36: FutureWarning: Pass the following variables as keyword args: x, y. From version 0.12, the only valid positional argument will be `data`, and passing other arguments without an explicit keyword will result in an error or misinterpretation.\n",
            "  warnings.warn(\n"
          ]
        },
        {
          "output_type": "display_data",
          "data": {
            "text/plain": [
              "<Figure size 720x576 with 1 Axes>"
            ],
            "image/png": "[encoded data removed]"
          },
          "metadata": {
            "needs_background": "light"
          }
        }
      ],
      "source": [
        "severity_counts = df[\"Severity\"].value_counts()\n",
        "\n",
        "plt.figure(figsize=(10, 8))\n",
        "plt.title(\"Histogram for the severity\")\n",
        "sns.barplot(severity_counts.index, severity_counts.values)\n",
        "plt.xlabel(\"Severity\")\n",
        "plt.ylabel(\"Value\")\n",
        "plt.show()"
      ]
    },
    {
      "cell_type": "code",
      "execution_count": 37,
      "metadata": {
        "colab": {
          "base_uri": "https://localhost:8080/"
        },
        "id": "rBounNA6tn34",
        "outputId": "2e4621df-1aa6-4418-a410-7b4cd2575323"
      },
      "outputs": [
        {
          "output_type": "execute_result",
          "data": {
            "text/plain": [
              "Severity                 0\n",
              "Start_Lat                0\n",
              "Start_Lng                0\n",
              "End_Lat                  0\n",
              "End_Lng                  0\n",
              "Distance(mi)             0\n",
              "Number                   0\n",
              "Side                     0\n",
              "County                   0\n",
              "State                    0\n",
              "Timezone                 0\n",
              "Airport_Code             0\n",
              "Temperature(F)           0\n",
              "Wind_Chill(F)            0\n",
              "Humidity(%)              0\n",
              "Pressure(in)             0\n",
              "Visibility(mi)           0\n",
              "Wind_Direction           0\n",
              "Wind_Speed(mph)          0\n",
              "Precipitation(in)        0\n",
              "Weather_Condition        0\n",
              "Amenity                  0\n",
              "Bump                     0\n",
              "Crossing                 0\n",
              "Give_Way                 0\n",
              "Junction                 0\n",
              "No_Exit                  0\n",
              "Railway                  0\n",
              "Roundabout               0\n",
              "Station                  0\n",
              "Stop                     0\n",
              "Traffic_Calming          0\n",
              "Traffic_Signal           0\n",
              "Turning_Loop             0\n",
              "Sunrise_Sunset           0\n",
              "Civil_Twilight           0\n",
              "Nautical_Twilight        0\n",
              "Astronomical_Twilight    0\n",
              "Year                     0\n",
              "Month                    0\n",
              "Weekday                  0\n",
              "Day                      0\n",
              "Hour                     0\n",
              "Minute                   0\n",
              "dtype: int64"
            ]
          },
          "metadata": {},
          "execution_count": 37
        }
      ],
      "source": [
        "df.isna().sum()"
      ]
    },
    {
      "cell_type": "markdown",
      "metadata": {
        "id": "rtg-eV0tkqvX"
      },
      "source": [
        "# Smot"
      ]
    },
    {
      "cell_type": "code",
      "execution_count": 38,
      "metadata": {
        "id": "ufb8Z3Wgktg9"
      },
      "outputs": [],
      "source": [
        "smote = SMOTE(sampling_strategy='minority')\n",
        "\n",
        "\n",
        "X_sm, y_sm = smote.fit_resample(X, y)"
      ]
    },
    {
      "cell_type": "markdown",
      "metadata": {
        "id": "Rl4eTLyEiAPb"
      },
      "source": [
        "# nearMiss"
      ]
    },
    {
      "cell_type": "code",
      "execution_count": null,
      "metadata": {
        "id": "gH-ZCSLpiDzH"
      },
      "outputs": [],
      "source": [
        "from imblearn.under_sampling import NearMiss\n",
        "nr = NearMiss()\n",
        "  \n",
        "X_sm, y_sm = nr.fit_resample(X,y.ravel())"
      ]
    },
    {
      "cell_type": "code",
      "execution_count": null,
      "metadata": {
        "colab": {
          "base_uri": "https://localhost:8080/"
        },
        "id": "azpoSiqBkMOT",
        "outputId": "40b624f7-66c1-49d5-94c8-f339f7056b7f"
      },
      "outputs": [
        {
          "name": "stdout",
          "output_type": "stream",
          "text": [
            "After Undersampling, counts of label '0': 7242\n",
            "After Undersampling, counts of label '1': 7242\n",
            "After Undersampling, counts of label '2': 7242\n",
            "After Undersampling, counts of label '3': 7242\n"
          ]
        }
      ],
      "source": [
        "print(\"After Undersampling, counts of label '0': {}\".format(sum(y_sm == 0)))\n",
        "print(\"After Undersampling, counts of label '1': {}\".format(sum(y_sm == 1)))\n",
        "print(\"After Undersampling, counts of label '2': {}\".format(sum(y_sm == 2)))\n",
        "print(\"After Undersampling, counts of label '3': {}\".format(sum(y_sm == 3)))"
      ]
    },
    {
      "cell_type": "code",
      "execution_count": null,
      "metadata": {
        "colab": {
          "base_uri": "https://localhost:8080/",
          "height": 165
        },
        "id": "0-JPfYctjbjy",
        "outputId": "e0249e5f-56a9-485d-a69a-389ec3147d0a"
      },
      "outputs": [
        {
          "ename": "AttributeError",
          "evalue": "ignored",
          "output_type": "error",
          "traceback": [
            "\u001b[0;31m---------------------------------------------------------------------------\u001b[0m",
            "\u001b[0;31mAttributeError\u001b[0m                            Traceback (most recent call last)",
            "\u001b[0;32m<ipython-input-50-a0654e6a05f2>\u001b[0m in \u001b[0;36m<module>\u001b[0;34m\u001b[0m\n\u001b[0;32m----> 1\u001b[0;31m \u001b[0mprint\u001b[0m\u001b[0;34m(\u001b[0m \u001b[0my_sm\u001b[0m\u001b[0;34m.\u001b[0m\u001b[0mvalue_counts\u001b[0m\u001b[0;34m)\u001b[0m\u001b[0;34m\u001b[0m\u001b[0;34m\u001b[0m\u001b[0m\n\u001b[0m",
            "\u001b[0;31mAttributeError\u001b[0m: 'numpy.ndarray' object has no attribute 'value_counts'"
          ]
        }
      ],
      "source": [
        "print( y_sm.value_counts)"
      ]
    },
    {
      "cell_type": "code",
      "execution_count": null,
      "metadata": {
        "colab": {
          "base_uri": "https://localhost:8080/",
          "height": 234
        },
        "id": "WciI7uTliEPW",
        "outputId": "2a6c5bb8-4d4c-42d8-e7c7-137c5c2e5c39"
      },
      "outputs": [
        {
          "ename": "AttributeError",
          "evalue": "ignored",
          "output_type": "error",
          "traceback": [
            "\u001b[0;31m---------------------------------------------------------------------------\u001b[0m",
            "\u001b[0;31mAttributeError\u001b[0m                            Traceback (most recent call last)",
            "\u001b[0;32m<ipython-input-39-b7cc31d1bcba>\u001b[0m in \u001b[0;36m<module>\u001b[0;34m\u001b[0m\n\u001b[0;32m----> 1\u001b[0;31m \u001b[0mseverity_counts\u001b[0m \u001b[0;34m=\u001b[0m \u001b[0my_sm\u001b[0m\u001b[0;34m.\u001b[0m\u001b[0mvalue_counts\u001b[0m\u001b[0;34m(\u001b[0m\u001b[0;34m)\u001b[0m\u001b[0;34m\u001b[0m\u001b[0;34m\u001b[0m\u001b[0m\n\u001b[0m\u001b[1;32m      2\u001b[0m \u001b[0;34m\u001b[0m\u001b[0m\n\u001b[1;32m      3\u001b[0m \u001b[0mplt\u001b[0m\u001b[0;34m.\u001b[0m\u001b[0mfigure\u001b[0m\u001b[0;34m(\u001b[0m\u001b[0mfigsize\u001b[0m\u001b[0;34m=\u001b[0m\u001b[0;34m(\u001b[0m\u001b[0;36m10\u001b[0m\u001b[0;34m,\u001b[0m \u001b[0;36m8\u001b[0m\u001b[0;34m)\u001b[0m\u001b[0;34m)\u001b[0m\u001b[0;34m\u001b[0m\u001b[0;34m\u001b[0m\u001b[0m\n\u001b[1;32m      4\u001b[0m \u001b[0mplt\u001b[0m\u001b[0;34m.\u001b[0m\u001b[0mtitle\u001b[0m\u001b[0;34m(\u001b[0m\u001b[0;34m\"Histogram for the severity\"\u001b[0m\u001b[0;34m)\u001b[0m\u001b[0;34m\u001b[0m\u001b[0;34m\u001b[0m\u001b[0m\n\u001b[1;32m      5\u001b[0m \u001b[0msns\u001b[0m\u001b[0;34m.\u001b[0m\u001b[0mbarplot\u001b[0m\u001b[0;34m(\u001b[0m\u001b[0mseverity_counts\u001b[0m\u001b[0;34m.\u001b[0m\u001b[0mindex\u001b[0m\u001b[0;34m,\u001b[0m \u001b[0mseverity_counts\u001b[0m\u001b[0;34m.\u001b[0m\u001b[0mvalues\u001b[0m\u001b[0;34m)\u001b[0m\u001b[0;34m\u001b[0m\u001b[0;34m\u001b[0m\u001b[0m\n",
            "\u001b[0;31mAttributeError\u001b[0m: 'numpy.ndarray' object has no attribute 'value_counts'"
          ]
        }
      ],
      "source": [
        "severity_counts = y_sm.value_counts()\n",
        "\n",
        "plt.figure(figsize=(10, 8))\n",
        "plt.title(\"Histogram for the severity\")\n",
        "sns.barplot(severity_counts.index, severity_counts.values)\n",
        "plt.xlabel(\"Severity\")\n",
        "plt.ylabel(\"Value\")\n",
        "plt.show()"
      ]
    },
    {
      "cell_type": "markdown",
      "metadata": {
        "id": "0nuXiXvh8F2i"
      },
      "source": [
        "# Spliting"
      ]
    },
    {
      "cell_type": "code",
      "execution_count": null,
      "metadata": {
        "colab": {
          "base_uri": "https://localhost:8080/",
          "height": 424
        },
        "id": "Es5rLAfEC-BI",
        "outputId": "0e653863-578c-4cbc-ffbe-d59da7ae8c23"
      },
      "outputs": [
        {
          "data": {
            "text/html": [
              "\n",
              "  <div id=\"df-cc3c1daf-c910-4f0d-8136-fb8ee9c46f79\">\n",
              "    <div class=\"colab-df-container\">\n",
              "      <div>\n",
              "<style scoped>\n",
              "    .dataframe tbody tr th:only-of-type {\n",
              "        vertical-align: middle;\n",
              "    }\n",
              "\n",
              "    .dataframe tbody tr th {\n",
              "        vertical-align: top;\n",
              "    }\n",
              "\n",
              "    .dataframe thead th {\n",
              "        text-align: right;\n",
              "    }\n",
              "</style>\n",
              "<table border=\"1\" class=\"dataframe\">\n",
              "  <thead>\n",
              "    <tr style=\"text-align: right;\">\n",
              "      <th></th>\n",
              "      <th>Severity</th>\n",
              "      <th>Start_Lat</th>\n",
              "      <th>Start_Lng</th>\n",
              "      <th>End_Lat</th>\n",
              "      <th>End_Lng</th>\n",
              "      <th>Distance(mi)</th>\n",
              "      <th>Number</th>\n",
              "      <th>Side</th>\n",
              "      <th>County</th>\n",
              "      <th>State</th>\n",
              "      <th>...</th>\n",
              "      <th>Sunrise_Sunset</th>\n",
              "      <th>Civil_Twilight</th>\n",
              "      <th>Nautical_Twilight</th>\n",
              "      <th>Astronomical_Twilight</th>\n",
              "      <th>Year</th>\n",
              "      <th>Month</th>\n",
              "      <th>Weekday</th>\n",
              "      <th>Day</th>\n",
              "      <th>Hour</th>\n",
              "      <th>Minute</th>\n",
              "    </tr>\n",
              "  </thead>\n",
              "  <tbody>\n",
              "    <tr>\n",
              "      <th>0</th>\n",
              "      <td>2</td>\n",
              "      <td>38.826530</td>\n",
              "      <td>-120.030110</td>\n",
              "      <td>38.832616</td>\n",
              "      <td>-120.035640</td>\n",
              "      <td>0.515</td>\n",
              "      <td>21111.0</td>\n",
              "      <td>0</td>\n",
              "      <td>405</td>\n",
              "      <td>3</td>\n",
              "      <td>...</td>\n",
              "      <td>0</td>\n",
              "      <td>0</td>\n",
              "      <td>0</td>\n",
              "      <td>0</td>\n",
              "      <td>2016</td>\n",
              "      <td>4</td>\n",
              "      <td>6</td>\n",
              "      <td>24</td>\n",
              "      <td>15</td>\n",
              "      <td>55</td>\n",
              "    </tr>\n",
              "    <tr>\n",
              "      <th>1</th>\n",
              "      <td>4</td>\n",
              "      <td>35.691160</td>\n",
              "      <td>-121.289500</td>\n",
              "      <td>35.695743</td>\n",
              "      <td>-121.293199</td>\n",
              "      <td>0.379</td>\n",
              "      <td>16463.0</td>\n",
              "      <td>0</td>\n",
              "      <td>1120</td>\n",
              "      <td>3</td>\n",
              "      <td>...</td>\n",
              "      <td>0</td>\n",
              "      <td>0</td>\n",
              "      <td>0</td>\n",
              "      <td>0</td>\n",
              "      <td>2016</td>\n",
              "      <td>5</td>\n",
              "      <td>2</td>\n",
              "      <td>25</td>\n",
              "      <td>16</td>\n",
              "      <td>16</td>\n",
              "    </tr>\n",
              "    <tr>\n",
              "      <th>2</th>\n",
              "      <td>2</td>\n",
              "      <td>34.583175</td>\n",
              "      <td>-118.343213</td>\n",
              "      <td>34.583166</td>\n",
              "      <td>-118.343323</td>\n",
              "      <td>0.006</td>\n",
              "      <td>36867.0</td>\n",
              "      <td>0</td>\n",
              "      <td>738</td>\n",
              "      <td>3</td>\n",
              "      <td>...</td>\n",
              "      <td>1</td>\n",
              "      <td>1</td>\n",
              "      <td>1</td>\n",
              "      <td>0</td>\n",
              "      <td>2016</td>\n",
              "      <td>3</td>\n",
              "      <td>1</td>\n",
              "      <td>29</td>\n",
              "      <td>20</td>\n",
              "      <td>36</td>\n",
              "    </tr>\n",
              "    <tr>\n",
              "      <th>3</th>\n",
              "      <td>2</td>\n",
              "      <td>34.583166</td>\n",
              "      <td>-118.343323</td>\n",
              "      <td>34.583294</td>\n",
              "      <td>-118.341778</td>\n",
              "      <td>0.088</td>\n",
              "      <td>36865.0</td>\n",
              "      <td>0</td>\n",
              "      <td>738</td>\n",
              "      <td>3</td>\n",
              "      <td>...</td>\n",
              "      <td>1</td>\n",
              "      <td>1</td>\n",
              "      <td>1</td>\n",
              "      <td>0</td>\n",
              "      <td>2016</td>\n",
              "      <td>3</td>\n",
              "      <td>1</td>\n",
              "      <td>29</td>\n",
              "      <td>20</td>\n",
              "      <td>36</td>\n",
              "    </tr>\n",
              "    <tr>\n",
              "      <th>4</th>\n",
              "      <td>2</td>\n",
              "      <td>33.880116</td>\n",
              "      <td>-116.991175</td>\n",
              "      <td>33.883945</td>\n",
              "      <td>-116.990732</td>\n",
              "      <td>0.266</td>\n",
              "      <td>16301.0</td>\n",
              "      <td>0</td>\n",
              "      <td>1074</td>\n",
              "      <td>3</td>\n",
              "      <td>...</td>\n",
              "      <td>0</td>\n",
              "      <td>0</td>\n",
              "      <td>0</td>\n",
              "      <td>0</td>\n",
              "      <td>2016</td>\n",
              "      <td>4</td>\n",
              "      <td>4</td>\n",
              "      <td>1</td>\n",
              "      <td>10</td>\n",
              "      <td>8</td>\n",
              "    </tr>\n",
              "    <tr>\n",
              "      <th>...</th>\n",
              "      <td>...</td>\n",
              "      <td>...</td>\n",
              "      <td>...</td>\n",
              "      <td>...</td>\n",
              "      <td>...</td>\n",
              "      <td>...</td>\n",
              "      <td>...</td>\n",
              "      <td>...</td>\n",
              "      <td>...</td>\n",
              "      <td>...</td>\n",
              "      <td>...</td>\n",
              "      <td>...</td>\n",
              "      <td>...</td>\n",
              "      <td>...</td>\n",
              "      <td>...</td>\n",
              "      <td>...</td>\n",
              "      <td>...</td>\n",
              "      <td>...</td>\n",
              "      <td>...</td>\n",
              "      <td>...</td>\n",
              "      <td>...</td>\n",
              "    </tr>\n",
              "    <tr>\n",
              "      <th>623216</th>\n",
              "      <td>2</td>\n",
              "      <td>46.131980</td>\n",
              "      <td>-123.376140</td>\n",
              "      <td>46.131332</td>\n",
              "      <td>-123.375192</td>\n",
              "      <td>0.064</td>\n",
              "      <td>91198.0</td>\n",
              "      <td>0</td>\n",
              "      <td>288</td>\n",
              "      <td>35</td>\n",
              "      <td>...</td>\n",
              "      <td>0</td>\n",
              "      <td>0</td>\n",
              "      <td>0</td>\n",
              "      <td>0</td>\n",
              "      <td>2019</td>\n",
              "      <td>8</td>\n",
              "      <td>4</td>\n",
              "      <td>23</td>\n",
              "      <td>18</td>\n",
              "      <td>12</td>\n",
              "    </tr>\n",
              "    <tr>\n",
              "      <th>623217</th>\n",
              "      <td>2</td>\n",
              "      <td>44.555972</td>\n",
              "      <td>-123.412453</td>\n",
              "      <td>44.555765</td>\n",
              "      <td>-123.412156</td>\n",
              "      <td>0.020</td>\n",
              "      <td>24188.0</td>\n",
              "      <td>0</td>\n",
              "      <td>99</td>\n",
              "      <td>35</td>\n",
              "      <td>...</td>\n",
              "      <td>0</td>\n",
              "      <td>0</td>\n",
              "      <td>0</td>\n",
              "      <td>0</td>\n",
              "      <td>2019</td>\n",
              "      <td>8</td>\n",
              "      <td>4</td>\n",
              "      <td>23</td>\n",
              "      <td>18</td>\n",
              "      <td>45</td>\n",
              "    </tr>\n",
              "    <tr>\n",
              "      <th>623218</th>\n",
              "      <td>2</td>\n",
              "      <td>37.573253</td>\n",
              "      <td>-122.340625</td>\n",
              "      <td>37.573813</td>\n",
              "      <td>-122.341380</td>\n",
              "      <td>0.057</td>\n",
              "      <td>2.0</td>\n",
              "      <td>1</td>\n",
              "      <td>1121</td>\n",
              "      <td>3</td>\n",
              "      <td>...</td>\n",
              "      <td>0</td>\n",
              "      <td>0</td>\n",
              "      <td>0</td>\n",
              "      <td>0</td>\n",
              "      <td>2019</td>\n",
              "      <td>8</td>\n",
              "      <td>4</td>\n",
              "      <td>23</td>\n",
              "      <td>14</td>\n",
              "      <td>44</td>\n",
              "    </tr>\n",
              "    <tr>\n",
              "      <th>623219</th>\n",
              "      <td>3</td>\n",
              "      <td>37.609816</td>\n",
              "      <td>-122.493720</td>\n",
              "      <td>37.608821</td>\n",
              "      <td>-122.495261</td>\n",
              "      <td>0.109</td>\n",
              "      <td>895.0</td>\n",
              "      <td>1</td>\n",
              "      <td>1121</td>\n",
              "      <td>3</td>\n",
              "      <td>...</td>\n",
              "      <td>0</td>\n",
              "      <td>0</td>\n",
              "      <td>0</td>\n",
              "      <td>0</td>\n",
              "      <td>2019</td>\n",
              "      <td>8</td>\n",
              "      <td>4</td>\n",
              "      <td>23</td>\n",
              "      <td>16</td>\n",
              "      <td>19</td>\n",
              "    </tr>\n",
              "    <tr>\n",
              "      <th>623220</th>\n",
              "      <td>3</td>\n",
              "      <td>34.121320</td>\n",
              "      <td>-117.254540</td>\n",
              "      <td>34.121320</td>\n",
              "      <td>-117.254540</td>\n",
              "      <td>0.000</td>\n",
              "      <td>1498.0</td>\n",
              "      <td>0</td>\n",
              "      <td>1115</td>\n",
              "      <td>3</td>\n",
              "      <td>...</td>\n",
              "      <td>1</td>\n",
              "      <td>1</td>\n",
              "      <td>1</td>\n",
              "      <td>1</td>\n",
              "      <td>2019</td>\n",
              "      <td>8</td>\n",
              "      <td>4</td>\n",
              "      <td>23</td>\n",
              "      <td>1</td>\n",
              "      <td>16</td>\n",
              "    </tr>\n",
              "  </tbody>\n",
              "</table>\n",
              "<p>623221 rows × 44 columns</p>\n",
              "</div>\n",
              "      <button class=\"colab-df-convert\" onclick=\"convertToInteractive('df-cc3c1daf-c910-4f0d-8136-fb8ee9c46f79')\"\n",
              "              title=\"Convert this dataframe to an interactive table.\"\n",
              "              style=\"display:none;\">\n",
              "        \n",
              "  <svg xmlns=\"http://www.w3.org/2000/svg\" height=\"24px\"viewBox=\"0 0 24 24\"\n",
              "       width=\"24px\">\n",
              "    <path d=\"M0 0h24v24H0V0z\" fill=\"none\"/>\n",
              "    <path d=\"M18.56 5.44l.94 2.06.94-2.06 2.06-.94-2.06-.94-.94-2.06-.94 2.06-2.06.94zm-11 1L8.5 8.5l.94-2.06 2.06-.94-2.06-.94L8.5 2.5l-.94 2.06-2.06.94zm10 10l.94 2.06.94-2.06 2.06-.94-2.06-.94-.94-2.06-.94 2.06-2.06.94z\"/><path d=\"M17.41 7.96l-1.37-1.37c-.4-.4-.92-.59-1.43-.59-.52 0-1.04.2-1.43.59L10.3 9.45l-7.72 7.72c-.78.78-.78 2.05 0 2.83L4 21.41c.39.39.9.59 1.41.59.51 0 1.02-.2 1.41-.59l7.78-7.78 2.81-2.81c.8-.78.8-2.07 0-2.86zM5.41 20L4 18.59l7.72-7.72 1.47 1.35L5.41 20z\"/>\n",
              "  </svg>\n",
              "      </button>\n",
              "      \n",
              "  <style>\n",
              "    .colab-df-container {\n",
              "      display:flex;\n",
              "      flex-wrap:wrap;\n",
              "      gap: 12px;\n",
              "    }\n",
              "\n",
              "    .colab-df-convert {\n",
              "      background-color: #E8F0FE;\n",
              "      border: none;\n",
              "      border-radius: 50%;\n",
              "      cursor: pointer;\n",
              "      display: none;\n",
              "      fill: #1967D2;\n",
              "      height: 32px;\n",
              "      padding: 0 0 0 0;\n",
              "      width: 32px;\n",
              "    }\n",
              "\n",
              "    .colab-df-convert:hover {\n",
              "      background-color: #E2EBFA;\n",
              "      box-shadow: 0px 1px 2px rgba(60, 64, 67, 0.3), 0px 1px 3px 1px rgba(60, 64, 67, 0.15);\n",
              "      fill: #174EA6;\n",
              "    }\n",
              "\n",
              "    [theme=dark] .colab-df-convert {\n",
              "      background-color: #3B4455;\n",
              "      fill: #D2E3FC;\n",
              "    }\n",
              "\n",
              "    [theme=dark] .colab-df-convert:hover {\n",
              "      background-color: #434B5C;\n",
              "      box-shadow: 0px 1px 3px 1px rgba(0, 0, 0, 0.15);\n",
              "      filter: drop-shadow(0px 1px 2px rgba(0, 0, 0, 0.3));\n",
              "      fill: #FFFFFF;\n",
              "    }\n",
              "  </style>\n",
              "\n",
              "      <script>\n",
              "        const buttonEl =\n",
              "          document.querySelector('#df-cc3c1daf-c910-4f0d-8136-fb8ee9c46f79 button.colab-df-convert');\n",
              "        buttonEl.style.display =\n",
              "          google.colab.kernel.accessAllowed ? 'block' : 'none';\n",
              "\n",
              "        async function convertToInteractive(key) {\n",
              "          const element = document.querySelector('#df-cc3c1daf-c910-4f0d-8136-fb8ee9c46f79');\n",
              "          const dataTable =\n",
              "            await google.colab.kernel.invokeFunction('convertToInteractive',\n",
              "                                                     [key], {});\n",
              "          if (!dataTable) return;\n",
              "\n",
              "          const docLinkHtml = 'Like what you see? Visit the ' +\n",
              "            '<a target=\"_blank\" href=https://colab.research.google.com/notebooks/data_table.ipynb>data table notebook</a>'\n",
              "            + ' to learn more about interactive tables.';\n",
              "          element.innerHTML = '';\n",
              "          dataTable['output_type'] = 'display_data';\n",
              "          await google.colab.output.renderOutput(dataTable, element);\n",
              "          const docLink = document.createElement('div');\n",
              "          docLink.innerHTML = docLinkHtml;\n",
              "          element.appendChild(docLink);\n",
              "        }\n",
              "      </script>\n",
              "    </div>\n",
              "  </div>\n",
              "  "
            ],
            "text/plain": [
              "        Severity  Start_Lat   Start_Lng    End_Lat     End_Lng  Distance(mi)  \\\n",
              "0              2  38.826530 -120.030110  38.832616 -120.035640         0.515   \n",
              "1              4  35.691160 -121.289500  35.695743 -121.293199         0.379   \n",
              "2              2  34.583175 -118.343213  34.583166 -118.343323         0.006   \n",
              "3              2  34.583166 -118.343323  34.583294 -118.341778         0.088   \n",
              "4              2  33.880116 -116.991175  33.883945 -116.990732         0.266   \n",
              "...          ...        ...         ...        ...         ...           ...   \n",
              "623216         2  46.131980 -123.376140  46.131332 -123.375192         0.064   \n",
              "623217         2  44.555972 -123.412453  44.555765 -123.412156         0.020   \n",
              "623218         2  37.573253 -122.340625  37.573813 -122.341380         0.057   \n",
              "623219         3  37.609816 -122.493720  37.608821 -122.495261         0.109   \n",
              "623220         3  34.121320 -117.254540  34.121320 -117.254540         0.000   \n",
              "\n",
              "         Number  Side  County  State  ...  Sunrise_Sunset  Civil_Twilight  \\\n",
              "0       21111.0     0     405      3  ...               0               0   \n",
              "1       16463.0     0    1120      3  ...               0               0   \n",
              "2       36867.0     0     738      3  ...               1               1   \n",
              "3       36865.0     0     738      3  ...               1               1   \n",
              "4       16301.0     0    1074      3  ...               0               0   \n",
              "...         ...   ...     ...    ...  ...             ...             ...   \n",
              "623216  91198.0     0     288     35  ...               0               0   \n",
              "623217  24188.0     0      99     35  ...               0               0   \n",
              "623218      2.0     1    1121      3  ...               0               0   \n",
              "623219    895.0     1    1121      3  ...               0               0   \n",
              "623220   1498.0     0    1115      3  ...               1               1   \n",
              "\n",
              "        Nautical_Twilight  Astronomical_Twilight  Year  Month  Weekday  Day  \\\n",
              "0                       0                      0  2016      4        6   24   \n",
              "1                       0                      0  2016      5        2   25   \n",
              "2                       1                      0  2016      3        1   29   \n",
              "3                       1                      0  2016      3        1   29   \n",
              "4                       0                      0  2016      4        4    1   \n",
              "...                   ...                    ...   ...    ...      ...  ...   \n",
              "623216                  0                      0  2019      8        4   23   \n",
              "623217                  0                      0  2019      8        4   23   \n",
              "623218                  0                      0  2019      8        4   23   \n",
              "623219                  0                      0  2019      8        4   23   \n",
              "623220                  1                      1  2019      8        4   23   \n",
              "\n",
              "        Hour  Minute  \n",
              "0         15      55  \n",
              "1         16      16  \n",
              "2         20      36  \n",
              "3         20      36  \n",
              "4         10       8  \n",
              "...      ...     ...  \n",
              "623216    18      12  \n",
              "623217    18      45  \n",
              "623218    14      44  \n",
              "623219    16      19  \n",
              "623220     1      16  \n",
              "\n",
              "[623221 rows x 44 columns]"
            ]
          },
          "execution_count": 32,
          "metadata": {},
          "output_type": "execute_result"
        }
      ],
      "source": [
        "df"
      ]
    },
    {
      "cell_type": "code",
      "execution_count": 39,
      "metadata": {
        "id": "nm-GjkJIG_ZL"
      },
      "outputs": [],
      "source": [
        "X_sm_samples, y_sm_samples =  make_classification(n_samples=100000, n_features=44,\n",
        "                                        n_informative=4, n_redundant=0,random_state=0,n_classes=4 ,shuffle=True)"
      ]
    },
    {
      "cell_type": "code",
      "execution_count": 40,
      "metadata": {
        "id": "fE67m9lNnT9J"
      },
      "outputs": [],
      "source": [
        "X_train, X_test, y_train, y_test = train_test_split(X_sm_samples, y_sm_samples, test_size=0.2, stratify=y_sm_samples, random_state=100)"
      ]
    },
    {
      "cell_type": "code",
      "execution_count": null,
      "metadata": {
        "id": "LKcij1FoRDPr"
      },
      "outputs": [],
      "source": [
        "X_train, X_test, y_train, y_test = train_test_split(X_sm, y_sm, test_size=0.1, stratify=y_sm)"
      ]
    },
    {
      "cell_type": "code",
      "execution_count": null,
      "metadata": {
        "id": "_eGgpq7erbGh"
      },
      "outputs": [],
      "source": [
        "\n",
        "_, X, _, y = train_test_split(\\\n",
        "  X_sm_samples, y_sm_samples, test_size=0.01, random_state=42)\n",
        "\n",
        "X_train, X_test, y_train, y_test = train_test_split(\\\n",
        "  X_sm_samples, y_sm_samples, test_size=0.30, random_state=42)"
      ]
    },
    {
      "cell_type": "code",
      "execution_count": null,
      "metadata": {
        "id": "R-mUUpZnto-E"
      },
      "outputs": [],
      "source": [
        "X_train, X_test, y_train, y_test = train_test_split(X, y, test_size=0.2, stratify=y, random_state=100)"
      ]
    },
    {
      "cell_type": "code",
      "execution_count": null,
      "metadata": {
        "colab": {
          "base_uri": "https://localhost:8080/"
        },
        "id": "QseBQXEjsPjU",
        "outputId": "9e8be2ea-5f2d-4744-c9f0-7a0d2a533476"
      },
      "outputs": [
        {
          "data": {
            "text/plain": [
              "(80000, 44)"
            ]
          },
          "execution_count": 39,
          "metadata": {},
          "output_type": "execute_result"
        }
      ],
      "source": [
        "X_train.shape"
      ]
    },
    {
      "cell_type": "markdown",
      "metadata": {
        "id": "l3QMPj_OflCY"
      },
      "source": [
        "# RNN"
      ]
    },
    {
      "cell_type": "markdown",
      "metadata": {
        "id": "W3L0CNoYWyMC"
      },
      "source": [
        "# New Section"
      ]
    },
    {
      "cell_type": "code",
      "execution_count": null,
      "metadata": {
        "id": "59pT1h7HlQaZ"
      },
      "outputs": [],
      "source": [
        "X_train =X_train.reshape(X_train.shape[0],X_train.shape[1],1)\n",
        "X_test = X_test.reshape(X_test.shape[0],X_test.shape[1],1)"
      ]
    },
    {
      "cell_type": "code",
      "execution_count": null,
      "metadata": {
        "colab": {
          "base_uri": "https://localhost:8080/"
        },
        "id": "O0TZEYT8aRcP",
        "outputId": "a9b6766e-ac1a-4a01-cc78-4b5f14d007c4"
      },
      "outputs": [
        {
          "name": "stdout",
          "output_type": "stream",
          "text": [
            "(80000, 44, 1) (80000,) (20000, 44, 1) (20000,)\n"
          ]
        }
      ],
      "source": [
        "print(X_train.shape,y_train.shape, X_test.shape, y_test.shape)"
      ]
    },
    {
      "cell_type": "code",
      "execution_count": null,
      "metadata": {
        "id": "AoM4M5BV-z99"
      },
      "outputs": [],
      "source": [
        "# Build the LSTM model\n",
        "model = Sequential()\n",
        "model.add(LSTM(128, return_sequences=True, input_shape= (X_train.shape[1],1)))\n",
        "model.add(LSTM(64, return_sequences=False))\n",
        "model.add(Dense(25))\n",
        "model.add(Dense(1))\n",
        "\n",
        "# Compile the model\n",
        "model.compile(optimizer='adam', loss='mean_squared_error', metrics=['accuracy'])\n",
        "\n",
        "# Train the model\n",
        "model.fit(X_train, y_train, batch_size=128, epochs=10)"
      ]
    },
    {
      "cell_type": "code",
      "execution_count": null,
      "metadata": {
        "colab": {
          "base_uri": "https://localhost:8080/"
        },
        "id": "A7TnsWTEx8Ap",
        "outputId": "ad5657d8-4a28-4f69-924b-2d259e3cc549"
      },
      "outputs": [
        {
          "name": "stdout",
          "output_type": "stream",
          "text": [
            "Epoch 1/10\n",
            "14833/14833 [==============================] - 3006s 202ms/step - loss: 0.4901 - accuracy: 0.4245\n",
            "Epoch 2/10\n",
            "14833/14833 [==============================] - 3011s 203ms/step - loss: 0.2878 - accuracy: 0.4660\n",
            "Epoch 3/10\n",
            "14833/14833 [==============================] - 3025s 204ms/step - loss: 0.2161 - accuracy: 0.4777\n",
            "Epoch 4/10\n",
            "14833/14833 [==============================] - 3031s 204ms/step - loss: 0.1775 - accuracy: 0.4834\n",
            "Epoch 5/10\n",
            "14833/14833 [==============================] - 3048s 206ms/step - loss: 0.1525 - accuracy: 0.4867\n",
            "Epoch 6/10\n",
            "14833/14833 [==============================] - 3043s 205ms/step - loss: 0.1354 - accuracy: 0.4887\n",
            "Epoch 7/10\n",
            "14833/14833 [==============================] - 3061s 206ms/step - loss: 0.1232 - accuracy: 0.4899\n",
            "Epoch 8/10\n",
            "12958/14833 [=========================>....] - ETA: 6:26 - loss: 0.1139 - accuracy: 0.4909"
          ]
        }
      ],
      "source": [
        "# Build the LSTM model\n",
        "model = Sequential()\n",
        "model.add(LSTM(128, return_sequences=True, input_shape= (X_train.shape[1],1)))\n",
        "model.add(LSTM(64, return_sequences=False))\n",
        "model.add(Dense(25))\n",
        "model.add(Dense(1))\n",
        "\n",
        "# Compile the model\n",
        "model.compile(optimizer='adam', loss='mean_squared_error', metrics=['accuracy'])\n",
        "\n",
        "# Train the model\n",
        "model.fit(X_train, y_train, batch_size=128, epochs=10)\n"
      ]
    },
    {
      "cell_type": "code",
      "execution_count": null,
      "metadata": {
        "colab": {
          "base_uri": "https://localhost:8080/"
        },
        "id": "2_MO8iVsdnYI",
        "outputId": "0ac4f6e9-0781-46e1-c3bc-9842801c7918"
      },
      "outputs": [
        {
          "name": "stdout",
          "output_type": "stream",
          "text": [
            "Epoch 1/50\n",
            "625/625 [==============================] - 13s 10ms/step - loss: 1.0721 - accuracy: 0.3039\n",
            "Epoch 2/50\n",
            "625/625 [==============================] - 7s 11ms/step - loss: 0.7274 - accuracy: 0.3476\n",
            "Epoch 3/50\n",
            "625/625 [==============================] - 6s 10ms/step - loss: 0.6506 - accuracy: 0.3635\n",
            "Epoch 4/50\n",
            "625/625 [==============================] - 6s 10ms/step - loss: 0.5956 - accuracy: 0.3757\n",
            "Epoch 5/50\n",
            "625/625 [==============================] - 7s 10ms/step - loss: 0.5198 - accuracy: 0.3995\n",
            "Epoch 6/50\n",
            "625/625 [==============================] - 8s 13ms/step - loss: 0.4707 - accuracy: 0.4134\n",
            "Epoch 7/50\n",
            "625/625 [==============================] - 6s 10ms/step - loss: 0.4360 - accuracy: 0.4229\n",
            "Epoch 8/50\n",
            "625/625 [==============================] - 6s 10ms/step - loss: 0.4103 - accuracy: 0.4285\n",
            "Epoch 9/50\n",
            "625/625 [==============================] - 6s 10ms/step - loss: 0.3893 - accuracy: 0.4340\n",
            "Epoch 10/50\n",
            "625/625 [==============================] - 6s 10ms/step - loss: 0.3781 - accuracy: 0.4375\n",
            "Epoch 11/50\n",
            "625/625 [==============================] - 6s 10ms/step - loss: 0.3652 - accuracy: 0.4403\n",
            "Epoch 12/50\n",
            "625/625 [==============================] - 6s 10ms/step - loss: 0.3510 - accuracy: 0.4426\n",
            "Epoch 13/50\n",
            "625/625 [==============================] - 6s 10ms/step - loss: 0.3429 - accuracy: 0.4446\n",
            "Epoch 14/50\n",
            "625/625 [==============================] - 6s 10ms/step - loss: 0.3390 - accuracy: 0.4456\n",
            "Epoch 15/50\n",
            "625/625 [==============================] - 6s 10ms/step - loss: 0.3294 - accuracy: 0.4486\n",
            "Epoch 16/50\n",
            "625/625 [==============================] - 6s 10ms/step - loss: 0.3219 - accuracy: 0.4513\n",
            "Epoch 17/50\n",
            "625/625 [==============================] - 6s 10ms/step - loss: 0.3128 - accuracy: 0.4529\n",
            "Epoch 18/50\n",
            "625/625 [==============================] - 6s 10ms/step - loss: 0.3075 - accuracy: 0.4530\n",
            "Epoch 19/50\n",
            "625/625 [==============================] - 6s 10ms/step - loss: 0.3037 - accuracy: 0.4533\n",
            "Epoch 20/50\n",
            "625/625 [==============================] - 6s 10ms/step - loss: 0.2983 - accuracy: 0.4548\n",
            "Epoch 21/50\n",
            "625/625 [==============================] - 6s 10ms/step - loss: 0.2920 - accuracy: 0.4560\n",
            "Epoch 22/50\n",
            "625/625 [==============================] - 7s 10ms/step - loss: 0.2899 - accuracy: 0.4557\n",
            "Epoch 23/50\n",
            "625/625 [==============================] - 6s 10ms/step - loss: 0.2865 - accuracy: 0.4563\n",
            "Epoch 24/50\n",
            "625/625 [==============================] - 6s 10ms/step - loss: 0.2843 - accuracy: 0.4573\n",
            "Epoch 25/50\n",
            "625/625 [==============================] - 6s 10ms/step - loss: 0.2811 - accuracy: 0.4575\n",
            "Epoch 26/50\n",
            "625/625 [==============================] - 6s 10ms/step - loss: 0.2760 - accuracy: 0.4571\n",
            "Epoch 27/50\n",
            "625/625 [==============================] - 6s 10ms/step - loss: 0.2741 - accuracy: 0.4582\n",
            "Epoch 28/50\n",
            "625/625 [==============================] - 6s 10ms/step - loss: 0.2724 - accuracy: 0.4587\n",
            "Epoch 29/50\n",
            "625/625 [==============================] - 6s 10ms/step - loss: 0.2700 - accuracy: 0.4591\n",
            "Epoch 30/50\n",
            "625/625 [==============================] - 6s 10ms/step - loss: 0.2676 - accuracy: 0.4601\n",
            "Epoch 31/50\n",
            "625/625 [==============================] - 6s 10ms/step - loss: 0.2657 - accuracy: 0.4595\n",
            "Epoch 32/50\n",
            "625/625 [==============================] - 6s 10ms/step - loss: 0.2627 - accuracy: 0.4601\n",
            "Epoch 33/50\n",
            "625/625 [==============================] - 6s 10ms/step - loss: 0.2642 - accuracy: 0.4605\n",
            "Epoch 34/50\n",
            "625/625 [==============================] - 6s 10ms/step - loss: 0.2582 - accuracy: 0.4610\n",
            "Epoch 35/50\n",
            "625/625 [==============================] - 6s 10ms/step - loss: 0.2597 - accuracy: 0.4610\n",
            "Epoch 36/50\n",
            "625/625 [==============================] - 6s 10ms/step - loss: 0.2563 - accuracy: 0.4616\n",
            "Epoch 37/50\n",
            "625/625 [==============================] - 6s 10ms/step - loss: 0.2536 - accuracy: 0.4612\n",
            "Epoch 38/50\n",
            "625/625 [==============================] - 6s 10ms/step - loss: 0.2541 - accuracy: 0.4614\n",
            "Epoch 39/50\n",
            "625/625 [==============================] - 6s 10ms/step - loss: 0.2523 - accuracy: 0.4618\n",
            "Epoch 40/50\n",
            "625/625 [==============================] - 6s 10ms/step - loss: 0.2528 - accuracy: 0.4616\n",
            "Epoch 41/50\n",
            "625/625 [==============================] - 7s 10ms/step - loss: 0.2499 - accuracy: 0.4620\n",
            "Epoch 42/50\n",
            "625/625 [==============================] - 6s 10ms/step - loss: 0.2474 - accuracy: 0.4629\n",
            "Epoch 43/50\n",
            "625/625 [==============================] - 6s 10ms/step - loss: 0.2449 - accuracy: 0.4624\n",
            "Epoch 44/50\n",
            "625/625 [==============================] - 7s 10ms/step - loss: 0.2455 - accuracy: 0.4630\n",
            "Epoch 45/50\n",
            "625/625 [==============================] - 6s 10ms/step - loss: 0.2460 - accuracy: 0.4629\n",
            "Epoch 46/50\n",
            "625/625 [==============================] - 7s 10ms/step - loss: 0.2442 - accuracy: 0.4633\n",
            "Epoch 47/50\n",
            "625/625 [==============================] - 7s 11ms/step - loss: 0.2414 - accuracy: 0.4632\n",
            "Epoch 48/50\n",
            "625/625 [==============================] - 8s 13ms/step - loss: 0.2403 - accuracy: 0.4632\n",
            "Epoch 49/50\n",
            "625/625 [==============================] - 6s 10ms/step - loss: 0.2425 - accuracy: 0.4632\n",
            "Epoch 50/50\n",
            "625/625 [==============================] - 7s 10ms/step - loss: 0.2372 - accuracy: 0.4633\n"
          ]
        },
        {
          "data": {
            "text/plain": [
              "<keras.callbacks.History at 0x7fe42ea03790>"
            ]
          },
          "execution_count": 58,
          "metadata": {},
          "output_type": "execute_result"
        }
      ],
      "source": [
        "# The LSTM architecture\n",
        "regressor = Sequential()\n",
        "# First LSTM layer with Dropout regularisation\n",
        "regressor.add(LSTM(64, return_sequences=True, input_shape=(1,X_train.shape[2])))\n",
        "regressor.add(Dropout(0.2))\n",
        "# Second LSTM layer\n",
        "regressor.add(LSTM(units=50, return_sequences=True))\n",
        "regressor.add(Dropout(0.2))\n",
        "# Third LSTM layer\n",
        "regressor.add(LSTM(units=50, return_sequences=True))\n",
        "regressor.add(Dropout(0.2))\n",
        "# Fourth LSTM layer\n",
        "regressor.add(LSTM(units=50))\n",
        "regressor.add(Dropout(0.2))\n",
        "# The output layer\n",
        "regressor.add(Dense(units=1))\n",
        "\n",
        "# Compiling the RNN\n",
        "regressor.compile(optimizer='adam',loss='mean_squared_error', metrics=['accuracy'])\n",
        "# Fitting to the training set\n",
        "regressor.fit(X_train,y_train,epochs=50,batch_size=128)"
      ]
    },
    {
      "cell_type": "code",
      "execution_count": null,
      "metadata": {
        "id": "gL8woExdgOFr"
      },
      "outputs": [],
      "source": []
    },
    {
      "cell_type": "code",
      "execution_count": null,
      "metadata": {
        "colab": {
          "base_uri": "https://localhost:8080/"
        },
        "id": "ijKYcdHEFG-1",
        "outputId": "74ec317d-9196-4451-f73a-6fabfd4fd9d8"
      },
      "outputs": [
        {
          "name": "stdout",
          "output_type": "stream",
          "text": [
            "Epoch 1/50\n",
            "625/625 [==============================] - 61s 91ms/step - loss: 1.2419 - accuracy: 0.2508\n",
            "Epoch 2/50\n",
            "625/625 [==============================] - 60s 97ms/step - loss: 1.1667 - accuracy: 0.2531\n",
            "Epoch 3/50\n",
            "625/625 [==============================] - 60s 96ms/step - loss: 1.1289 - accuracy: 0.2584\n",
            "Epoch 4/50\n",
            "625/625 [==============================] - 61s 97ms/step - loss: 1.1035 - accuracy: 0.2648\n",
            "Epoch 5/50\n",
            "625/625 [==============================] - 59s 94ms/step - loss: 1.0895 - accuracy: 0.2698\n",
            "Epoch 6/50\n",
            "625/625 [==============================] - 59s 95ms/step - loss: 1.0666 - accuracy: 0.2760\n",
            "Epoch 7/50\n",
            "625/625 [==============================] - 59s 94ms/step - loss: 1.0373 - accuracy: 0.2817\n",
            "Epoch 8/50\n",
            "625/625 [==============================] - 61s 97ms/step - loss: 1.0037 - accuracy: 0.2873\n",
            "Epoch 9/50\n",
            "625/625 [==============================] - 59s 95ms/step - loss: 0.9680 - accuracy: 0.2946\n",
            "Epoch 10/50\n",
            "625/625 [==============================] - 59s 95ms/step - loss: 0.9339 - accuracy: 0.3012\n",
            "Epoch 11/50\n",
            "625/625 [==============================] - 59s 95ms/step - loss: 0.8758 - accuracy: 0.3124\n",
            "Epoch 12/50\n",
            "625/625 [==============================] - 63s 100ms/step - loss: 0.7918 - accuracy: 0.3298\n",
            "Epoch 13/50\n",
            "625/625 [==============================] - 59s 94ms/step - loss: 0.7223 - accuracy: 0.3465\n",
            "Epoch 14/50\n",
            "625/625 [==============================] - 59s 95ms/step - loss: 0.6792 - accuracy: 0.3556\n",
            "Epoch 15/50\n",
            "625/625 [==============================] - 59s 95ms/step - loss: 0.6353 - accuracy: 0.3679\n",
            "Epoch 16/50\n",
            "625/625 [==============================] - 62s 99ms/step - loss: 0.5925 - accuracy: 0.3791\n",
            "Epoch 17/50\n",
            "625/625 [==============================] - 60s 95ms/step - loss: 0.5576 - accuracy: 0.3896\n",
            "Epoch 18/50\n",
            "625/625 [==============================] - 60s 95ms/step - loss: 0.5222 - accuracy: 0.4019\n",
            "Epoch 19/50\n",
            "625/625 [==============================] - 60s 96ms/step - loss: 0.4885 - accuracy: 0.4124\n",
            "Epoch 20/50\n",
            "625/625 [==============================] - 62s 99ms/step - loss: 0.4646 - accuracy: 0.4181\n",
            "Epoch 21/50\n",
            "625/625 [==============================] - 60s 95ms/step - loss: 0.4445 - accuracy: 0.4226\n",
            "Epoch 22/50\n",
            "625/625 [==============================] - 61s 98ms/step - loss: 0.4336 - accuracy: 0.4260\n",
            "Epoch 23/50\n",
            "625/625 [==============================] - 61s 97ms/step - loss: 0.4244 - accuracy: 0.4285\n",
            "Epoch 24/50\n",
            "625/625 [==============================] - 63s 100ms/step - loss: 0.4022 - accuracy: 0.4328\n",
            "Epoch 25/50\n",
            "625/625 [==============================] - 60s 96ms/step - loss: 0.4089 - accuracy: 0.4325\n",
            "Epoch 26/50\n",
            "625/625 [==============================] - 60s 96ms/step - loss: 0.3858 - accuracy: 0.4374\n",
            "Epoch 27/50\n",
            "625/625 [==============================] - 60s 96ms/step - loss: 0.3780 - accuracy: 0.4392\n",
            "Epoch 28/50\n",
            "625/625 [==============================] - 62s 100ms/step - loss: 0.3725 - accuracy: 0.4396\n",
            "Epoch 29/50\n",
            "625/625 [==============================] - 60s 96ms/step - loss: 0.3767 - accuracy: 0.4390\n",
            "Epoch 30/50\n",
            "625/625 [==============================] - 61s 97ms/step - loss: 0.3631 - accuracy: 0.4411\n",
            "Epoch 31/50\n",
            "625/625 [==============================] - 62s 100ms/step - loss: 0.3725 - accuracy: 0.4381\n",
            "Epoch 32/50\n",
            "625/625 [==============================] - 61s 97ms/step - loss: 0.3523 - accuracy: 0.4432\n",
            "Epoch 33/50\n",
            "625/625 [==============================] - 61s 98ms/step - loss: 0.3511 - accuracy: 0.4434\n",
            "Epoch 34/50\n",
            "625/625 [==============================] - 63s 100ms/step - loss: 0.3450 - accuracy: 0.4446\n",
            "Epoch 35/50\n",
            "625/625 [==============================] - 63s 101ms/step - loss: 0.3539 - accuracy: 0.4432\n",
            "Epoch 36/50\n",
            "625/625 [==============================] - 61s 97ms/step - loss: 0.3474 - accuracy: 0.4441\n",
            "Epoch 37/50\n",
            "625/625 [==============================] - 61s 97ms/step - loss: 0.3382 - accuracy: 0.4463\n",
            "Epoch 38/50\n",
            "625/625 [==============================] - 60s 97ms/step - loss: 0.3314 - accuracy: 0.4473\n",
            "Epoch 39/50\n",
            "625/625 [==============================] - 63s 101ms/step - loss: 0.3325 - accuracy: 0.4486\n",
            "Epoch 40/50\n",
            "625/625 [==============================] - 61s 97ms/step - loss: 0.3321 - accuracy: 0.4473\n",
            "Epoch 41/50\n",
            "625/625 [==============================] - 60s 97ms/step - loss: 0.3252 - accuracy: 0.4483\n",
            "Epoch 42/50\n",
            "625/625 [==============================] - 60s 97ms/step - loss: 0.3676 - accuracy: 0.4396\n",
            "Epoch 43/50\n",
            "625/625 [==============================] - 63s 101ms/step - loss: 0.3472 - accuracy: 0.4430\n",
            "Epoch 44/50\n",
            "625/625 [==============================] - 61s 98ms/step - loss: 0.4742 - accuracy: 0.4175\n",
            "Epoch 45/50\n",
            "625/625 [==============================] - 61s 98ms/step - loss: 0.3240 - accuracy: 0.4485\n",
            "Epoch 46/50\n",
            "625/625 [==============================] - 61s 97ms/step - loss: 0.3220 - accuracy: 0.4480\n",
            "Epoch 47/50\n",
            "625/625 [==============================] - 63s 101ms/step - loss: 0.3133 - accuracy: 0.4499\n",
            "Epoch 48/50\n",
            "625/625 [==============================] - 61s 97ms/step - loss: 0.3130 - accuracy: 0.4499\n",
            "Epoch 49/50\n",
            "625/625 [==============================] - 61s 98ms/step - loss: 0.3346 - accuracy: 0.4453\n",
            "Epoch 50/50\n",
            "625/625 [==============================] - 71s 113ms/step - loss: 0.3331 - accuracy: 0.4470\n"
          ]
        },
        {
          "data": {
            "text/plain": [
              "<keras.callbacks.History at 0x7fe36f961d90>"
            ]
          },
          "execution_count": 42,
          "metadata": {},
          "output_type": "execute_result"
        }
      ],
      "source": [
        "# The LSTM architecture\n",
        "regressor = Sequential()\n",
        "# First LSTM layer with Dropout regularisation\n",
        "regressor.add(LSTM(units=50, return_sequences=True, input_shape=(X_train.shape[1],1)))\n",
        "regressor.add(Dropout(0.2))\n",
        "# Second LSTM layer\n",
        "regressor.add(LSTM(units=50, return_sequences=True))\n",
        "regressor.add(Dropout(0.2))\n",
        "# Third LSTM layer\n",
        "regressor.add(LSTM(units=50, return_sequences=True))\n",
        "regressor.add(Dropout(0.2))\n",
        "# Fourth LSTM layer\n",
        "regressor.add(LSTM(units=50))\n",
        "regressor.add(Dropout(0.2))\n",
        "# The output layer\n",
        "regressor.add(Dense(units=1))\n",
        "\n",
        "# Compiling the RNN\n",
        "regressor.compile(optimizer='rmsprop',loss='mean_squared_error', metrics=['accuracy'])\n",
        "# Fitting to the training set\n",
        "regressor.fit(X_train,y_train,epochs=50,batch_size=128)"
      ]
    },
    {
      "cell_type": "code",
      "execution_count": null,
      "metadata": {
        "colab": {
          "base_uri": "https://localhost:8080/"
        },
        "id": "CJuB8vgjPKkM",
        "outputId": "2d8fc905-df54-47a1-a062-8ba76ab8af7c"
      },
      "outputs": [
        {
          "name": "stdout",
          "output_type": "stream",
          "text": [
            "Epoch 1/50\n",
            "625/625 [==============================] - 65s 97ms/step - loss: 1.2640 - accuracy: 0.2496\n",
            "Epoch 2/50\n",
            "625/625 [==============================] - 60s 97ms/step - loss: 1.1808 - accuracy: 0.2517\n",
            "Epoch 3/50\n",
            "625/625 [==============================] - 61s 97ms/step - loss: 1.1352 - accuracy: 0.2566\n",
            "Epoch 4/50\n",
            "625/625 [==============================] - 63s 100ms/step - loss: 1.0995 - accuracy: 0.2626\n",
            "Epoch 5/50\n",
            "625/625 [==============================] - 60s 97ms/step - loss: 1.0743 - accuracy: 0.2696\n",
            "Epoch 6/50\n",
            "625/625 [==============================] - 61s 97ms/step - loss: 1.0418 - accuracy: 0.2776\n",
            "Epoch 7/50\n",
            "625/625 [==============================] - 61s 97ms/step - loss: 0.9969 - accuracy: 0.2877\n",
            "Epoch 8/50\n",
            "625/625 [==============================] - 64s 102ms/step - loss: 0.9536 - accuracy: 0.2968\n",
            "Epoch 9/50\n",
            "625/625 [==============================] - 62s 99ms/step - loss: 0.9069 - accuracy: 0.3054\n",
            "Epoch 10/50\n",
            "625/625 [==============================] - 61s 98ms/step - loss: 0.8288 - accuracy: 0.3236\n",
            "Epoch 11/50\n",
            "625/625 [==============================] - 61s 98ms/step - loss: 0.7488 - accuracy: 0.3459\n",
            "Epoch 12/50\n",
            "625/625 [==============================] - 63s 101ms/step - loss: 0.6782 - accuracy: 0.3660\n",
            "Epoch 13/50\n",
            "625/625 [==============================] - 61s 98ms/step - loss: 0.6184 - accuracy: 0.3784\n",
            "Epoch 14/50\n",
            "625/625 [==============================] - 62s 99ms/step - loss: 0.5772 - accuracy: 0.3893\n",
            "Epoch 15/50\n",
            "625/625 [==============================] - 61s 98ms/step - loss: 0.5390 - accuracy: 0.3995\n",
            "Epoch 16/50\n",
            "625/625 [==============================] - 63s 101ms/step - loss: 0.5124 - accuracy: 0.4081\n",
            "Epoch 17/50\n",
            "625/625 [==============================] - 61s 98ms/step - loss: 0.4880 - accuracy: 0.4140\n",
            "Epoch 18/50\n",
            "625/625 [==============================] - 61s 98ms/step - loss: 0.4750 - accuracy: 0.4164\n",
            "Epoch 19/50\n",
            "625/625 [==============================] - 61s 98ms/step - loss: 0.4616 - accuracy: 0.4204\n",
            "Epoch 20/50\n",
            "625/625 [==============================] - 63s 101ms/step - loss: 0.4525 - accuracy: 0.4206\n",
            "Epoch 21/50\n",
            "625/625 [==============================] - 61s 98ms/step - loss: 0.4400 - accuracy: 0.4232\n",
            "Epoch 22/50\n",
            "625/625 [==============================] - 61s 97ms/step - loss: 0.4309 - accuracy: 0.4256\n",
            "Epoch 23/50\n",
            "625/625 [==============================] - 61s 97ms/step - loss: 0.4273 - accuracy: 0.4258\n",
            "Epoch 24/50\n",
            "625/625 [==============================] - 64s 102ms/step - loss: 0.4109 - accuracy: 0.4294\n",
            "Epoch 25/50\n",
            "625/625 [==============================] - 61s 98ms/step - loss: 0.4135 - accuracy: 0.4293\n",
            "Epoch 26/50\n",
            "625/625 [==============================] - 61s 98ms/step - loss: 0.4058 - accuracy: 0.4295\n",
            "Epoch 27/50\n",
            "625/625 [==============================] - 61s 98ms/step - loss: 0.4011 - accuracy: 0.4312\n",
            "Epoch 28/50\n",
            "625/625 [==============================] - 62s 100ms/step - loss: 0.3959 - accuracy: 0.4322\n",
            "Epoch 29/50\n",
            "625/625 [==============================] - 61s 98ms/step - loss: 0.3880 - accuracy: 0.4351\n",
            "Epoch 30/50\n",
            "625/625 [==============================] - 61s 98ms/step - loss: 0.3865 - accuracy: 0.4343\n",
            "Epoch 31/50\n",
            "625/625 [==============================] - 61s 98ms/step - loss: 0.3830 - accuracy: 0.4348\n",
            "Epoch 32/50\n",
            "625/625 [==============================] - 63s 101ms/step - loss: 0.3835 - accuracy: 0.4340\n",
            "Epoch 33/50\n",
            "625/625 [==============================] - 61s 98ms/step - loss: 0.3783 - accuracy: 0.4353\n",
            "Epoch 34/50\n",
            "625/625 [==============================] - 62s 98ms/step - loss: 1.0273 - accuracy: 0.2769\n",
            "Epoch 35/50\n",
            "625/625 [==============================] - 62s 98ms/step - loss: 0.8459 - accuracy: 0.3130\n",
            "Epoch 36/50\n",
            "625/625 [==============================] - 63s 100ms/step - loss: 0.7500 - accuracy: 0.3403\n",
            "Epoch 37/50\n",
            "625/625 [==============================] - 61s 98ms/step - loss: 0.7037 - accuracy: 0.3547\n",
            "Epoch 38/50\n",
            "625/625 [==============================] - 61s 98ms/step - loss: 0.6560 - accuracy: 0.3703\n",
            "Epoch 39/50\n",
            "625/625 [==============================] - 61s 97ms/step - loss: 0.5980 - accuracy: 0.3832\n",
            "Epoch 40/50\n",
            "625/625 [==============================] - 63s 101ms/step - loss: 0.5272 - accuracy: 0.4006\n",
            "Epoch 41/50\n",
            "625/625 [==============================] - 61s 98ms/step - loss: 0.5031 - accuracy: 0.4070\n",
            "Epoch 42/50\n",
            "625/625 [==============================] - 61s 98ms/step - loss: 0.4765 - accuracy: 0.4149\n",
            "Epoch 43/50\n",
            "625/625 [==============================] - 61s 98ms/step - loss: 0.4533 - accuracy: 0.4195\n",
            "Epoch 44/50\n",
            "625/625 [==============================] - 63s 100ms/step - loss: 0.4453 - accuracy: 0.4219\n",
            "Epoch 45/50\n",
            "625/625 [==============================] - 60s 96ms/step - loss: 0.4264 - accuracy: 0.4263\n",
            "Epoch 46/50\n",
            "625/625 [==============================] - 60s 96ms/step - loss: 0.4500 - accuracy: 0.4193\n",
            "Epoch 47/50\n",
            "625/625 [==============================] - 60s 97ms/step - loss: 0.4064 - accuracy: 0.4315\n",
            "Epoch 48/50\n",
            "625/625 [==============================] - 62s 99ms/step - loss: 0.4136 - accuracy: 0.4292\n",
            "Epoch 49/50\n",
            "625/625 [==============================] - 60s 97ms/step - loss: 0.4094 - accuracy: 0.4293\n",
            "Epoch 50/50\n",
            "625/625 [==============================] - 60s 97ms/step - loss: 0.3931 - accuracy: 0.4334\n"
          ]
        },
        {
          "data": {
            "text/plain": [
              "<keras.callbacks.History at 0x7fe366a462e0>"
            ]
          },
          "execution_count": 43,
          "metadata": {},
          "output_type": "execute_result"
        }
      ],
      "source": [
        "# The LSTM architecture\n",
        "regressor = Sequential()\n",
        "# First LSTM layer with Dropout regularisation\n",
        "regressor.add(LSTM(units=50, return_sequences=True, input_shape=(X_train.shape[1],1)))\n",
        "regressor.add(Dropout(0.2))\n",
        "# Second LSTM layer\n",
        "regressor.add(LSTM(units=50, return_sequences=True))\n",
        "regressor.add(Dropout(0.2))\n",
        "# Third LSTM layer\n",
        "regressor.add(LSTM(units=50, return_sequences=True))\n",
        "regressor.add(Dropout(0.2))\n",
        "# Fourth LSTM layer\n",
        "regressor.add(LSTM(units=50))\n",
        "regressor.add(Dropout(0.2))\n",
        "# The output layer\n",
        "regressor.add(Dense(units=1))\n",
        "\n",
        "# Compiling the RNN\n",
        "regressor.compile(optimizer='adam',loss='mean_squared_error', metrics=['accuracy'])\n",
        "# Fitting to the training set\n",
        "regressor.fit(X_train,y_train,epochs=50,batch_size=128)"
      ]
    },
    {
      "cell_type": "code",
      "execution_count": null,
      "metadata": {
        "colab": {
          "background_save": true,
          "base_uri": "https://localhost:8080/"
        },
        "id": "dVLhSm04JxTU",
        "outputId": "bc98dfd2-b83f-441c-e50e-85714166fd2a"
      },
      "outputs": [
        {
          "name": "stdout",
          "output_type": "stream",
          "text": [
            "Epoch 1/50\n",
            "2500/2500 [==============================] - 193s 74ms/step - loss: 1.2055\n",
            "Epoch 2/50\n",
            "2500/2500 [==============================] - 183s 73ms/step - loss: 1.1261\n",
            "Epoch 3/50\n",
            "2500/2500 [==============================] - 189s 75ms/step - loss: 1.0883\n",
            "Epoch 4/50\n",
            "2500/2500 [==============================] - 185s 74ms/step - loss: 1.0211\n",
            "Epoch 5/50\n",
            "2500/2500 [==============================] - 190s 76ms/step - loss: 0.8967\n",
            "Epoch 6/50\n",
            "2500/2500 [==============================] - 184s 74ms/step - loss: 0.7641\n",
            "Epoch 7/50\n",
            "2500/2500 [==============================] - 190s 76ms/step - loss: 0.6922\n",
            "Epoch 8/50\n",
            "2500/2500 [==============================] - 187s 75ms/step - loss: 0.6482\n",
            "Epoch 9/50\n",
            "2500/2500 [==============================] - 188s 75ms/step - loss: 0.6088\n",
            "Epoch 10/50\n",
            "2500/2500 [==============================] - 185s 74ms/step - loss: 0.6009\n",
            "Epoch 11/50\n",
            "2500/2500 [==============================] - 195s 78ms/step - loss: 0.5558\n",
            "Epoch 12/50\n",
            "2500/2500 [==============================] - 190s 76ms/step - loss: 0.5231\n",
            "Epoch 13/50\n",
            "2500/2500 [==============================] - 196s 78ms/step - loss: 0.4941\n",
            "Epoch 14/50\n",
            "2500/2500 [==============================] - 194s 78ms/step - loss: 0.4813\n",
            "Epoch 15/50\n",
            "2500/2500 [==============================] - 201s 80ms/step - loss: 0.4679\n",
            "Epoch 16/50\n",
            "2500/2500 [==============================] - 195s 78ms/step - loss: 0.4446\n",
            "Epoch 17/50\n",
            "2500/2500 [==============================] - 196s 78ms/step - loss: 0.4818\n",
            "Epoch 18/50\n",
            "2500/2500 [==============================] - 184s 74ms/step - loss: 0.4839\n",
            "Epoch 19/50\n",
            "2500/2500 [==============================] - 183s 73ms/step - loss: 0.4300\n",
            "Epoch 20/50\n",
            "2500/2500 [==============================] - 182s 73ms/step - loss: 0.4227\n",
            "Epoch 21/50\n",
            "2500/2500 [==============================] - 182s 73ms/step - loss: 0.4144\n",
            "Epoch 22/50\n",
            "2500/2500 [==============================] - 192s 77ms/step - loss: 0.4161\n",
            "Epoch 23/50\n",
            "2500/2500 [==============================] - 187s 75ms/step - loss: 0.4082\n",
            "Epoch 24/50\n",
            "2500/2500 [==============================] - 190s 76ms/step - loss: 0.4369\n",
            "Epoch 25/50\n",
            "2500/2500 [==============================] - 185s 74ms/step - loss: 0.3964\n",
            "Epoch 26/50\n",
            "2500/2500 [==============================] - 193s 77ms/step - loss: 0.3918\n",
            "Epoch 27/50\n",
            "2500/2500 [==============================] - 193s 77ms/step - loss: 0.4335\n",
            "Epoch 28/50\n",
            "2500/2500 [==============================] - 193s 77ms/step - loss: 0.3945\n",
            "Epoch 29/50\n",
            "1279/2500 [==============>...............] - ETA: 1:33 - loss: 0.3755"
          ]
        }
      ],
      "source": [
        "# The LSTM architecture\n",
        "regressor = Sequential()\n",
        "# First LSTM layer with Dropout regularisation\n",
        "regressor.add(LSTM(units=50, return_sequences=True, input_shape=(X_train.shape[1],1)))\n",
        "regressor.add(Dropout(0.2))\n",
        "# Second LSTM layer\n",
        "regressor.add(LSTM(units=50, return_sequences=True))\n",
        "regressor.add(Dropout(0.2))\n",
        "# Third LSTM layer\n",
        "regressor.add(LSTM(units=50, return_sequences=True))\n",
        "regressor.add(Dropout(0.2))\n",
        "# Fourth LSTM layer\n",
        "regressor.add(LSTM(units=50))\n",
        "regressor.add(Dropout(0.2))\n",
        "# The output layer\n",
        "regressor.add(Dense(units=1))\n",
        "\n",
        "# Compiling the RNN\n",
        "regressor.compile(optimizer='rmsprop',loss='mean_squared_error')\n",
        "# Fitting to the training set\n",
        "regressor.fit(X_train,y_train,epochs=50,batch_size=32)"
      ]
    },
    {
      "cell_type": "code",
      "execution_count": null,
      "metadata": {
        "colab": {
          "base_uri": "https://localhost:8080/",
          "height": 345
        },
        "id": "GPSbullhkvkV",
        "outputId": "4b381b47-a7db-4995-a812-2cdbc9b18255"
      },
      "outputs": [
        {
          "ename": "KeyError",
          "evalue": "ignored",
          "output_type": "error",
          "traceback": [
            "\u001b[0;31m---------------------------------------------------------------------------\u001b[0m",
            "\u001b[0;31mKeyError\u001b[0m                                  Traceback (most recent call last)",
            "\u001b[0;32m<ipython-input-44-44a88beb3fbc>\u001b[0m in \u001b[0;36m<module>\u001b[0;34m\u001b[0m\n\u001b[1;32m      2\u001b[0m \u001b[0mtime_step\u001b[0m \u001b[0;34m=\u001b[0m \u001b[0;36m100\u001b[0m\u001b[0;34m\u001b[0m\u001b[0;34m\u001b[0m\u001b[0m\n\u001b[1;32m      3\u001b[0m \u001b[0mX_train\u001b[0m\u001b[0;34m,\u001b[0m \u001b[0my_train\u001b[0m \u001b[0;34m=\u001b[0m \u001b[0mcreate_dataset\u001b[0m\u001b[0;34m(\u001b[0m\u001b[0mX_sm\u001b[0m\u001b[0;34m,\u001b[0m \u001b[0mtime_step\u001b[0m\u001b[0;34m)\u001b[0m\u001b[0;34m\u001b[0m\u001b[0;34m\u001b[0m\u001b[0m\n\u001b[0;32m----> 4\u001b[0;31m \u001b[0mX_test\u001b[0m\u001b[0;34m,\u001b[0m \u001b[0mytest\u001b[0m \u001b[0;34m=\u001b[0m \u001b[0mcreate_dataset\u001b[0m\u001b[0;34m(\u001b[0m\u001b[0my_sm\u001b[0m\u001b[0;34m,\u001b[0m \u001b[0mtime_step\u001b[0m\u001b[0;34m)\u001b[0m\u001b[0;34m\u001b[0m\u001b[0;34m\u001b[0m\u001b[0m\n\u001b[0m",
            "\u001b[0;32m<ipython-input-43-9aec7ce2523d>\u001b[0m in \u001b[0;36mcreate_dataset\u001b[0;34m(dataset, time_step)\u001b[0m\n\u001b[1;32m      3\u001b[0m     \u001b[0mdataX\u001b[0m\u001b[0;34m,\u001b[0m \u001b[0mdataY\u001b[0m \u001b[0;34m=\u001b[0m \u001b[0;34m[\u001b[0m\u001b[0;34m]\u001b[0m\u001b[0;34m,\u001b[0m \u001b[0;34m[\u001b[0m\u001b[0;34m]\u001b[0m\u001b[0;34m\u001b[0m\u001b[0;34m\u001b[0m\u001b[0m\n\u001b[1;32m      4\u001b[0m     \u001b[0;32mfor\u001b[0m \u001b[0mi\u001b[0m \u001b[0;32min\u001b[0m \u001b[0mrange\u001b[0m\u001b[0;34m(\u001b[0m\u001b[0mlen\u001b[0m\u001b[0;34m(\u001b[0m\u001b[0mdataset\u001b[0m\u001b[0;34m)\u001b[0m\u001b[0;34m-\u001b[0m\u001b[0mtime_step\u001b[0m\u001b[0;34m-\u001b[0m\u001b[0;36m1\u001b[0m\u001b[0;34m)\u001b[0m\u001b[0;34m:\u001b[0m\u001b[0;34m\u001b[0m\u001b[0;34m\u001b[0m\u001b[0m\n\u001b[0;32m----> 5\u001b[0;31m         \u001b[0ma\u001b[0m \u001b[0;34m=\u001b[0m \u001b[0mdataset\u001b[0m\u001b[0;34m[\u001b[0m\u001b[0mi\u001b[0m\u001b[0;34m:\u001b[0m\u001b[0;34m(\u001b[0m\u001b[0mi\u001b[0m\u001b[0;34m+\u001b[0m\u001b[0mtime_step\u001b[0m\u001b[0;34m)\u001b[0m\u001b[0;34m,\u001b[0m \u001b[0;36m0\u001b[0m\u001b[0;34m]\u001b[0m   \u001b[0;31m###i=0, 0,1,2,3-----99   100\u001b[0m\u001b[0;34m\u001b[0m\u001b[0;34m\u001b[0m\u001b[0m\n\u001b[0m\u001b[1;32m      6\u001b[0m         \u001b[0mdataX\u001b[0m\u001b[0;34m.\u001b[0m\u001b[0mappend\u001b[0m\u001b[0;34m(\u001b[0m\u001b[0ma\u001b[0m\u001b[0;34m)\u001b[0m\u001b[0;34m\u001b[0m\u001b[0;34m\u001b[0m\u001b[0m\n\u001b[1;32m      7\u001b[0m         \u001b[0mdataY\u001b[0m\u001b[0;34m.\u001b[0m\u001b[0mappend\u001b[0m\u001b[0;34m(\u001b[0m\u001b[0mdataset\u001b[0m\u001b[0;34m[\u001b[0m\u001b[0mi\u001b[0m \u001b[0;34m+\u001b[0m \u001b[0mtime_step\u001b[0m\u001b[0;34m,\u001b[0m \u001b[0;36m0\u001b[0m\u001b[0;34m]\u001b[0m\u001b[0;34m)\u001b[0m\u001b[0;34m\u001b[0m\u001b[0;34m\u001b[0m\u001b[0m\n",
            "\u001b[0;32m/usr/local/lib/python3.7/dist-packages/pandas/core/series.py\u001b[0m in \u001b[0;36m__getitem__\u001b[0;34m(self, key)\u001b[0m\n\u001b[1;32m    964\u001b[0m             \u001b[0;32mreturn\u001b[0m \u001b[0mself\u001b[0m\u001b[0;34m.\u001b[0m\u001b[0m_get_values\u001b[0m\u001b[0;34m(\u001b[0m\u001b[0mkey\u001b[0m\u001b[0;34m)\u001b[0m\u001b[0;34m\u001b[0m\u001b[0;34m\u001b[0m\u001b[0m\n\u001b[1;32m    965\u001b[0m \u001b[0;34m\u001b[0m\u001b[0m\n\u001b[0;32m--> 966\u001b[0;31m         \u001b[0;32mreturn\u001b[0m \u001b[0mself\u001b[0m\u001b[0;34m.\u001b[0m\u001b[0m_get_with\u001b[0m\u001b[0;34m(\u001b[0m\u001b[0mkey\u001b[0m\u001b[0;34m)\u001b[0m\u001b[0;34m\u001b[0m\u001b[0;34m\u001b[0m\u001b[0m\n\u001b[0m\u001b[1;32m    967\u001b[0m \u001b[0;34m\u001b[0m\u001b[0m\n\u001b[1;32m    968\u001b[0m     \u001b[0;32mdef\u001b[0m \u001b[0m_get_with\u001b[0m\u001b[0;34m(\u001b[0m\u001b[0mself\u001b[0m\u001b[0;34m,\u001b[0m \u001b[0mkey\u001b[0m\u001b[0;34m)\u001b[0m\u001b[0;34m:\u001b[0m\u001b[0;34m\u001b[0m\u001b[0;34m\u001b[0m\u001b[0m\n",
            "\u001b[0;32m/usr/local/lib/python3.7/dist-packages/pandas/core/series.py\u001b[0m in \u001b[0;36m_get_with\u001b[0;34m(self, key)\u001b[0m\n\u001b[1;32m    979\u001b[0m             )\n\u001b[1;32m    980\u001b[0m         \u001b[0;32melif\u001b[0m \u001b[0misinstance\u001b[0m\u001b[0;34m(\u001b[0m\u001b[0mkey\u001b[0m\u001b[0;34m,\u001b[0m \u001b[0mtuple\u001b[0m\u001b[0;34m)\u001b[0m\u001b[0;34m:\u001b[0m\u001b[0;34m\u001b[0m\u001b[0;34m\u001b[0m\u001b[0m\n\u001b[0;32m--> 981\u001b[0;31m             \u001b[0;32mreturn\u001b[0m \u001b[0mself\u001b[0m\u001b[0;34m.\u001b[0m\u001b[0m_get_values_tuple\u001b[0m\u001b[0;34m(\u001b[0m\u001b[0mkey\u001b[0m\u001b[0;34m)\u001b[0m\u001b[0;34m\u001b[0m\u001b[0;34m\u001b[0m\u001b[0m\n\u001b[0m\u001b[1;32m    982\u001b[0m \u001b[0;34m\u001b[0m\u001b[0m\n\u001b[1;32m    983\u001b[0m         \u001b[0;32melif\u001b[0m \u001b[0;32mnot\u001b[0m \u001b[0mis_list_like\u001b[0m\u001b[0;34m(\u001b[0m\u001b[0mkey\u001b[0m\u001b[0;34m)\u001b[0m\u001b[0;34m:\u001b[0m\u001b[0;34m\u001b[0m\u001b[0;34m\u001b[0m\u001b[0m\n",
            "\u001b[0;32m/usr/local/lib/python3.7/dist-packages/pandas/core/series.py\u001b[0m in \u001b[0;36m_get_values_tuple\u001b[0;34m(self, key)\u001b[0m\n\u001b[1;32m   1014\u001b[0m \u001b[0;34m\u001b[0m\u001b[0m\n\u001b[1;32m   1015\u001b[0m         \u001b[0;32mif\u001b[0m \u001b[0;32mnot\u001b[0m \u001b[0misinstance\u001b[0m\u001b[0;34m(\u001b[0m\u001b[0mself\u001b[0m\u001b[0;34m.\u001b[0m\u001b[0mindex\u001b[0m\u001b[0;34m,\u001b[0m \u001b[0mMultiIndex\u001b[0m\u001b[0;34m)\u001b[0m\u001b[0;34m:\u001b[0m\u001b[0;34m\u001b[0m\u001b[0;34m\u001b[0m\u001b[0m\n\u001b[0;32m-> 1016\u001b[0;31m             \u001b[0;32mraise\u001b[0m \u001b[0mKeyError\u001b[0m\u001b[0;34m(\u001b[0m\u001b[0;34m\"key of type tuple not found and not a MultiIndex\"\u001b[0m\u001b[0;34m)\u001b[0m\u001b[0;34m\u001b[0m\u001b[0;34m\u001b[0m\u001b[0m\n\u001b[0m\u001b[1;32m   1017\u001b[0m \u001b[0;34m\u001b[0m\u001b[0m\n\u001b[1;32m   1018\u001b[0m         \u001b[0;31m# If key is contained, would have returned by now\u001b[0m\u001b[0;34m\u001b[0m\u001b[0;34m\u001b[0m\u001b[0;34m\u001b[0m\u001b[0m\n",
            "\u001b[0;31mKeyError\u001b[0m: 'key of type tuple not found and not a MultiIndex'"
          ]
        }
      ],
      "source": [
        "from keras.models import Sequential\n",
        "from keras.layers import Dense, LSTM\n",
        "\n",
        "# Build the LSTM model\n",
        "model = Sequential()\n",
        "model.add(LSTM(128, return_sequences=True, input_shape= (X_train.shape[1],1)))\n",
        "model.add(LSTM(64, return_sequences=False))\n",
        "model.add(Dense(32))\n",
        "model.add(Dense(16))\n",
        "model.add(Dense(8))\n",
        "model.add(Dense(4))\n",
        "\n",
        "\n",
        "# Compile the model1\n",
        "model.compile(optimizer='adam', loss='mean_squared_error', metrics=['accuracy'])\n",
        "\n",
        "# Train the model\n",
        "model.fit(X_train, y_train, batch_size=128, epochs=100)"
      ]
    },
    {
      "cell_type": "markdown",
      "metadata": {
        "id": "5gfQ6DfDavx3"
      },
      "source": []
    },
    {
      "cell_type": "markdown",
      "metadata": {
        "id": "MIWD1kFAFO9z"
      },
      "source": [
        "# Voting"
      ]
    },
    {
      "cell_type": "code",
      "execution_count": null,
      "metadata": {
        "colab": {
          "base_uri": "https://localhost:8080/"
        },
        "id": "qzKukh_tLeeF",
        "outputId": "e67b5466-a159-4168-e53b-e3694679e20b"
      },
      "outputs": [
        {
          "name": "stdout",
          "output_type": "stream",
          "text": [
            "Fitting 5 folds for each of 24 candidates, totalling 120 fits\n"
          ]
        },
        {
          "data": {
            "text/plain": [
              "GridSearchCV(cv=5,\n",
              "             estimator=VotingClassifier(estimators=[('RFC',\n",
              "                                                     RandomForestClassifier()),\n",
              "                                                    ('SVC',\n",
              "                                                     SVC(kernel='poly',\n",
              "                                                         probability=True)),\n",
              "                                                    ('KNN',\n",
              "                                                     KNeighborsClassifier(leaf_size=60))],\n",
              "                                        voting='soft'),\n",
              "             param_grid={'KNN__algorithm': ['kd_tree', 'ball_tree'],\n",
              "                         'RFC__n_estimators': [10, 100], 'SVC__C': [2, 3],\n",
              "                         'SVC__kernel': ['linear', 'sigmoid', 'poly']},\n",
              "             verbose=1)"
            ]
          },
          "execution_count": 47,
          "metadata": {},
          "output_type": "execute_result"
        }
      ],
      "source": [
        "# Voting Classifier with soft voting.\n",
        "vot_soft = VotingClassifier(estimators= [('RFC', RandomForestClassifier()),('SVC',\n",
        "                                         svm.SVC(kernel='poly',probability=True)),\n",
        "                                         ('KNN',KNeighborsClassifier(leaf_size=60))], voting ='soft' )\n",
        "params = {'RFC__n_estimators': [10, 100],\n",
        "      'SVC__C': [2,3],\n",
        "      'SVC__kernel':['linear','sigmoid','poly'],\n",
        "      'KNN__algorithm':[\"kd_tree\",\"ball_tree\"]}\n",
        "rsk = GridSearchCV(estimator=vot_soft, param_grid=params)\n",
        "\n",
        "rsk.fit(X_train, y_train)"
      ]
    },
    {
      "cell_type": "code",
      "execution_count": null,
      "metadata": {
        "colab": {
          "base_uri": "https://localhost:8080/"
        },
        "id": "jVubLiwVL9VX",
        "outputId": "5c6b7659-ff17-499f-b7ea-fa170de2bb2c"
      },
      "outputs": [
        {
          "name": "stdout",
          "output_type": "stream",
          "text": [
            "Train score: 0.94125\n",
            "Validation score: 0.716\n"
          ]
        }
      ],
      "source": [
        "print(\"Train score:\", rsk.score(X_train, y_train))\n",
        "print(\"Validation score:\", rsk.score(X_test, y_test))"
      ]
    },
    {
      "cell_type": "code",
      "execution_count": null,
      "metadata": {
        "colab": {
          "base_uri": "https://localhost:8080/"
        },
        "id": "zp95EIksXxxE",
        "outputId": "0f1d6e1c-ea1c-4e7b-b9fb-dd73c9adf73c"
      },
      "outputs": [
        {
          "data": {
            "text/plain": [
              "GridSearchCV(estimator=VotingClassifier(estimators=[('RFC',\n",
              "                                                     RandomForestClassifier()),\n",
              "                                                    ('SVC',\n",
              "                                                     SVC(kernel='poly',\n",
              "                                                         probability=True)),\n",
              "                                                    ('KNN',\n",
              "                                                     KNeighborsClassifier(leaf_size=60))]),\n",
              "             param_grid={'KNN__algorithm': ['kd_tree', 'ball_tree'],\n",
              "                         'RFC__n_estimators': [10, 100], 'SVC__C': [2, 3],\n",
              "                         'SVC__kernel': ['sigmoid', 'poly']})"
            ]
          },
          "execution_count": 39,
          "metadata": {},
          "output_type": "execute_result"
        }
      ],
      "source": [
        "# Voting Classifier with hard voting.\n",
        "vot_hard = VotingClassifier(estimators= [('RFC', RandomForestClassifier()),('SVC',\n",
        "                                         svm.SVC(kernel='poly',probability=True)),\n",
        "                                         ('KNN',KNeighborsClassifier(leaf_size=60))], voting ='hard' )\n",
        "params = {'RFC__n_estimators': [10, 100],\n",
        "      'SVC__C': [2,3],\n",
        "      'SVC__kernel':['sigmoid','poly'],\n",
        "      'KNN__algorithm':[\"kd_tree\",\"ball_tree\"]}\n",
        "rsk2 = GridSearchCV(estimator=vot_hard, param_grid=params)\n",
        "\n",
        "rsk2.fit(X_train, y_train)"
      ]
    },
    {
      "cell_type": "code",
      "execution_count": null,
      "metadata": {
        "colab": {
          "base_uri": "https://localhost:8080/"
        },
        "id": "7_6oSZM4XyNb",
        "outputId": "de40b285-7a6a-4b4b-a72b-74461ac1a902"
      },
      "outputs": [
        {
          "name": "stdout",
          "output_type": "stream",
          "text": [
            "Train score: 0.98975\n",
            "Validation score: 0.72\n"
          ]
        }
      ],
      "source": [
        "print(\"Train score:\", rsk2.score(X_train, y_train))\n",
        "print(\"Validation score:\", rsk2.score(X_test, y_test))"
      ]
    },
    {
      "cell_type": "code",
      "execution_count": null,
      "metadata": {
        "colab": {
          "base_uri": "https://localhost:8080/"
        },
        "id": "kz8QCGsD9sFn",
        "outputId": "fd5434ab-5282-4753-c0b5-3bb2fdabc536"
      },
      "outputs": [
        {
          "name": "stdout",
          "output_type": "stream",
          "text": [
            "Epoch 1/30\n",
            "2596/2596 [==============================] - 40s 15ms/step - loss: 0.4061 - accuracy: 0.8403 - val_loss: 0.2541 - val_accuracy: 0.9078\n",
            "Epoch 2/30\n",
            "2596/2596 [==============================] - 38s 15ms/step - loss: 0.2144 - accuracy: 0.9231 - val_loss: 0.1961 - val_accuracy: 0.9309\n",
            "Epoch 3/30\n",
            "2596/2596 [==============================] - 39s 15ms/step - loss: 0.1646 - accuracy: 0.9426 - val_loss: 0.1694 - val_accuracy: 0.9412\n",
            "Epoch 4/30\n",
            "2596/2596 [==============================] - 38s 15ms/step - loss: 0.1398 - accuracy: 0.9521 - val_loss: 0.1332 - val_accuracy: 0.9553\n",
            "Epoch 5/30\n",
            "2596/2596 [==============================] - 41s 16ms/step - loss: 0.1231 - accuracy: 0.9584 - val_loss: 0.1235 - val_accuracy: 0.9592\n",
            "Epoch 6/30\n",
            "2596/2596 [==============================] - 39s 15ms/step - loss: 0.1109 - accuracy: 0.9631 - val_loss: 0.1179 - val_accuracy: 0.9609\n",
            "Epoch 7/30\n",
            "2596/2596 [==============================] - 39s 15ms/step - loss: 0.1024 - accuracy: 0.9664 - val_loss: 0.1138 - val_accuracy: 0.9639\n",
            "Epoch 8/30\n",
            "2596/2596 [==============================] - 38s 15ms/step - loss: 0.0947 - accuracy: 0.9689 - val_loss: 0.1028 - val_accuracy: 0.9669\n",
            "Epoch 9/30\n",
            "2596/2596 [==============================] - 39s 15ms/step - loss: 0.0884 - accuracy: 0.9716 - val_loss: 0.0981 - val_accuracy: 0.9682\n",
            "Epoch 10/30\n",
            "2596/2596 [==============================] - 39s 15ms/step - loss: 0.0831 - accuracy: 0.9733 - val_loss: 0.0906 - val_accuracy: 0.9713\n",
            "Epoch 11/30\n",
            "2596/2596 [==============================] - 38s 15ms/step - loss: 0.0786 - accuracy: 0.9749 - val_loss: 0.0875 - val_accuracy: 0.9726\n",
            "Epoch 12/30\n",
            "2596/2596 [==============================] - 40s 15ms/step - loss: 0.0746 - accuracy: 0.9762 - val_loss: 0.0882 - val_accuracy: 0.9727\n",
            "Epoch 13/30\n",
            "2596/2596 [==============================] - 39s 15ms/step - loss: 0.0714 - accuracy: 0.9775 - val_loss: 0.0868 - val_accuracy: 0.9732\n",
            "Epoch 14/30\n",
            "2596/2596 [==============================] - 39s 15ms/step - loss: 0.0680 - accuracy: 0.9786 - val_loss: 0.0858 - val_accuracy: 0.9729\n",
            "Epoch 15/30\n",
            "2596/2596 [==============================] - 38s 15ms/step - loss: 0.0652 - accuracy: 0.9796 - val_loss: 0.0837 - val_accuracy: 0.9743\n",
            "Epoch 16/30\n",
            "2596/2596 [==============================] - 40s 15ms/step - loss: 0.0625 - accuracy: 0.9806 - val_loss: 0.0826 - val_accuracy: 0.9756\n",
            "Epoch 17/30\n",
            "2596/2596 [==============================] - 40s 15ms/step - loss: 0.0607 - accuracy: 0.9812 - val_loss: 0.0791 - val_accuracy: 0.9764\n",
            "Epoch 18/30\n",
            "2596/2596 [==============================] - 39s 15ms/step - loss: 0.0584 - accuracy: 0.9819 - val_loss: 0.0797 - val_accuracy: 0.9761\n",
            "Epoch 19/30\n",
            "2596/2596 [==============================] - 40s 16ms/step - loss: 0.0563 - accuracy: 0.9826 - val_loss: 0.0763 - val_accuracy: 0.9771\n",
            "Epoch 20/30\n",
            "2596/2596 [==============================] - 38s 15ms/step - loss: 0.0545 - accuracy: 0.9833 - val_loss: 0.0722 - val_accuracy: 0.9787\n",
            "Epoch 21/30\n",
            "2596/2596 [==============================] - 39s 15ms/step - loss: 0.0530 - accuracy: 0.9837 - val_loss: 0.0739 - val_accuracy: 0.9781\n",
            "Epoch 22/30\n",
            "2596/2596 [==============================] - 38s 14ms/step - loss: 0.0512 - accuracy: 0.9844 - val_loss: 0.0696 - val_accuracy: 0.9800\n",
            "Epoch 23/30\n",
            "2596/2596 [==============================] - 40s 15ms/step - loss: 0.0501 - accuracy: 0.9847 - val_loss: 0.0775 - val_accuracy: 0.9770\n",
            "Epoch 24/30\n",
            "2596/2596 [==============================] - 40s 15ms/step - loss: 0.0490 - accuracy: 0.9850 - val_loss: 0.0696 - val_accuracy: 0.9795\n",
            "Epoch 25/30\n",
            "2596/2596 [==============================] - 38s 15ms/step - loss: 0.0471 - accuracy: 0.9858 - val_loss: 0.0700 - val_accuracy: 0.9796\n",
            "Epoch 26/30\n",
            "2596/2596 [==============================] - 39s 15ms/step - loss: 0.0462 - accuracy: 0.9860 - val_loss: 0.0727 - val_accuracy: 0.9788\n",
            "Epoch 27/30\n",
            "2596/2596 [==============================] - 39s 15ms/step - loss: 0.0450 - accuracy: 0.9863 - val_loss: 0.0705 - val_accuracy: 0.9792\n",
            "Epoch 28/30\n",
            "2596/2596 [==============================] - 40s 15ms/step - loss: 0.0436 - accuracy: 0.9867 - val_loss: 0.0670 - val_accuracy: 0.9805\n",
            "Epoch 29/30\n",
            "2596/2596 [==============================] - 38s 15ms/step - loss: 0.0426 - accuracy: 0.9872 - val_loss: 0.0684 - val_accuracy: 0.9802\n",
            "Epoch 30/30\n",
            "2596/2596 [==============================] - 40s 15ms/step - loss: 0.0426 - accuracy: 0.9871 - val_loss: 0.0647 - val_accuracy: 0.9817\n"
          ]
        }
      ],
      "source": [
        "inputs = tf.keras.Input(shape=(X.shape[1],))\n",
        "x = tf.keras.layers.Dense(512, activation='relu')(inputs)\n",
        "x = tf.keras.layers.Dense(128, activation='relu')(x)\n",
        "x = tf.keras.layers.Dense(128, activation='relu')(x)\n",
        "x = tf.keras.layers.Dense(64, activation='relu')(x)\n",
        "x = tf.keras.layers.Dense(32, activation='relu')(x)\n",
        "x = tf.keras.layers.Dense(64, activation='relu')(x)\n",
        "x = tf.keras.layers.Dense(32, activation='relu')(x)\n",
        "x = tf.keras.layers.Dense(32, activation='relu')(x)\n",
        "x = tf.keras.layers.Dense(16, activation='relu')(x)\n",
        "x = tf.keras.layers.Dense(8, activation='relu')(x)\n",
        "\n",
        "\n",
        "outputs = tf.keras.layers.Dense(4, activation='softmax')(x)\n",
        "\n",
        "model = tf.keras.Model(inputs, outputs)\n",
        "\n",
        "model.compile(\n",
        "    optimizer='adam',\n",
        "    loss='sparse_categorical_crossentropy',\n",
        "    metrics=['accuracy']\n",
        "    \n",
        ")\n",
        "\n",
        "batch_size =512\n",
        "epochs = 30\n",
        "\n",
        "history = model.fit(\n",
        "    X_train,\n",
        "    y_train,\n",
        "    validation_split=0.3,\n",
        "    batch_size=batch_size,\n",
        "    epochs=epochs,\n",
        "   \n",
        ")"
      ]
    },
    {
      "cell_type": "code",
      "execution_count": null,
      "metadata": {
        "colab": {
          "base_uri": "https://localhost:8080/"
        },
        "id": "4gDS5nG3qXWn",
        "outputId": "ef5d464e-97c2-43b8-f31a-79408acc91fc"
      },
      "outputs": [
        {
          "name": "stdout",
          "output_type": "stream",
          "text": [
            "Epoch 1/50\n",
            "2596/2596 [==============================] - 14s 5ms/step - loss: 0.4971 - accuracy: 0.8008 - val_loss: 0.4119 - val_accuracy: 0.8385\n",
            "Epoch 2/50\n",
            "2596/2596 [==============================] - 14s 6ms/step - loss: 0.3795 - accuracy: 0.8524 - val_loss: 0.3699 - val_accuracy: 0.8557\n",
            "Epoch 3/50\n",
            "2596/2596 [==============================] - 13s 5ms/step - loss: 0.3460 - accuracy: 0.8668 - val_loss: 0.3333 - val_accuracy: 0.8729\n",
            "Epoch 4/50\n",
            "2596/2596 [==============================] - 13s 5ms/step - loss: 0.3252 - accuracy: 0.8756 - val_loss: 0.3201 - val_accuracy: 0.8766\n",
            "Epoch 5/50\n",
            "2596/2596 [==============================] - 12s 5ms/step - loss: 0.3102 - accuracy: 0.8820 - val_loss: 0.3073 - val_accuracy: 0.8838\n",
            "Epoch 6/50\n",
            "2596/2596 [==============================] - 12s 5ms/step - loss: 0.2994 - accuracy: 0.8867 - val_loss: 0.2975 - val_accuracy: 0.8871\n",
            "Epoch 7/50\n",
            "2596/2596 [==============================] - 13s 5ms/step - loss: 0.2908 - accuracy: 0.8904 - val_loss: 0.2883 - val_accuracy: 0.8912\n",
            "Epoch 8/50\n",
            "2596/2596 [==============================] - 14s 5ms/step - loss: 0.2840 - accuracy: 0.8933 - val_loss: 0.2899 - val_accuracy: 0.8907\n",
            "Epoch 9/50\n",
            "2596/2596 [==============================] - 13s 5ms/step - loss: 0.2782 - accuracy: 0.8957 - val_loss: 0.2854 - val_accuracy: 0.8928\n",
            "Epoch 10/50\n",
            "2596/2596 [==============================] - 13s 5ms/step - loss: 0.2728 - accuracy: 0.8981 - val_loss: 0.2730 - val_accuracy: 0.8988\n",
            "Epoch 11/50\n",
            "2596/2596 [==============================] - 12s 5ms/step - loss: 0.2681 - accuracy: 0.9000 - val_loss: 0.2692 - val_accuracy: 0.8991\n",
            "Epoch 12/50\n",
            "2596/2596 [==============================] - 12s 5ms/step - loss: 0.2638 - accuracy: 0.9020 - val_loss: 0.2678 - val_accuracy: 0.9001\n",
            "Epoch 13/50\n",
            "2596/2596 [==============================] - 14s 5ms/step - loss: 0.2597 - accuracy: 0.9037 - val_loss: 0.2718 - val_accuracy: 0.8988\n",
            "Epoch 14/50\n",
            "2596/2596 [==============================] - 13s 5ms/step - loss: 0.2567 - accuracy: 0.9049 - val_loss: 0.2612 - val_accuracy: 0.9032\n",
            "Epoch 15/50\n",
            "2596/2596 [==============================] - 13s 5ms/step - loss: 0.2545 - accuracy: 0.9057 - val_loss: 0.2609 - val_accuracy: 0.9031\n",
            "Epoch 16/50\n",
            "2596/2596 [==============================] - 13s 5ms/step - loss: 0.2522 - accuracy: 0.9067 - val_loss: 0.2556 - val_accuracy: 0.9059\n",
            "Epoch 17/50\n",
            "2596/2596 [==============================] - 13s 5ms/step - loss: 0.2501 - accuracy: 0.9075 - val_loss: 0.2569 - val_accuracy: 0.9057\n",
            "Epoch 18/50\n",
            "2596/2596 [==============================] - 15s 6ms/step - loss: 0.2475 - accuracy: 0.9086 - val_loss: 0.2550 - val_accuracy: 0.9062\n",
            "Epoch 19/50\n",
            "2596/2596 [==============================] - 14s 5ms/step - loss: 0.2454 - accuracy: 0.9094 - val_loss: 0.2539 - val_accuracy: 0.9059\n",
            "Epoch 20/50\n",
            "2596/2596 [==============================] - 13s 5ms/step - loss: 0.2438 - accuracy: 0.9101 - val_loss: 0.2452 - val_accuracy: 0.9098\n",
            "Epoch 21/50\n",
            "2596/2596 [==============================] - 14s 5ms/step - loss: 0.2415 - accuracy: 0.9110 - val_loss: 0.2476 - val_accuracy: 0.9092\n",
            "Epoch 22/50\n",
            "2596/2596 [==============================] - 19s 7ms/step - loss: 0.2406 - accuracy: 0.9113 - val_loss: 0.2445 - val_accuracy: 0.9101\n",
            "Epoch 23/50\n",
            "2596/2596 [==============================] - 16s 6ms/step - loss: 0.2388 - accuracy: 0.9121 - val_loss: 0.2427 - val_accuracy: 0.9113\n",
            "Epoch 24/50\n",
            "2596/2596 [==============================] - 13s 5ms/step - loss: 0.2373 - accuracy: 0.9126 - val_loss: 0.2437 - val_accuracy: 0.9108\n",
            "Epoch 25/50\n",
            "2596/2596 [==============================] - 13s 5ms/step - loss: 0.2361 - accuracy: 0.9131 - val_loss: 0.2414 - val_accuracy: 0.9123\n",
            "Epoch 26/50\n",
            "2596/2596 [==============================] - 13s 5ms/step - loss: 0.2347 - accuracy: 0.9139 - val_loss: 0.2384 - val_accuracy: 0.9131\n",
            "Epoch 27/50\n",
            "2596/2596 [==============================] - 16s 6ms/step - loss: 0.2339 - accuracy: 0.9140 - val_loss: 0.2409 - val_accuracy: 0.9116\n",
            "Epoch 28/50\n",
            "2596/2596 [==============================] - 26s 10ms/step - loss: 0.2322 - accuracy: 0.9148 - val_loss: 0.2399 - val_accuracy: 0.9112\n",
            "Epoch 29/50\n",
            "2596/2596 [==============================] - 17s 7ms/step - loss: 0.2310 - accuracy: 0.9154 - val_loss: 0.2362 - val_accuracy: 0.9142\n",
            "Epoch 30/50\n",
            "2596/2596 [==============================] - 13s 5ms/step - loss: 0.2304 - accuracy: 0.9158 - val_loss: 0.2367 - val_accuracy: 0.9140\n",
            "Epoch 31/50\n",
            "2596/2596 [==============================] - 16s 6ms/step - loss: 0.2299 - accuracy: 0.9158 - val_loss: 0.2343 - val_accuracy: 0.9141\n",
            "Epoch 32/50\n",
            "2596/2596 [==============================] - 13s 5ms/step - loss: 0.2283 - accuracy: 0.9166 - val_loss: 0.2336 - val_accuracy: 0.9150\n",
            "Epoch 33/50\n",
            "2596/2596 [==============================] - 13s 5ms/step - loss: 0.2279 - accuracy: 0.9165 - val_loss: 0.2369 - val_accuracy: 0.9133\n",
            "Epoch 34/50\n",
            "2596/2596 [==============================] - 14s 6ms/step - loss: 0.2271 - accuracy: 0.9170 - val_loss: 0.2367 - val_accuracy: 0.9134\n",
            "Epoch 35/50\n",
            "2596/2596 [==============================] - 13s 5ms/step - loss: 0.2263 - accuracy: 0.9172 - val_loss: 0.2332 - val_accuracy: 0.9149\n",
            "Epoch 36/50\n",
            "2596/2596 [==============================] - 16s 6ms/step - loss: 0.2254 - accuracy: 0.9176 - val_loss: 0.2291 - val_accuracy: 0.9175\n",
            "Epoch 37/50\n",
            "2596/2596 [==============================] - 13s 5ms/step - loss: 0.2250 - accuracy: 0.9180 - val_loss: 0.2353 - val_accuracy: 0.9142\n",
            "Epoch 38/50\n",
            "2596/2596 [==============================] - 13s 5ms/step - loss: 0.2244 - accuracy: 0.9180 - val_loss: 0.2352 - val_accuracy: 0.9146\n",
            "Epoch 39/50\n",
            "2596/2596 [==============================] - 13s 5ms/step - loss: 0.2237 - accuracy: 0.9184 - val_loss: 0.2297 - val_accuracy: 0.9163\n",
            "Epoch 40/50\n",
            "2596/2596 [==============================] - 13s 5ms/step - loss: 0.2233 - accuracy: 0.9187 - val_loss: 0.2307 - val_accuracy: 0.9164\n",
            "Epoch 41/50\n",
            "2596/2596 [==============================] - 13s 5ms/step - loss: 0.2229 - accuracy: 0.9189 - val_loss: 0.2329 - val_accuracy: 0.9156\n",
            "Epoch 42/50\n",
            "2596/2596 [==============================] - 15s 6ms/step - loss: 0.2220 - accuracy: 0.9192 - val_loss: 0.2328 - val_accuracy: 0.9149\n",
            "Epoch 43/50\n",
            "2596/2596 [==============================] - 15s 6ms/step - loss: 0.2215 - accuracy: 0.9193 - val_loss: 0.2278 - val_accuracy: 0.9175\n",
            "Epoch 44/50\n",
            "2596/2596 [==============================] - 13s 5ms/step - loss: 0.2212 - accuracy: 0.9195 - val_loss: 0.2317 - val_accuracy: 0.9155\n",
            "Epoch 45/50\n",
            "2596/2596 [==============================] - 14s 6ms/step - loss: 0.2207 - accuracy: 0.9197 - val_loss: 0.2312 - val_accuracy: 0.9156\n",
            "Epoch 46/50\n",
            "2596/2596 [==============================] - 16s 6ms/step - loss: 0.2203 - accuracy: 0.9199 - val_loss: 0.2296 - val_accuracy: 0.9169\n",
            "Epoch 47/50\n",
            "2596/2596 [==============================] - 13s 5ms/step - loss: 0.2195 - accuracy: 0.9201 - val_loss: 0.2269 - val_accuracy: 0.9177\n",
            "Epoch 48/50\n",
            "2596/2596 [==============================] - 14s 5ms/step - loss: 0.2195 - accuracy: 0.9203 - val_loss: 0.2329 - val_accuracy: 0.9145\n",
            "Epoch 49/50\n",
            "2596/2596 [==============================] - 13s 5ms/step - loss: 0.2189 - accuracy: 0.9203 - val_loss: 0.2287 - val_accuracy: 0.9170\n",
            "Epoch 50/50\n",
            "2596/2596 [==============================] - 14s 5ms/step - loss: 0.2178 - accuracy: 0.9209 - val_loss: 0.2269 - val_accuracy: 0.9183\n"
          ]
        }
      ],
      "source": [
        "inputs = tf.keras.Input(shape=(X.shape[1],))\n",
        "x = tf.keras.layers.Dense(64, activation='relu')(inputs)\n",
        "x = tf.keras.layers.Dense(64, activation='relu')(x)\n",
        "x = tf.keras.layers.Dense(32, activation='relu')(x)\n",
        "x = tf.keras.layers.Dense(32, activation='relu')(x)\n",
        "x = tf.keras.layers.Dense(16, activation='relu')(x)\n",
        "x = tf.keras.layers.Dense(8, activation='relu')(x)\n",
        "\n",
        "\n",
        "outputs = tf.keras.layers.Dense(4, activation='softmax')(x)\n",
        "\n",
        "model = tf.keras.Model(inputs, outputs)\n",
        "\n",
        "model.compile(\n",
        "    optimizer='adam',\n",
        "    loss='sparse_categorical_crossentropy',\n",
        "    metrics=['accuracy']\n",
        "    \n",
        ")\n",
        "\n",
        "batch_size = 512\n",
        "epochs = 50\n",
        "\n",
        "history = model.fit(\n",
        "    X_train,\n",
        "    y_train,\n",
        "    validation_split=0.3,\n",
        "    batch_size=batch_size,\n",
        "    epochs=epochs,\n",
        "    \n",
        ")"
      ]
    },
    {
      "cell_type": "markdown",
      "metadata": {
        "id": "5-f57BICa06Z"
      },
      "source": [
        "# SMOT CNN"
      ]
    },
    {
      "cell_type": "code",
      "execution_count": null,
      "metadata": {
        "id": "uFQTSvC3iVQ8"
      },
      "outputs": [],
      "source": []
    },
    {
      "cell_type": "markdown",
      "metadata": {
        "id": "4MtvN6qqGBj-"
      },
      "source": [
        "# Spliting"
      ]
    },
    {
      "cell_type": "code",
      "execution_count": null,
      "metadata": {
        "id": "SK9GOTiKCBkn"
      },
      "outputs": [],
      "source": [
        "X_train, X_test, y_train, y_test = train_test_split(X, y, train_size=0.7, random_state=42)\n"
      ]
    },
    {
      "cell_type": "code",
      "execution_count": null,
      "metadata": {
        "colab": {
          "base_uri": "https://localhost:8080/"
        },
        "id": "YiVQ3gmsCVxP",
        "outputId": "55e9d0a7-5e63-4a8c-bba2-258f678702af"
      },
      "outputs": [
        {
          "name": "stdout",
          "output_type": "stream",
          "text": [
            "(80000, 44) (80000,)\n",
            "(20000, 44) (20000,)\n"
          ]
        }
      ],
      "source": [
        "print(X_train.shape, y_train.shape)\n",
        "print(X_test.shape, y_test.shape)"
      ]
    },
    {
      "cell_type": "code",
      "execution_count": null,
      "metadata": {
        "id": "xrG8PulWGkDW"
      },
      "outputs": [],
      "source": [
        "# Metrics dictionary\n",
        "accuracy = dict()\n",
        "precision = dict()\n",
        "recall = dict()\n",
        "f1 = dict()\n",
        "fpr = dict()\n",
        "tpr = dict()"
      ]
    },
    {
      "cell_type": "markdown",
      "metadata": {
        "id": "vYh6A3JNKoIZ"
      },
      "source": [
        "# Training Models"
      ]
    },
    {
      "cell_type": "code",
      "execution_count": null,
      "metadata": {
        "colab": {
          "base_uri": "https://localhost:8080/"
        },
        "id": "OopdJ13UChkN",
        "outputId": "5de87f94-39dc-4203-9fb5-3919c211f159"
      },
      "outputs": [
        {
          "name": "stdout",
          "output_type": "stream",
          "text": [
            "Train score: 0.6173875\n",
            "Validation score: 0.61305\n"
          ]
        }
      ],
      "source": [
        "model = LogisticRegression(random_state=42, n_jobs=-1)\n",
        "model.fit(X_train,y_train)\n",
        "\n",
        "print(\"Train score:\", model.score(X_train, y_train))\n",
        "print(\"Validation score:\", model.score(X_test, y_test))\n"
      ]
    },
    {
      "cell_type": "code",
      "execution_count": null,
      "metadata": {
        "colab": {
          "base_uri": "https://localhost:8080/"
        },
        "id": "9Fm7KtCHlzFI",
        "outputId": "56be809f-5d8c-4c42-ca48-2ad5554e8d05"
      },
      "outputs": [
        {
          "name": "stdout",
          "output_type": "stream",
          "text": [
            "              precision    recall  f1-score   support\n",
            "\n",
            "           0       0.60      0.62      0.61     20007\n",
            "           1       0.70      0.77      0.73     19997\n",
            "           2       0.62      0.64      0.63     19994\n",
            "           3       0.52      0.44      0.48     20002\n",
            "\n",
            "    accuracy                           0.62     80000\n",
            "   macro avg       0.61      0.62      0.61     80000\n",
            "weighted avg       0.61      0.62      0.61     80000\n",
            "\n",
            "              precision    recall  f1-score   support\n",
            "\n",
            "           0       0.60      0.62      0.61      5002\n",
            "           1       0.70      0.76      0.73      4999\n",
            "           2       0.62      0.63      0.63      4998\n",
            "           3       0.51      0.43      0.47      5001\n",
            "\n",
            "    accuracy                           0.61     20000\n",
            "   macro avg       0.61      0.61      0.61     20000\n",
            "weighted avg       0.61      0.61      0.61     20000\n",
            "\n"
          ]
        }
      ],
      "source": [
        "y_pred = model.predict(X_test)\n",
        "\n",
        "accuracy[\"Logistic Regression\"] = accuracy_score(y_test, y_pred)\n",
        "f1[\"Logistic Regression\"] = f1_score(y_test, y_pred, average=\"macro\")\n",
        "\n",
        "print(classification_report(y_train, model.predict(X_train)))\n",
        "print(classification_report(y_test, y_pred))"
      ]
    },
    {
      "cell_type": "code",
      "execution_count": null,
      "metadata": {
        "colab": {
          "base_uri": "https://localhost:8080/"
        },
        "id": "mufS5OuL96n0",
        "outputId": "748b634c-182a-4022-8dd5-f5c239e4a7a4"
      },
      "outputs": [
        {
          "name": "stdout",
          "output_type": "stream",
          "text": [
            "Train score: 0.760056258790436\n",
            "Validation score: 0.7202472106760008\n"
          ]
        }
      ],
      "source": [
        "model2 = svm.SVC(random_state=42,kernel='poly' )\n",
        "model2.fit(X_train,y_train)\n",
        "\n",
        "print(\"Train score:\", model2.score(X_train, y_train))\n",
        "print(\"Validation score:\", model2.score(X_test, y_test))"
      ]
    },
    {
      "cell_type": "code",
      "execution_count": null,
      "metadata": {
        "colab": {
          "base_uri": "https://localhost:8080/"
        },
        "id": "LMDmImLEdJWi",
        "outputId": "0ba6293f-265f-4809-b567-0a679dff083c"
      },
      "outputs": [
        {
          "name": "stdout",
          "output_type": "stream",
          "text": [
            "              precision    recall  f1-score   support\n",
            "\n",
            "           0       0.81      0.80      0.80      7399\n",
            "           1       0.83      0.59      0.69      7498\n",
            "           2       0.78      0.51      0.62      7483\n",
            "           3       0.73      0.90      0.80     20280\n",
            "\n",
            "    accuracy                           0.76     42660\n",
            "   macro avg       0.79      0.70      0.73     42660\n",
            "weighted avg       0.77      0.76      0.75     42660\n",
            "\n",
            "              precision    recall  f1-score   support\n",
            "\n",
            "           0       0.78      0.76      0.77      3226\n",
            "           1       0.75      0.52      0.62      3127\n",
            "           2       0.70      0.45      0.55      3142\n",
            "           3       0.70      0.87      0.78      8789\n",
            "\n",
            "    accuracy                           0.72     18284\n",
            "   macro avg       0.73      0.65      0.68     18284\n",
            "weighted avg       0.72      0.72      0.71     18284\n",
            "\n"
          ]
        }
      ],
      "source": [
        "y_pred = model2.predict(X_test)\n",
        "\n",
        "accuracy[\"SVC\"] = accuracy_score(y_test, y_pred)\n",
        "f1[\"SVC\"] = f1_score(y_test, y_pred, average=\"macro\")\n",
        "\n",
        "print(classification_report(y_train, model2.predict(X_train)))\n",
        "print(classification_report(y_test, y_pred))"
      ]
    },
    {
      "cell_type": "code",
      "execution_count": null,
      "metadata": {
        "colab": {
          "base_uri": "https://localhost:8080/"
        },
        "id": "DHWveIDqeEuO",
        "outputId": "d8fab088-70bc-47ca-f006-63e860b5305e"
      },
      "outputs": [
        {
          "name": "stdout",
          "output_type": "stream",
          "text": [
            "Train score: 0.9992967651195499\n",
            "Validation score: 0.8535878363596587\n"
          ]
        }
      ],
      "source": [
        "model3 = RandomForestClassifier()\n",
        "model3.fit(X_train,y_train,)\n",
        "\n",
        "print(\"Train score:\", model3.score(X_train, y_train))\n",
        "print(\"Validation score:\", model3.score(X_test, y_test))"
      ]
    },
    {
      "cell_type": "code",
      "execution_count": null,
      "metadata": {
        "colab": {
          "base_uri": "https://localhost:8080/"
        },
        "id": "QDnkHkAReFFy",
        "outputId": "2fbb217e-c979-429d-f5e7-ab88c22d6198"
      },
      "outputs": [
        {
          "name": "stdout",
          "output_type": "stream",
          "text": [
            "              precision    recall  f1-score   support\n",
            "\n",
            "           0       1.00      1.00      1.00      7399\n",
            "           1       1.00      1.00      1.00      7498\n",
            "           2       1.00      1.00      1.00      7483\n",
            "           3       1.00      1.00      1.00     20280\n",
            "\n",
            "    accuracy                           1.00     42660\n",
            "   macro avg       1.00      1.00      1.00     42660\n",
            "weighted avg       1.00      1.00      1.00     42660\n",
            "\n",
            "              precision    recall  f1-score   support\n",
            "\n",
            "           0       0.90      0.93      0.91      3226\n",
            "           1       0.82      0.71      0.76      3127\n",
            "           2       0.85      0.74      0.79      3142\n",
            "           3       0.85      0.92      0.88      8789\n",
            "\n",
            "    accuracy                           0.85     18284\n",
            "   macro avg       0.85      0.82      0.84     18284\n",
            "weighted avg       0.85      0.85      0.85     18284\n",
            "\n"
          ]
        }
      ],
      "source": [
        "y_pred = model3.predict(X_test)\n",
        "\n",
        "accuracy[\"Random Forest\"] = accuracy_score(y_test, y_pred)\n",
        "f1[\"Random Forest\"] = f1_score(y_test, y_pred, average=\"macro\")\n",
        "\n",
        "print(classification_report(y_train, model3.predict(X_train)))\n",
        "print(classification_report(y_test, y_pred))"
      ]
    },
    {
      "cell_type": "code",
      "execution_count": null,
      "metadata": {
        "colab": {
          "base_uri": "https://localhost:8080/"
        },
        "id": "3s69ODJZfmA0",
        "outputId": "d5411500-b808-4923-8192-c83598f54994"
      },
      "outputs": [
        {
          "name": "stdout",
          "output_type": "stream",
          "text": [
            "Train score: 0.7816455696202531\n",
            "Validation score: 0.6868847079413695\n"
          ]
        }
      ],
      "source": [
        "model4 = KNeighborsClassifier()\n",
        "model4.fit(X_train,y_train)\n",
        "\n",
        "print(\"Train score:\", model4.score(X_train, y_train))\n",
        "print(\"Validation score:\", model4.score(X_test, y_test))"
      ]
    },
    {
      "cell_type": "code",
      "execution_count": null,
      "metadata": {
        "colab": {
          "base_uri": "https://localhost:8080/"
        },
        "id": "-FtQbmgylDhF",
        "outputId": "ffb4e3b5-bd74-472c-8e70-06e86d61c8ae"
      },
      "outputs": [
        {
          "name": "stdout",
          "output_type": "stream",
          "text": [
            "              precision    recall  f1-score   support\n",
            "\n",
            "           0       0.73      0.90      0.81      7399\n",
            "           1       0.76      0.66      0.71      7498\n",
            "           2       0.71      0.70      0.71      7483\n",
            "           3       0.84      0.81      0.83     20280\n",
            "\n",
            "    accuracy                           0.78     42660\n",
            "   macro avg       0.76      0.77      0.76     42660\n",
            "weighted avg       0.78      0.78      0.78     42660\n",
            "\n",
            "              precision    recall  f1-score   support\n",
            "\n",
            "           0       0.66      0.83      0.73      3226\n",
            "           1       0.61      0.53      0.57      3127\n",
            "           2       0.58      0.56      0.57      3142\n",
            "           3       0.76      0.73      0.75      8789\n",
            "\n",
            "    accuracy                           0.69     18284\n",
            "   macro avg       0.65      0.66      0.66     18284\n",
            "weighted avg       0.69      0.69      0.68     18284\n",
            "\n"
          ]
        }
      ],
      "source": [
        "y_pred = model4.predict(X_test)\n",
        "\n",
        "accuracy[\"KNN\"] = accuracy_score(y_test, y_pred)\n",
        "f1[\"KNN\"] = f1_score(y_test, y_pred, average=\"macro\")\n",
        "\n",
        "print(classification_report(y_train, model4.predict(X_train)))\n",
        "print(classification_report(y_test, y_pred))"
      ]
    },
    {
      "cell_type": "code",
      "execution_count": null,
      "metadata": {
        "colab": {
          "base_uri": "https://localhost:8080/"
        },
        "id": "GX9bcyoz-pza",
        "outputId": "b255c7e1-1e23-4c3f-b6b3-99422f13524d"
      },
      "outputs": [
        {
          "name": "stdout",
          "output_type": "stream",
          "text": [
            "Train score: 0.9992967651195499\n",
            "Validation score: 0.7857689783417195\n"
          ]
        }
      ],
      "source": [
        "model5 = DecisionTreeClassifier()\n",
        "model5.fit(X_train,y_train)\n",
        "\n",
        "print(\"Train score:\", model5.score(X_train, y_train))\n",
        "print(\"Validation score:\", model5.score(X_test, y_test))"
      ]
    },
    {
      "cell_type": "code",
      "execution_count": null,
      "metadata": {
        "colab": {
          "base_uri": "https://localhost:8080/"
        },
        "id": "k5OU2W_cB3bt",
        "outputId": "57df6e29-f72e-4eb7-f575-4f9377b608a8"
      },
      "outputs": [
        {
          "name": "stdout",
          "output_type": "stream",
          "text": [
            "              precision    recall  f1-score   support\n",
            "\n",
            "           0       1.00      1.00      1.00      7399\n",
            "           1       1.00      1.00      1.00      7498\n",
            "           2       1.00      1.00      1.00      7483\n",
            "           3       1.00      1.00      1.00     20280\n",
            "\n",
            "    accuracy                           1.00     42660\n",
            "   macro avg       1.00      1.00      1.00     42660\n",
            "weighted avg       1.00      1.00      1.00     42660\n",
            "\n",
            "              precision    recall  f1-score   support\n",
            "\n",
            "           0       0.88      0.86      0.87      3226\n",
            "           1       0.68      0.68      0.68      3127\n",
            "           2       0.68      0.71      0.70      3142\n",
            "           3       0.83      0.82      0.82      8789\n",
            "\n",
            "    accuracy                           0.79     18284\n",
            "   macro avg       0.77      0.77      0.77     18284\n",
            "weighted avg       0.79      0.79      0.79     18284\n",
            "\n"
          ]
        }
      ],
      "source": [
        "y_pred = model5.predict(X_test)\n",
        "\n",
        "accuracy[\"Decision Tree Classifier\"] = accuracy_score(y_test, y_pred)\n",
        "f1[\"Decision Tree Classifier\"] = f1_score(y_test, y_pred, average=\"macro\")\n",
        "\n",
        "print(classification_report(y_train, model5.predict(X_train)))\n",
        "print(classification_report(y_test, y_pred))"
      ]
    },
    {
      "cell_type": "code",
      "execution_count": null,
      "metadata": {
        "colab": {
          "base_uri": "https://localhost:8080/"
        },
        "id": "4iVkuDnrKnTX",
        "outputId": "01f4af68-0b9f-4f9f-d54a-f0d24895d9b1"
      },
      "outputs": [
        {
          "name": "stdout",
          "output_type": "stream",
          "text": [
            "Fitting 5 folds for each of 3 candidates, totalling 15 fits\n",
            "Best parameters scores:\n",
            "{'solver': 'sag'}\n",
            "Train score: 0.61735\n",
            "Validation score: 0.61315\n"
          ]
        }
      ],
      "source": [
        "lr = LogisticRegression(random_state=42, n_jobs=-1)\n",
        "params = {\"solver\": [\"newton-cg\", \"sag\", \"saga\"]}\n",
        "grid = GridSearchCV(lr, params, n_jobs=-1, verbose=5)\n",
        "grid.fit(X_train, y_train)\n",
        "\n",
        "print(\"Best parameters scores:\")\n",
        "print(grid.best_params_)\n",
        "print(\"Train score:\", grid.score(X_train, y_train))\n",
        "print(\"Validation score:\", grid.score(X_test, y_test))"
      ]
    },
    {
      "cell_type": "code",
      "execution_count": null,
      "metadata": {
        "colab": {
          "base_uri": "https://localhost:8080/"
        },
        "id": "6TopD1eUKnI7",
        "outputId": "e26bbca3-885e-4773-84e0-b6910b032fb5"
      },
      "outputs": [
        {
          "name": "stdout",
          "output_type": "stream",
          "text": [
            "Default scores:\n",
            "Train score: 0.6173875\n",
            "Validation score: 0.61305\n"
          ]
        }
      ],
      "source": [
        "print(\"Default scores:\")\n",
        "lr.fit(X_train, y_train)\n",
        "print(\"Train score:\", lr.score(X_train, y_train))\n",
        "print(\"Validation score:\", lr.score(X_test, y_test))"
      ]
    },
    {
      "cell_type": "code",
      "execution_count": null,
      "metadata": {
        "colab": {
          "base_uri": "https://localhost:8080/"
        },
        "id": "tO3ZxvHqKm3F",
        "outputId": "54e4aedd-5e54-49ca-d333-abe48e7fcd92"
      },
      "outputs": [
        {
          "name": "stdout",
          "output_type": "stream",
          "text": [
            "              precision    recall  f1-score   support\n",
            "\n",
            "           0       0.60      0.62      0.61     20007\n",
            "           1       0.70      0.77      0.73     19997\n",
            "           2       0.62      0.64      0.63     19994\n",
            "           3       0.52      0.44      0.48     20002\n",
            "\n",
            "    accuracy                           0.62     80000\n",
            "   macro avg       0.61      0.62      0.61     80000\n",
            "weighted avg       0.61      0.62      0.61     80000\n",
            "\n",
            "              precision    recall  f1-score   support\n",
            "\n",
            "           0       0.60      0.62      0.61      5002\n",
            "           1       0.70      0.76      0.73      4999\n",
            "           2       0.62      0.63      0.63      4998\n",
            "           3       0.51      0.43      0.47      5001\n",
            "\n",
            "    accuracy                           0.61     20000\n",
            "   macro avg       0.61      0.61      0.61     20000\n",
            "weighted avg       0.61      0.61      0.61     20000\n",
            "\n"
          ]
        }
      ],
      "source": [
        "y_pred = lr.predict(X_test)\n",
        "\n",
        "accuracy[\"Logistic Regression\"] = accuracy_score(y_test, y_pred)\n",
        "f1[\"Logistic Regression\"] = f1_score(y_test, y_pred, average=\"macro\")\n",
        "\n",
        "print(classification_report(y_train, lr.predict(X_train)))\n",
        "print(classification_report(y_test, y_pred))"
      ]
    },
    {
      "cell_type": "code",
      "execution_count": null,
      "metadata": {
        "colab": {
          "base_uri": "https://localhost:8080/",
          "height": 426
        },
        "id": "NMgQt5zARQ5b",
        "outputId": "9021e829-2116-468e-b420-29a812fb6701"
      },
      "outputs": [
        {
          "data": {
            "image/png": "[encoded data removed]",
            "text/plain": [
              "<Figure size 576x360 with 2 Axes>"
            ]
          },
          "metadata": {},
          "output_type": "display_data"
        }
      ],
      "source": [
        "y_pred = lr.predict(X_test)\n",
        "confmat = confusion_matrix(y_true=y_test, y_pred=y_pred)\n",
        "\n",
        "index = [\"Actual Severity 1\", \"Actual Severity 2\", \"Actual Severity 3\", \"Actual Severity 4\"]\n",
        "columns = [\"Predicted Severity 1\", \"Predicted Severity 2\", \"Predicted Severity 3\", \"Predicted Severity 4\"]\n",
        "conf_matrix = pd.DataFrame(data=confmat, columns=columns, index=index)\n",
        "plt.figure(figsize=(8, 5))\n",
        "sns.heatmap(conf_matrix, annot=True, fmt=\"d\", cmap=\"YlGnBu\")\n",
        "plt.title(\"Confusion Matrix - Logistic Regression\")\n",
        "plt.show()"
      ]
    },
    {
      "cell_type": "code",
      "execution_count": 41,
      "metadata": {
        "colab": {
          "base_uri": "https://localhost:8080/"
        },
        "id": "NHt7VUhvSIaG",
        "outputId": "d2e954b9-4a80-4f9f-b276-e27aab2e9d99"
      },
      "outputs": [
        {
          "output_type": "stream",
          "name": "stdout",
          "text": [
            "Fitting 5 folds for each of 8 candidates, totalling 40 fits\n",
            "[LibSVM]Best parameters scores:\n",
            "{'C': 0.8, 'degree': 3, 'kernel': 'poly'}\n",
            "Train score: 0.8568875\n",
            "Validation score: 0.73895\n"
          ]
        }
      ],
      "source": [
        "parameters = [{\"kernel\": [\"poly\", \"sigmoid\"],\"C\": [.8, 1.], \"degree\": [ 3, 4]}]\n",
        "svc = svm.SVC(verbose=5, random_state=42)\n",
        "grid = GridSearchCV(svc, parameters, verbose=5, n_jobs=-1)\n",
        "\n",
        "grid.fit(X_train, y_train)\n",
        "\n",
        "print(\"Best parameters scores:\")\n",
        "print(grid.best_params_)\n",
        "print(\"Train score:\", grid.score(X_train, y_train))\n",
        "print(\"Validation score:\", grid.score(X_test, y_test))"
      ]
    },
    {
      "cell_type": "code",
      "execution_count": null,
      "metadata": {
        "id": "C0lL3T8ESIRO"
      },
      "outputs": [],
      "source": [
        "y_pred = svc.predict(X_test)\n",
        "\n",
        "accuracy[\"SVM\"] = accuracy_score(y_test, y_pred)\n",
        "f1[\"SVM\"] = f1_score(y_test, y_pred, average=\"macro\")\n",
        "\n",
        "print(classification_report(y_train, svc.predict(X_train)))\n",
        "print(classification_report(y_test, y_pred))"
      ]
    },
    {
      "cell_type": "code",
      "execution_count": null,
      "metadata": {
        "id": "Oc08V_ivSIHF"
      },
      "outputs": [],
      "source": [
        "y_pred = svc.predict(X_test)\n",
        "confmat = confusion_matrix(y_true=y_test, y_pred=y_pred)\n",
        "\n",
        "index = [\"Actual Severity 1\", \"Actual Severity 2\", \"Actual Severity 3\", \"Actual Severity 4\"]\n",
        "columns = [\"Predicted Severity 1\", \"Predicted Severity 2\", \"Predicted Severity 3\", \"Predicted Severity 4\"]\n",
        "conf_matrix = pd.DataFrame(data=confmat, columns=columns, index=index)\n",
        "plt.figure(figsize=(8, 5))\n",
        "sns.heatmap(conf_matrix, annot=True, fmt=\"d\", cmap=\"YlGnBu\")\n",
        "plt.title(\"Confusion Matrix - Support Vector Machine\")\n",
        "plt.show()"
      ]
    },
    {
      "cell_type": "code",
      "execution_count": null,
      "metadata": {
        "id": "SIQjLJG-SH6q",
        "colab": {
          "base_uri": "https://localhost:8080/"
        },
        "outputId": "d926fd64-d5c8-4c12-cb2c-7eac821e114e"
      },
      "outputs": [
        {
          "output_type": "stream",
          "name": "stdout",
          "text": [
            "Fitting 5 folds for each of 8 candidates, totalling 40 fits\n",
            "Best parameters scores:\n",
            "{'criterion': 'entropy', 'max_depth': 10}\n",
            "Train score: 0.8587875\n",
            "Validation score: 0.83405\n"
          ]
        }
      ],
      "source": [
        "dtc = DecisionTreeClassifier(random_state=42)\n",
        "parameters = [{\"criterion\": [\"gini\", \"entropy\"], \"max_depth\": [5, 10, 15, 30]}]\n",
        "grid = GridSearchCV(dtc, parameters, verbose=5, n_jobs=-1)\n",
        "grid.fit(X_train, y_train)\n",
        "\n",
        "print(\"Best parameters scores:\")\n",
        "print(grid.best_params_)\n",
        "print(\"Train score:\", grid.score(X_train, y_train))\n",
        "print(\"Validation score:\", grid.score(X_test, y_test))"
      ]
    },
    {
      "cell_type": "code",
      "execution_count": null,
      "metadata": {
        "id": "Pbvv6LezklWi",
        "colab": {
          "base_uri": "https://localhost:8080/",
          "height": 380
        },
        "outputId": "713231b3-238f-4a9a-ad3f-ce4e693fa1ad"
      },
      "outputs": [
        {
          "output_type": "error",
          "ename": "NotFittedError",
          "evalue": "ignored",
          "traceback": [
            "\u001b[0;31m---------------------------------------------------------------------------\u001b[0m",
            "\u001b[0;31mNotFittedError\u001b[0m                            Traceback (most recent call last)",
            "\u001b[0;32m<ipython-input-42-9963f58631a4>\u001b[0m in \u001b[0;36m<module>\u001b[0;34m\u001b[0m\n\u001b[0;32m----> 1\u001b[0;31m \u001b[0my_pred\u001b[0m \u001b[0;34m=\u001b[0m \u001b[0mdtc\u001b[0m\u001b[0;34m.\u001b[0m\u001b[0mpredict\u001b[0m\u001b[0;34m(\u001b[0m\u001b[0mX_test\u001b[0m\u001b[0;34m)\u001b[0m\u001b[0;34m\u001b[0m\u001b[0;34m\u001b[0m\u001b[0m\n\u001b[0m\u001b[1;32m      2\u001b[0m \u001b[0;34m\u001b[0m\u001b[0m\n\u001b[1;32m      3\u001b[0m \u001b[0maccuracy\u001b[0m\u001b[0;34m[\u001b[0m\u001b[0;34m\"Decision Tree\"\u001b[0m\u001b[0;34m]\u001b[0m \u001b[0;34m=\u001b[0m \u001b[0maccuracy_score\u001b[0m\u001b[0;34m(\u001b[0m\u001b[0my_test\u001b[0m\u001b[0;34m,\u001b[0m \u001b[0my_pred\u001b[0m\u001b[0;34m)\u001b[0m\u001b[0;34m\u001b[0m\u001b[0;34m\u001b[0m\u001b[0m\n\u001b[1;32m      4\u001b[0m \u001b[0mf1\u001b[0m\u001b[0;34m[\u001b[0m\u001b[0;34m\"Decision Tree\"\u001b[0m\u001b[0;34m]\u001b[0m \u001b[0;34m=\u001b[0m \u001b[0mf1_score\u001b[0m\u001b[0;34m(\u001b[0m\u001b[0my_test\u001b[0m\u001b[0;34m,\u001b[0m \u001b[0my_pred\u001b[0m\u001b[0;34m,\u001b[0m \u001b[0maverage\u001b[0m\u001b[0;34m=\u001b[0m\u001b[0;34m\"macro\"\u001b[0m\u001b[0;34m)\u001b[0m\u001b[0;34m\u001b[0m\u001b[0;34m\u001b[0m\u001b[0m\n\u001b[1;32m      5\u001b[0m \u001b[0;34m\u001b[0m\u001b[0m\n",
            "\u001b[0;32m/usr/local/lib/python3.8/dist-packages/sklearn/tree/_classes.py\u001b[0m in \u001b[0;36mpredict\u001b[0;34m(self, X, check_input)\u001b[0m\n\u001b[1;32m    464\u001b[0m             \u001b[0mThe\u001b[0m \u001b[0mpredicted\u001b[0m \u001b[0mclasses\u001b[0m\u001b[0;34m,\u001b[0m \u001b[0;32mor\u001b[0m \u001b[0mthe\u001b[0m \u001b[0mpredict\u001b[0m \u001b[0mvalues\u001b[0m\u001b[0;34m.\u001b[0m\u001b[0;34m\u001b[0m\u001b[0;34m\u001b[0m\u001b[0m\n\u001b[1;32m    465\u001b[0m         \"\"\"\n\u001b[0;32m--> 466\u001b[0;31m         \u001b[0mcheck_is_fitted\u001b[0m\u001b[0;34m(\u001b[0m\u001b[0mself\u001b[0m\u001b[0;34m)\u001b[0m\u001b[0;34m\u001b[0m\u001b[0;34m\u001b[0m\u001b[0m\n\u001b[0m\u001b[1;32m    467\u001b[0m         \u001b[0mX\u001b[0m \u001b[0;34m=\u001b[0m \u001b[0mself\u001b[0m\u001b[0;34m.\u001b[0m\u001b[0m_validate_X_predict\u001b[0m\u001b[0;34m(\u001b[0m\u001b[0mX\u001b[0m\u001b[0;34m,\u001b[0m \u001b[0mcheck_input\u001b[0m\u001b[0;34m)\u001b[0m\u001b[0;34m\u001b[0m\u001b[0;34m\u001b[0m\u001b[0m\n\u001b[1;32m    468\u001b[0m         \u001b[0mproba\u001b[0m \u001b[0;34m=\u001b[0m \u001b[0mself\u001b[0m\u001b[0;34m.\u001b[0m\u001b[0mtree_\u001b[0m\u001b[0;34m.\u001b[0m\u001b[0mpredict\u001b[0m\u001b[0;34m(\u001b[0m\u001b[0mX\u001b[0m\u001b[0;34m)\u001b[0m\u001b[0;34m\u001b[0m\u001b[0;34m\u001b[0m\u001b[0m\n",
            "\u001b[0;32m/usr/local/lib/python3.8/dist-packages/sklearn/utils/validation.py\u001b[0m in \u001b[0;36mcheck_is_fitted\u001b[0;34m(estimator, attributes, msg, all_or_any)\u001b[0m\n\u001b[1;32m   1220\u001b[0m \u001b[0;34m\u001b[0m\u001b[0m\n\u001b[1;32m   1221\u001b[0m     \u001b[0;32mif\u001b[0m \u001b[0;32mnot\u001b[0m \u001b[0mfitted\u001b[0m\u001b[0;34m:\u001b[0m\u001b[0;34m\u001b[0m\u001b[0;34m\u001b[0m\u001b[0m\n\u001b[0;32m-> 1222\u001b[0;31m         \u001b[0;32mraise\u001b[0m \u001b[0mNotFittedError\u001b[0m\u001b[0;34m(\u001b[0m\u001b[0mmsg\u001b[0m \u001b[0;34m%\u001b[0m \u001b[0;34m{\u001b[0m\u001b[0;34m\"name\"\u001b[0m\u001b[0;34m:\u001b[0m \u001b[0mtype\u001b[0m\u001b[0;34m(\u001b[0m\u001b[0mestimator\u001b[0m\u001b[0;34m)\u001b[0m\u001b[0;34m.\u001b[0m\u001b[0m__name__\u001b[0m\u001b[0;34m}\u001b[0m\u001b[0;34m)\u001b[0m\u001b[0;34m\u001b[0m\u001b[0;34m\u001b[0m\u001b[0m\n\u001b[0m\u001b[1;32m   1223\u001b[0m \u001b[0;34m\u001b[0m\u001b[0m\n\u001b[1;32m   1224\u001b[0m \u001b[0;34m\u001b[0m\u001b[0m\n",
            "\u001b[0;31mNotFittedError\u001b[0m: This DecisionTreeClassifier instance is not fitted yet. Call 'fit' with appropriate arguments before using this estimator."
          ]
        }
      ],
      "source": [
        "y_pred = dtc.predict(X_test)\n",
        "\n",
        "accuracy[\"Decision Tree\"] = accuracy_score(y_test, y_pred)\n",
        "f1[\"Decision Tree\"] = f1_score(y_test, y_pred, average=\"macro\")\n",
        "\n",
        "print(classification_report(y_train, dtc.predict(X_train)))\n",
        "print(classification_report(y_test, y_pred))"
      ]
    },
    {
      "cell_type": "code",
      "execution_count": null,
      "metadata": {
        "id": "3CuymQeFklJV"
      },
      "outputs": [],
      "source": [
        "y_pred = dtc.predict(X_test)\n",
        "confmat = confusion_matrix(y_true=y_test, y_pred=y_pred)\n",
        "\n",
        "index = [\"Actual Severity 1\", \"Actual Severity 2\", \"Actual Severity 3\", \"Actual Severity 4\"]\n",
        "columns = [\"Predicted Severity 1\", \"Predicted Severity 2\", \"Predicted Severity 3\", \"Predicted Severity 4\"]\n",
        "conf_matrix = pd.DataFrame(data=confmat, columns=columns, index=index)\n",
        "plt.figure(figsize=(8, 5))\n",
        "sns.heatmap(conf_matrix, annot=True, fmt=\"d\", cmap=\"YlGnBu\")\n",
        "plt.title(\"Confusion Matrix - Decision Tree\")\n",
        "plt.show()"
      ]
    },
    {
      "cell_type": "code",
      "execution_count": null,
      "metadata": {
        "id": "JLyzP8K4u5Wa",
        "colab": {
          "base_uri": "https://localhost:8080/"
        },
        "outputId": "cbefeafa-5124-46da-95a2-8f641f6f7a44"
      },
      "outputs": [
        {
          "output_type": "stream",
          "name": "stdout",
          "text": [
            "Fitting 5 folds for each of 16 candidates, totalling 80 fits\n"
          ]
        },
        {
          "output_type": "stream",
          "name": "stderr",
          "text": [
            "/usr/local/lib/python3.8/dist-packages/joblib/externals/loky/process_executor.py:700: UserWarning: A worker stopped while some jobs were given to the executor. This can be caused by a too short worker timeout or by a memory leak.\n",
            "  warnings.warn(\n"
          ]
        },
        {
          "output_type": "stream",
          "name": "stdout",
          "text": [
            "Best parameters scores:\n",
            "{'max_depth': 30, 'n_estimators': 200}\n",
            "Train score: 0.9998875\n",
            "Validation score: 0.82615\n"
          ]
        }
      ],
      "source": [
        "rfc = RandomForestClassifier(n_jobs=-1, random_state=42)\n",
        "parameters = [{\"n_estimators\": [50, 100, 200, 500], \"max_depth\": [5, 10, 15, 30]}]\n",
        "grid = GridSearchCV(rfc, parameters, verbose=5, n_jobs=-1)\n",
        "grid.fit(X_train, y_train)\n",
        "\n",
        "print(\"Best parameters scores:\")\n",
        "print(grid.best_params_)\n",
        "print(\"Train score:\", grid.score(X_train, y_train))\n",
        "print(\"Validation score:\", grid.score(X_test, y_test))"
      ]
    },
    {
      "cell_type": "code",
      "execution_count": null,
      "metadata": {
        "id": "AbPR7Tf7u5Tn",
        "colab": {
          "base_uri": "https://localhost:8080/",
          "height": 235
        },
        "outputId": "40e73afd-2fa9-4a6c-c71c-6931dedf4dd5"
      },
      "outputs": [
        {
          "output_type": "error",
          "ename": "NameError",
          "evalue": "ignored",
          "traceback": [
            "\u001b[0;31m---------------------------------------------------------------------------\u001b[0m",
            "\u001b[0;31mNameError\u001b[0m                                 Traceback (most recent call last)",
            "\u001b[0;32m<ipython-input-43-d7a2c2e951ff>\u001b[0m in \u001b[0;36m<module>\u001b[0;34m\u001b[0m\n\u001b[0;32m----> 1\u001b[0;31m \u001b[0my_pred\u001b[0m \u001b[0;34m=\u001b[0m \u001b[0mrfc\u001b[0m\u001b[0;34m.\u001b[0m\u001b[0mpredict\u001b[0m\u001b[0;34m(\u001b[0m\u001b[0mX_test\u001b[0m\u001b[0;34m)\u001b[0m\u001b[0;34m\u001b[0m\u001b[0;34m\u001b[0m\u001b[0m\n\u001b[0m\u001b[1;32m      2\u001b[0m \u001b[0;34m\u001b[0m\u001b[0m\n\u001b[1;32m      3\u001b[0m \u001b[0maccuracy\u001b[0m\u001b[0;34m[\u001b[0m\u001b[0;34m\"Random Forest\"\u001b[0m\u001b[0;34m]\u001b[0m \u001b[0;34m=\u001b[0m \u001b[0maccuracy_score\u001b[0m\u001b[0;34m(\u001b[0m\u001b[0my_test\u001b[0m\u001b[0;34m,\u001b[0m \u001b[0my_pred\u001b[0m\u001b[0;34m)\u001b[0m\u001b[0;34m\u001b[0m\u001b[0;34m\u001b[0m\u001b[0m\n\u001b[1;32m      4\u001b[0m \u001b[0mf1\u001b[0m\u001b[0;34m[\u001b[0m\u001b[0;34m\"Random Forest\"\u001b[0m\u001b[0;34m]\u001b[0m \u001b[0;34m=\u001b[0m \u001b[0mf1_score\u001b[0m\u001b[0;34m(\u001b[0m\u001b[0my_test\u001b[0m\u001b[0;34m,\u001b[0m \u001b[0my_pred\u001b[0m\u001b[0;34m,\u001b[0m \u001b[0maverage\u001b[0m\u001b[0;34m=\u001b[0m\u001b[0;34m\"macro\"\u001b[0m\u001b[0;34m)\u001b[0m\u001b[0;34m\u001b[0m\u001b[0;34m\u001b[0m\u001b[0m\n\u001b[1;32m      5\u001b[0m \u001b[0;34m\u001b[0m\u001b[0m\n",
            "\u001b[0;31mNameError\u001b[0m: name 'rfc' is not defined"
          ]
        }
      ],
      "source": [
        "y_pred = rfc.predict(X_test)\n",
        "\n",
        "accuracy[\"Random Forest\"] = accuracy_score(y_test, y_pred)\n",
        "f1[\"Random Forest\"] = f1_score(y_test, y_pred, average=\"macro\")\n",
        "\n",
        "print(classification_report(y_train, rfc.predict(X_train)))\n",
        "print(classification_report(y_test, y_pred))"
      ]
    },
    {
      "cell_type": "code",
      "execution_count": null,
      "metadata": {
        "id": "55iiVGkwu5Qe"
      },
      "outputs": [],
      "source": [
        "y_pred = rfc.predict(X_test)\n",
        "confmat = confusion_matrix(y_true=y_test, y_pred=y_pred)\n",
        "\n",
        "index = [\"Actual Severity 1\", \"Actual Severity 2\", \"Actual Severity 3\", \"Actual Severity 4\"]\n",
        "columns = [\"Predicted Severity 1\", \"Predicted Severity 2\", \"Predicted Severity 3\", \"Predicted Severity 4\"]\n",
        "conf_matrix = pd.DataFrame(data=confmat, columns=columns, index=index)\n",
        "plt.figure(figsize=(8, 5))\n",
        "sns.heatmap(conf_matrix, annot=True, fmt=\"d\", cmap=\"YlGnBu\")\n",
        "plt.title(\"Confusion Matrix - Random Forest\")\n",
        "plt.show()"
      ]
    },
    {
      "cell_type": "code",
      "execution_count": 43,
      "metadata": {
        "id": "9wTvNP8uxjWK",
        "colab": {
          "base_uri": "https://localhost:8080/"
        },
        "outputId": "a1c6b525-67e7-4463-d372-b4810c1bce10"
      },
      "outputs": [
        {
          "output_type": "stream",
          "name": "stdout",
          "text": [
            "Fitting 5 folds for each of 12 candidates, totalling 60 fits\n"
          ]
        },
        {
          "output_type": "stream",
          "name": "stderr",
          "text": [
            "/usr/local/lib/python3.8/dist-packages/joblib/externals/loky/process_executor.py:700: UserWarning: A worker stopped while some jobs were given to the executor. This can be caused by a too short worker timeout or by a memory leak.\n",
            "  warnings.warn(\n"
          ]
        },
        {
          "output_type": "stream",
          "name": "stdout",
          "text": [
            "Best parameters scores:\n",
            "{'algorithm': 'ball_tree', 'leaf_size': 50, 'weights': 'uniform'}\n",
            "Train score: 0.773175\n",
            "Validation score: 0.64285\n"
          ]
        }
      ],
      "source": [
        "knn= KNeighborsClassifier(n_jobs=-1)\n",
        "parameters = [{\"leaf_size\": [50, 100], \"weights\": [\"uniform\", \"distance\"], \"algorithm\":[\"ball_tree\", \"kd_tree\", \"brute\"]}]\n",
        "grid = GridSearchCV(knn, parameters, verbose=5, n_jobs=-1)\n",
        "grid.fit(X_train, y_train)\n",
        "\n",
        "print(\"Best parameters scores:\")\n",
        "print(grid.best_params_)\n",
        "print(\"Train score:\", grid.score(X_train, y_train))\n",
        "print(\"Validation score:\", grid.score(X_test, y_test))"
      ]
    },
    {
      "cell_type": "code",
      "execution_count": null,
      "metadata": {
        "colab": {
          "base_uri": "https://localhost:8080/"
        },
        "id": "qoOGQ4SzKeOs",
        "outputId": "9842e875-b7f3-4540-93c1-6fd5cf70be6c"
      },
      "outputs": [
        {
          "data": {
            "text/plain": [
              "(1898582,)"
            ]
          },
          "execution_count": 50,
          "metadata": {},
          "output_type": "execute_result"
        }
      ],
      "source": [
        "y_train.shape"
      ]
    },
    {
      "cell_type": "code",
      "execution_count": null,
      "metadata": {
        "colab": {
          "base_uri": "https://localhost:8080/"
        },
        "id": "J-tjMl8hSDhh",
        "outputId": "e0b9727d-c9ed-4e62-af15-94594dc5588b"
      },
      "outputs": [
        {
          "name": "stdout",
          "output_type": "stream",
          "text": [
            "Epoch 1/30\n",
            "20766/20766 [==============================] - 53s 2ms/step - loss: 3.0014 - accuracy: 0.2496 - val_loss: 2.9968 - val_accuracy: 0.2510 - lr: 0.0100\n",
            "Epoch 2/30\n",
            "20766/20766 [==============================] - 60s 3ms/step - loss: 3.0014 - accuracy: 0.2496 - val_loss: 2.9968 - val_accuracy: 0.2510 - lr: 0.0100\n",
            "Epoch 3/30\n",
            "20766/20766 [==============================] - 53s 3ms/step - loss: 3.0014 - accuracy: 0.2496 - val_loss: 2.9968 - val_accuracy: 0.2510 - lr: 0.0100\n",
            "Epoch 4/30\n",
            "20766/20766 [==============================] - 56s 3ms/step - loss: 3.0014 - accuracy: 0.2496 - val_loss: 2.9968 - val_accuracy: 0.2510 - lr: 0.0100\n"
          ]
        }
      ],
      "source": [
        "inputs = tf.keras.Input(shape=(X.shape[1],))\n",
        "x = tf.keras.layers.Dense(64, activation='relu')(inputs)\n",
        "x = tf.keras.layers.Dense(64, activation='relu')(x)\n",
        "x = tf.keras.layers.Dense(32, activation='relu')(x)\n",
        "x = tf.keras.layers.Dense(32, activation='relu')(x)\n",
        "x = tf.keras.layers.Dense(16, activation='relu')(x)\n",
        "x = tf.keras.layers.Dense(8, activation='relu')(x)\n",
        "\n",
        "\n",
        "outputs = tf.keras.layers.Dense(4, activation='softmax')(x)\n",
        "\n",
        "model = tf.keras.Model(inputs, outputs)\n",
        "\n",
        "model.compile(\n",
        "    optimizer='SGD',\n",
        "    loss='mse',\n",
        "    metrics=['accuracy']\n",
        "    \n",
        ")\n",
        "\n",
        "batch_size = 64\n",
        "epochs = 30\n",
        "\n",
        "history = model.fit(\n",
        "    X_train,\n",
        "    y_train,\n",
        "    validation_split=0.3,\n",
        "    batch_size=batch_size,\n",
        "    epochs=epochs,\n",
        "    callbacks=[\n",
        "        tf.keras.callbacks.ReduceLROnPlateau(),\n",
        "        tf.keras.callbacks.EarlyStopping(\n",
        "            monitor='val_loss',\n",
        "            patience=3,\n",
        "            restore_best_weights=True\n",
        "        )\n",
        "    ]\n",
        ")"
      ]
    },
    {
      "cell_type": "code",
      "execution_count": null,
      "metadata": {
        "colab": {
          "base_uri": "https://localhost:8080/"
        },
        "id": "5oC-fGpmNH-5",
        "outputId": "ac44daa6-1a79-44d4-daf6-6f701235fed1"
      },
      "outputs": [
        {
          "name": "stdout",
          "output_type": "stream",
          "text": [
            "Test Accuracy: 0.7763618230819702\n"
          ]
        }
      ],
      "source": [
        "print(\"Test Accuracy:\", model.evaluate(X_test, y_test, verbose=0)[1])"
      ]
    },
    {
      "cell_type": "code",
      "execution_count": null,
      "metadata": {
        "colab": {
          "base_uri": "https://localhost:8080/"
        },
        "id": "jin8LeVFOkfD",
        "outputId": "cdaad0be-ef6f-48ae-db87-e699e2424998"
      },
      "outputs": [
        {
          "name": "stdout",
          "output_type": "stream",
          "text": [
            "Fitting 5 folds for each of 24 candidates, totalling 120 fits\n",
            "Best parameters scores:\n",
            "{'algorithm': 'SAMME.R', 'learning_rate': 0.0001, 'n_estimators': 2000}\n",
            "Train score: 0.96\n",
            "Validation score: 0.15838984904834827\n"
          ]
        }
      ],
      "source": [
        "model6= AdaBoostClassifier()\n",
        "search_grid= {'n_estimators':[1000,2000,3000], 'learning_rate':[0.0001, 0.001, 0.01, 0.1],\n",
        "              \"algorithm\" : [\"SAMME\",\"SAMME.R\"]}\n",
        "gridAda = GridSearchCV(model6,param_grid = search_grid,verbose=5, n_jobs=-1)\n",
        "gridAda.fit(X_train,y_train)\n",
        "print(\"Best parameters scores:\")\n",
        "print(gridAda.best_params_)\n",
        "print(\"Train score:\", gridAda.score(X_train, y_train))\n",
        "print(\"Validation score:\", gridAda.score(X_test, y_test))"
      ]
    },
    {
      "cell_type": "code",
      "execution_count": null,
      "metadata": {
        "colab": {
          "base_uri": "https://localhost:8080/"
        },
        "id": "OxvINhfOHC33",
        "outputId": "c24d29b8-2475-47f6-e995-86b5f7e3d42c"
      },
      "outputs": [
        {
          "name": "stderr",
          "output_type": "stream",
          "text": [
            "/usr/local/lib/python3.7/dist-packages/sklearn/metrics/_classification.py:1318: UndefinedMetricWarning: Precision and F-score are ill-defined and being set to 0.0 in labels with no predicted samples. Use `zero_division` parameter to control this behavior.\n",
            "  _warn_prf(average, modifier, msg_start, len(result))\n",
            "/usr/local/lib/python3.7/dist-packages/sklearn/metrics/_classification.py:1318: UndefinedMetricWarning: Precision and F-score are ill-defined and being set to 0.0 in labels with no predicted samples. Use `zero_division` parameter to control this behavior.\n",
            "  _warn_prf(average, modifier, msg_start, len(result))\n",
            "/usr/local/lib/python3.7/dist-packages/sklearn/metrics/_classification.py:1318: UndefinedMetricWarning: Precision and F-score are ill-defined and being set to 0.0 in labels with no predicted samples. Use `zero_division` parameter to control this behavior.\n",
            "  _warn_prf(average, modifier, msg_start, len(result))\n",
            "/usr/local/lib/python3.7/dist-packages/sklearn/metrics/_classification.py:1318: UndefinedMetricWarning: Precision and F-score are ill-defined and being set to 0.0 in labels with no predicted samples. Use `zero_division` parameter to control this behavior.\n",
            "  _warn_prf(average, modifier, msg_start, len(result))\n"
          ]
        },
        {
          "name": "stdout",
          "output_type": "stream",
          "text": [
            "              precision    recall  f1-score   support\n",
            "\n",
            "           1       0.00      0.00      0.00      8501\n",
            "           2       0.94      1.00      0.97    711553\n",
            "           3       0.00      0.00      0.00     10976\n",
            "           4       0.00      0.00      0.00     23398\n",
            "\n",
            "    accuracy                           0.94    754428\n",
            "   macro avg       0.24      0.25      0.24    754428\n",
            "weighted avg       0.89      0.94      0.92    754428\n",
            "\n",
            "              precision    recall  f1-score   support\n",
            "\n",
            "           1       0.00      0.00      0.00      2124\n",
            "           2       0.94      1.00      0.97    178075\n",
            "           3       0.00      0.00      0.00      2737\n",
            "           4       0.00      0.00      0.00      5671\n",
            "\n",
            "    accuracy                           0.94    188607\n",
            "   macro avg       0.24      0.25      0.24    188607\n",
            "weighted avg       0.89      0.94      0.92    188607\n",
            "\n"
          ]
        },
        {
          "name": "stderr",
          "output_type": "stream",
          "text": [
            "/usr/local/lib/python3.7/dist-packages/sklearn/metrics/_classification.py:1318: UndefinedMetricWarning: Precision and F-score are ill-defined and being set to 0.0 in labels with no predicted samples. Use `zero_division` parameter to control this behavior.\n",
            "  _warn_prf(average, modifier, msg_start, len(result))\n",
            "/usr/local/lib/python3.7/dist-packages/sklearn/metrics/_classification.py:1318: UndefinedMetricWarning: Precision and F-score are ill-defined and being set to 0.0 in labels with no predicted samples. Use `zero_division` parameter to control this behavior.\n",
            "  _warn_prf(average, modifier, msg_start, len(result))\n"
          ]
        }
      ],
      "source": [
        "y_pred = model.predict(X_test)\n",
        "\n",
        "accuracy[\"Logistic Regression\"] = accuracy_score(y_test, y_pred)\n",
        "f1[\"Logistic Regression\"] = f1_score(y_test, y_pred, average=\"macro\")\n",
        "\n",
        "print(classification_report(y_train, model.predict(X_train)))\n",
        "print(classification_report(y_test, y_pred))"
      ]
    },
    {
      "cell_type": "code",
      "execution_count": null,
      "metadata": {
        "id": "bAhBx64vH3vW"
      },
      "outputs": [],
      "source": []
    },
    {
      "cell_type": "code",
      "execution_count": null,
      "metadata": {
        "id": "Y5GhCrinmuer"
      },
      "outputs": [],
      "source": [
        "def get_years(data, column):\n",
        "    return data[column].apply(lambda date: date[0:4])\n",
        "\n",
        "def get_months(data, column):\n",
        "    return data[column].apply(lambda date: date[5:7])"
      ]
    },
    {
      "cell_type": "code",
      "execution_count": null,
      "metadata": {
        "id": "R3fiOPee-xHH"
      },
      "outputs": [],
      "source": [
        "null_columns = ['End_Lat', 'End_Lng', 'Number', 'Wind_Chill(F)', 'Precipitation(in)']\n",
        "\n",
        "df = df.drop(null_columns, axis=1)\n",
        "\n"
      ]
    },
    {
      "cell_type": "code",
      "execution_count": null,
      "metadata": {
        "id": "Lw-BXkq4Uao8"
      },
      "outputs": [],
      "source": [
        "# Class count\n",
        "count_class_1, count_class_2, count_class_3, count_class_4  = df.Severity.value_counts()\n",
        "\n",
        "# Divide by class\n",
        "df_class_1 = df[df['Severity'] == 1]\n",
        "df_class_2 = df[df['Severity'] == 2]\n",
        "df_class_3 = df[df['Severity'] == 3]\n",
        "df_class_4 = df[df['Severity'] == 4]"
      ]
    },
    {
      "cell_type": "code",
      "execution_count": null,
      "metadata": {
        "colab": {
          "base_uri": "https://localhost:8080/"
        },
        "id": "-jEKYraCbmdR",
        "outputId": "e97cb2c6-7042-4765-a837-3ccbf4a5fd8d"
      },
      "outputs": [
        {
          "data": {
            "text/plain": [
              "(593284, 13946, 8749, 7242)"
            ]
          },
          "execution_count": 44,
          "metadata": {},
          "output_type": "execute_result"
        }
      ],
      "source": [
        "count_class_1, count_class_2,count_class_3, count_class_4"
      ]
    },
    {
      "cell_type": "code",
      "execution_count": null,
      "metadata": {
        "colab": {
          "base_uri": "https://localhost:8080/"
        },
        "id": "TtDIV5Izbrc7",
        "outputId": "b7e9a2b0-621a-4f35-a48f-98326341aef7"
      },
      "outputs": [
        {
          "data": {
            "text/plain": [
              "13713"
            ]
          },
          "execution_count": 35,
          "metadata": {},
          "output_type": "execute_result"
        }
      ],
      "source": [
        "count_class_3"
      ]
    },
    {
      "cell_type": "code",
      "execution_count": null,
      "metadata": {
        "colab": {
          "base_uri": "https://localhost:8080/"
        },
        "id": "Uc96yVgDapGd",
        "outputId": "b42e76cf-972a-4cf1-e8c4-eb602b427d05"
      },
      "outputs": [
        {
          "name": "stdout",
          "output_type": "stream",
          "text": [
            "Random under-sampling:\n",
            "4    29069\n",
            "1    10625\n",
            "2    10625\n",
            "3    10625\n",
            "Name: Severity, dtype: int64\n"
          ]
        }
      ],
      "source": [
        "# Undersample 0-class and concat the DataFrames of both class\n",
        "df_class_1_under = df_class_1.sample(count_class_4)\n",
        "df_class_2_under = df_class_2.sample(count_class_4)\n",
        "df_class_3_under = df_class_3.sample(count_class_4)\n",
        "df_test_under = pd.concat([df_class_1_under, df_class_2_under, df_class_3_under, df_class_4], axis=0)\n",
        "\n",
        "\n",
        "print('Random under-sampling:')\n",
        "print(df_test_under.Severity.value_counts())"
      ]
    }
  ],
  "metadata": {
    "colab": {
      "collapsed_sections": [
        "JnLZrBsNpqwS",
        "7TKT4RdL14L5",
        "0v1EL-PgA8ty"
      ],
      "provenance": [],
      "include_colab_link": true
    },
    "kernelspec": {
      "display_name": "Python 3",
      "name": "python3"
    },
    "language_info": {
      "name": "python"
    }
  },
  "nbformat": 4,
  "nbformat_minor": 0
}